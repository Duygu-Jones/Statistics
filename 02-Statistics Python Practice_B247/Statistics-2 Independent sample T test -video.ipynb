{
 "cells": [
  {
   "cell_type": "markdown",
   "id": "b62281f0",
   "metadata": {
    "ExecuteTime": {
     "end_time": "2023-07-03T15:54:16.815042Z",
     "start_time": "2023-07-03T15:54:16.802785Z"
    }
   },
   "source": [
    "# Independent Samples T Test"
   ]
  },
  {
   "cell_type": "markdown",
   "id": "e1be9a8a",
   "metadata": {},
   "source": [
    "## Example -1"
   ]
  },
  {
   "cell_type": "markdown",
   "id": "951f0664",
   "metadata": {},
   "source": [
    "- İçme suyundaki arsenic konsantrasyonu  sağlık açısından tehlikelidir. Phoenix ve Arizona daki 10 bölge için bu arsenic değeri ppb (parts per billion)  raporlarda verilmiştir. bu rapor csv dosyasında verilmiştir \n",
    "- Ortalama arsenic konsatnrasyonu açısından Phoenix ve Arizona arasında istatistiksel olarak anlamlı bir fark var mıdır ?\n",
    "\n",
    "- Ho: ortalamalar arasında fark yoktur\n",
    "- H1: ortalamalar arasında fark vardır"
   ]
  },
  {
   "cell_type": "code",
   "execution_count": null,
   "id": "e4d66f4c",
   "metadata": {},
   "outputs": [],
   "source": [
    "# indepent t test..  çünkü 2 tane independent grup var\n",
    "# https://docs.scipy.org/doc/scipy/reference/generated/scipy.stats.ttest_ind.html#scipy.stats.ttest_ind"
   ]
  },
  {
   "cell_type": "code",
   "execution_count": 4,
   "id": "5dbb39ea",
   "metadata": {
    "ExecuteTime": {
     "end_time": "2023-07-03T16:05:53.096578Z",
     "start_time": "2023-07-03T16:05:53.085044Z"
    }
   },
   "outputs": [],
   "source": [
    "import pandas as pd\n",
    "import scipy.stats as stats"
   ]
  },
  {
   "cell_type": "code",
   "execution_count": 5,
   "id": "2bd28a83",
   "metadata": {
    "ExecuteTime": {
     "end_time": "2023-07-03T16:06:18.442645Z",
     "start_time": "2023-07-03T16:06:18.420309Z"
    }
   },
   "outputs": [
    {
     "data": {
      "text/html": [
       "<div>\n",
       "<style scoped>\n",
       "    .dataframe tbody tr th:only-of-type {\n",
       "        vertical-align: middle;\n",
       "    }\n",
       "\n",
       "    .dataframe tbody tr th {\n",
       "        vertical-align: top;\n",
       "    }\n",
       "\n",
       "    .dataframe thead th {\n",
       "        text-align: right;\n",
       "    }\n",
       "</style>\n",
       "<table border=\"1\" class=\"dataframe\">\n",
       "  <thead>\n",
       "    <tr style=\"text-align: right;\">\n",
       "      <th></th>\n",
       "      <th>Metro Phoenix</th>\n",
       "      <th>x1</th>\n",
       "      <th>Rural Arizona</th>\n",
       "      <th>x2</th>\n",
       "    </tr>\n",
       "  </thead>\n",
       "  <tbody>\n",
       "    <tr>\n",
       "      <th>0</th>\n",
       "      <td>Phoenix</td>\n",
       "      <td>3</td>\n",
       "      <td>Rimrock</td>\n",
       "      <td>48</td>\n",
       "    </tr>\n",
       "    <tr>\n",
       "      <th>1</th>\n",
       "      <td>Chandler</td>\n",
       "      <td>7</td>\n",
       "      <td>Goodyear</td>\n",
       "      <td>44</td>\n",
       "    </tr>\n",
       "    <tr>\n",
       "      <th>2</th>\n",
       "      <td>Gilbert</td>\n",
       "      <td>25</td>\n",
       "      <td>New River</td>\n",
       "      <td>40</td>\n",
       "    </tr>\n",
       "    <tr>\n",
       "      <th>3</th>\n",
       "      <td>Glendale</td>\n",
       "      <td>10</td>\n",
       "      <td>Apache Junction</td>\n",
       "      <td>38</td>\n",
       "    </tr>\n",
       "    <tr>\n",
       "      <th>4</th>\n",
       "      <td>Mesa</td>\n",
       "      <td>15</td>\n",
       "      <td>Buckeye</td>\n",
       "      <td>33</td>\n",
       "    </tr>\n",
       "    <tr>\n",
       "      <th>5</th>\n",
       "      <td>Paradise Valley</td>\n",
       "      <td>6</td>\n",
       "      <td>Nogales</td>\n",
       "      <td>21</td>\n",
       "    </tr>\n",
       "    <tr>\n",
       "      <th>6</th>\n",
       "      <td>Peoria</td>\n",
       "      <td>12</td>\n",
       "      <td>Black Canyon City</td>\n",
       "      <td>20</td>\n",
       "    </tr>\n",
       "    <tr>\n",
       "      <th>7</th>\n",
       "      <td>Scottsdale</td>\n",
       "      <td>25</td>\n",
       "      <td>Sedona</td>\n",
       "      <td>12</td>\n",
       "    </tr>\n",
       "    <tr>\n",
       "      <th>8</th>\n",
       "      <td>Tempe</td>\n",
       "      <td>15</td>\n",
       "      <td>Payson</td>\n",
       "      <td>1</td>\n",
       "    </tr>\n",
       "    <tr>\n",
       "      <th>9</th>\n",
       "      <td>Sun City</td>\n",
       "      <td>7</td>\n",
       "      <td>Casa Grande</td>\n",
       "      <td>18</td>\n",
       "    </tr>\n",
       "  </tbody>\n",
       "</table>\n",
       "</div>"
      ],
      "text/plain": [
       "     Metro Phoenix  x1      Rural Arizona  x2\n",
       "0          Phoenix   3            Rimrock  48\n",
       "1         Chandler   7           Goodyear  44\n",
       "2          Gilbert  25          New River  40\n",
       "3         Glendale  10    Apache Junction  38\n",
       "4             Mesa  15            Buckeye  33\n",
       "5  Paradise Valley   6            Nogales  21\n",
       "6           Peoria  12  Black Canyon City  20\n",
       "7       Scottsdale  25             Sedona  12\n",
       "8            Tempe  15             Payson   1\n",
       "9         Sun City   7        Casa Grande  18"
      ]
     },
     "execution_count": 5,
     "metadata": {},
     "output_type": "execute_result"
    }
   ],
   "source": [
    "# arsenic datasını cagıralım\n",
    "\n",
    "df = pd.read_csv(\"arsenic.csv\")\n",
    "df"
   ]
  },
  {
   "cell_type": "code",
   "execution_count": 6,
   "id": "817137e2",
   "metadata": {
    "ExecuteTime": {
     "end_time": "2023-07-03T16:07:24.208046Z",
     "start_time": "2023-07-03T16:07:24.190077Z"
    }
   },
   "outputs": [
    {
     "data": {
      "text/plain": [
       "12.5"
      ]
     },
     "execution_count": 6,
     "metadata": {},
     "output_type": "execute_result"
    }
   ],
   "source": [
    "#phoneix ortalama arsenic degeri \n",
    "df[\"x1\"].mean()"
   ]
  },
  {
   "cell_type": "code",
   "execution_count": 8,
   "id": "9c0530d1",
   "metadata": {
    "ExecuteTime": {
     "end_time": "2023-07-03T16:07:49.127729Z",
     "start_time": "2023-07-03T16:07:49.118942Z"
    }
   },
   "outputs": [
    {
     "data": {
      "text/plain": [
       "27.5"
      ]
     },
     "execution_count": 8,
     "metadata": {},
     "output_type": "execute_result"
    }
   ],
   "source": [
    "#arizona ortalama arsenic degeri \n",
    "df[\"x2\"].mean()"
   ]
  },
  {
   "cell_type": "code",
   "execution_count": null,
   "id": "f919b8f8",
   "metadata": {},
   "outputs": [],
   "source": [
    "# 12.5 ve 27.5 arasındaki ark anlamlı mı ?"
   ]
  },
  {
   "cell_type": "code",
   "execution_count": 9,
   "id": "a60e5f0c",
   "metadata": {
    "ExecuteTime": {
     "end_time": "2023-07-03T16:09:39.162267Z",
     "start_time": "2023-07-03T16:09:39.140900Z"
    }
   },
   "outputs": [
    {
     "data": {
      "text/plain": [
       "Ttest_indResult(statistic=-2.7669395785560553, pvalue=0.012704425122128032)"
      ]
     },
     "execution_count": 9,
     "metadata": {},
     "output_type": "execute_result"
    }
   ],
   "source": [
    "# ttest_ind fonksiyonu kullanıyoruz..  dokumanda a,b isteniyor\n",
    "# a,b arsenic degerleridir\n",
    "\n",
    "indTest = stats.ttest_ind(df[\"x1\"], df[\"x2\"])\n",
    "indTest"
   ]
  },
  {
   "cell_type": "code",
   "execution_count": 10,
   "id": "68eb4abe",
   "metadata": {
    "ExecuteTime": {
     "end_time": "2023-07-03T16:10:12.101735Z",
     "start_time": "2023-07-03T16:10:12.089136Z"
    }
   },
   "outputs": [
    {
     "data": {
      "text/plain": [
       "-2.7669395785560553"
      ]
     },
     "execution_count": 10,
     "metadata": {},
     "output_type": "execute_result"
    }
   ],
   "source": [
    "# t skoru\n",
    "\n",
    "indTest.statistic"
   ]
  },
  {
   "cell_type": "code",
   "execution_count": 11,
   "id": "d5ab49d6",
   "metadata": {
    "ExecuteTime": {
     "end_time": "2023-07-03T16:10:28.392656Z",
     "start_time": "2023-07-03T16:10:28.379331Z"
    }
   },
   "outputs": [
    {
     "data": {
      "text/plain": [
       "0.012704425122128032"
      ]
     },
     "execution_count": 11,
     "metadata": {},
     "output_type": "execute_result"
    }
   ],
   "source": [
    "# p-value\n",
    "indTest.pvalue"
   ]
  },
  {
   "cell_type": "code",
   "execution_count": null,
   "id": "0c981e5c",
   "metadata": {},
   "outputs": [],
   "source": [
    "# alpha ve p value karsılastırması\n",
    "\n"
   ]
  },
  {
   "cell_type": "code",
   "execution_count": 12,
   "id": "3f2487d3",
   "metadata": {
    "ExecuteTime": {
     "end_time": "2023-07-03T16:11:16.563803Z",
     "start_time": "2023-07-03T16:11:16.542341Z"
    }
   },
   "outputs": [
    {
     "name": "stdout",
     "output_type": "stream",
     "text": [
      "Reject the Null\n"
     ]
    }
   ],
   "source": [
    "alpha = 0.05\n",
    "\n",
    "if indTest.pvalue < alpha:\n",
    "    print(\"Reject the Null\")\n",
    "else:\n",
    "    print(\"Fail to reject\")"
   ]
  },
  {
   "cell_type": "code",
   "execution_count": null,
   "id": "388d3805",
   "metadata": {},
   "outputs": [],
   "source": [
    "# ortalamalar arasındaki fark istatiksel olarak anlamlıdır"
   ]
  },
  {
   "cell_type": "markdown",
   "id": "90c96e62",
   "metadata": {},
   "source": [
    "# Dependent T test (paired Test)\n"
   ]
  },
  {
   "cell_type": "markdown",
   "id": "d2673324",
   "metadata": {},
   "source": [
    "## Example -2 - Prozac"
   ]
  },
  {
   "cell_type": "markdown",
   "id": "07462ea8",
   "metadata": {},
   "source": [
    "Depresyonlu bireylerin üzerinde bir antidepresan olarak Prozac etkisini inceliyoruz. \n",
    "Likert tipi ölçekle 0-20 arası değerlendirme yapılmıştır. Bu ölçekteki düşük değerlerin etkisi az, yüksek değerlerin etkisi fazla demektir. Tablodaki moodpre sütunu tedavi öncesi ölçüm olup, moodpost ise tedavs nonrası ölçüm değeridir. 9 kişi üzerinde test yapılmıştır. + değere sahip olan differences satırlarında iyileşme olmuş demektir. \n",
    "Prozac antidepresan etkisine sahip midir ?"
   ]
  },
  {
   "cell_type": "markdown",
   "id": "a76b7a7f",
   "metadata": {},
   "source": [
    "alpha   0.05 durumuna göre farklar anlamlı mıdır ? "
   ]
  },
  {
   "cell_type": "code",
   "execution_count": 14,
   "id": "6c85fdb8",
   "metadata": {
    "ExecuteTime": {
     "end_time": "2023-07-03T16:14:18.646724Z",
     "start_time": "2023-07-03T16:14:18.621256Z"
    }
   },
   "outputs": [
    {
     "data": {
      "text/html": [
       "<div>\n",
       "<style scoped>\n",
       "    .dataframe tbody tr th:only-of-type {\n",
       "        vertical-align: middle;\n",
       "    }\n",
       "\n",
       "    .dataframe tbody tr th {\n",
       "        vertical-align: top;\n",
       "    }\n",
       "\n",
       "    .dataframe thead th {\n",
       "        text-align: right;\n",
       "    }\n",
       "</style>\n",
       "<table border=\"1\" class=\"dataframe\">\n",
       "  <thead>\n",
       "    <tr style=\"text-align: right;\">\n",
       "      <th></th>\n",
       "      <th>moodpre</th>\n",
       "      <th>moodpost</th>\n",
       "      <th>difference</th>\n",
       "    </tr>\n",
       "  </thead>\n",
       "  <tbody>\n",
       "    <tr>\n",
       "      <th>0</th>\n",
       "      <td>3</td>\n",
       "      <td>5</td>\n",
       "      <td>2</td>\n",
       "    </tr>\n",
       "    <tr>\n",
       "      <th>1</th>\n",
       "      <td>0</td>\n",
       "      <td>1</td>\n",
       "      <td>1</td>\n",
       "    </tr>\n",
       "    <tr>\n",
       "      <th>2</th>\n",
       "      <td>6</td>\n",
       "      <td>5</td>\n",
       "      <td>-1</td>\n",
       "    </tr>\n",
       "    <tr>\n",
       "      <th>3</th>\n",
       "      <td>7</td>\n",
       "      <td>7</td>\n",
       "      <td>0</td>\n",
       "    </tr>\n",
       "    <tr>\n",
       "      <th>4</th>\n",
       "      <td>4</td>\n",
       "      <td>10</td>\n",
       "      <td>6</td>\n",
       "    </tr>\n",
       "    <tr>\n",
       "      <th>5</th>\n",
       "      <td>3</td>\n",
       "      <td>9</td>\n",
       "      <td>6</td>\n",
       "    </tr>\n",
       "    <tr>\n",
       "      <th>6</th>\n",
       "      <td>2</td>\n",
       "      <td>7</td>\n",
       "      <td>5</td>\n",
       "    </tr>\n",
       "    <tr>\n",
       "      <th>7</th>\n",
       "      <td>1</td>\n",
       "      <td>11</td>\n",
       "      <td>10</td>\n",
       "    </tr>\n",
       "    <tr>\n",
       "      <th>8</th>\n",
       "      <td>4</td>\n",
       "      <td>8</td>\n",
       "      <td>4</td>\n",
       "    </tr>\n",
       "  </tbody>\n",
       "</table>\n",
       "</div>"
      ],
      "text/plain": [
       "   moodpre  moodpost  difference\n",
       "0        3         5           2\n",
       "1        0         1           1\n",
       "2        6         5          -1\n",
       "3        7         7           0\n",
       "4        4        10           6\n",
       "5        3         9           6\n",
       "6        2         7           5\n",
       "7        1        11          10\n",
       "8        4         8           4"
      ]
     },
     "execution_count": 14,
     "metadata": {},
     "output_type": "execute_result"
    }
   ],
   "source": [
    "prozac = pd.read_csv(\"prozac.csv\")\n",
    "prozac"
   ]
  },
  {
   "cell_type": "code",
   "execution_count": null,
   "id": "cccf9dd4",
   "metadata": {},
   "outputs": [],
   "source": [
    "# https://docs.scipy.org/doc/scipy/reference/generated/scipy.stats.ttest_rel.html#scipy.stats.ttest_rel \n",
    "# two related group ..  2 paired feature"
   ]
  },
  {
   "cell_type": "code",
   "execution_count": 15,
   "id": "bea7eb8c",
   "metadata": {
    "ExecuteTime": {
     "end_time": "2023-07-03T16:16:27.559314Z",
     "start_time": "2023-07-03T16:16:27.535997Z"
    },
    "scrolled": true
   },
   "outputs": [
    {
     "data": {
      "text/plain": [
       "TtestResult(statistic=-3.1428571428571423, pvalue=0.013745824394788489, df=8)"
      ]
     },
     "execution_count": 15,
     "metadata": {},
     "output_type": "execute_result"
    }
   ],
   "source": [
    "# t skoru ve p-value hesabı\n",
    "# H0:  d_bar = 0\n",
    "# H1:  d_bar != 0\n",
    "\n",
    "stats.ttest_rel(prozac[\"moodpre\"], prozac[\"moodpost\"])"
   ]
  },
  {
   "cell_type": "code",
   "execution_count": 18,
   "id": "93460c69",
   "metadata": {
    "ExecuteTime": {
     "end_time": "2023-07-03T16:55:57.100997Z",
     "start_time": "2023-07-03T16:55:57.083177Z"
    }
   },
   "outputs": [
    {
     "data": {
      "text/plain": [
       "TtestResult(statistic=3.1428571428571423, pvalue=0.006872912197394244, df=8)"
      ]
     },
     "execution_count": 18,
     "metadata": {},
     "output_type": "execute_result"
    }
   ],
   "source": [
    "# H0:  d_bar = 0\n",
    "# H1:  d_bar > 0    durumunda alternative kısmı greater olarak yazılır.burada bunu denedik\n",
    "# dokumana bakılırsa buraya 3 degerin yazılabileceği görülür\n",
    "\n",
    "\n",
    "pairedtest= stats.ttest_rel(prozac.moodpost, prozac.moodpre, alternative =\"greater\")\n",
    "pairedtest"
   ]
  },
  {
   "cell_type": "code",
   "execution_count": 19,
   "id": "f3c63ba2",
   "metadata": {
    "ExecuteTime": {
     "end_time": "2023-07-03T16:56:29.472397Z",
     "start_time": "2023-07-03T16:56:29.456262Z"
    }
   },
   "outputs": [
    {
     "data": {
      "text/plain": [
       "TtestResult(statistic=-3.1428571428571423, pvalue=0.006872912197394244, df=8)"
      ]
     },
     "execution_count": 19,
     "metadata": {},
     "output_type": "execute_result"
    }
   ],
   "source": [
    "# H0:  d_bar = 0\n",
    "# H1:  d_bar < 0    durumunda alternative kısmı less olarak yazılır.burada bunu denedik\n",
    "# kodda moodpre ile moodpost yer değişti.. p value ler aynı şekilde bulundu. alternative kısmını degişsek de sonuc aynı\n",
    "# test istatistiği yorum farkından dolayı sadece eksi çıktı \n",
    " \n",
    "stats.ttest_rel(prozac.moodpre, prozac.moodpost, alternative = \"less\")"
   ]
  },
  {
   "cell_type": "code",
   "execution_count": 21,
   "id": "446728f7",
   "metadata": {
    "ExecuteTime": {
     "end_time": "2023-07-03T16:57:27.751164Z",
     "start_time": "2023-07-03T16:57:27.740139Z"
    }
   },
   "outputs": [
    {
     "name": "stdout",
     "output_type": "stream",
     "text": [
      "Reject the Null\n"
     ]
    }
   ],
   "source": [
    "alpha = 0.05\n",
    "\n",
    "if pairedtest.pvalue < alpha:\n",
    "    print(\"Reject the Null\")\n",
    "else:\n",
    "    print(\"Fail to reject\")"
   ]
  },
  {
   "cell_type": "code",
   "execution_count": null,
   "id": "fffb04ee",
   "metadata": {},
   "outputs": [],
   "source": [
    "# reject olduguna gore aralarında fark vardır denilir..  ilaç etkilidir.."
   ]
  }
 ],
 "metadata": {
  "hide_input": false,
  "kernelspec": {
   "display_name": "Python 3 (ipykernel)",
   "language": "python",
   "name": "python3"
  },
  "language_info": {
   "codemirror_mode": {
    "name": "ipython",
    "version": 3
   },
   "file_extension": ".py",
   "mimetype": "text/x-python",
   "name": "python",
   "nbconvert_exporter": "python",
   "pygments_lexer": "ipython3",
   "version": "3.9.13"
  },
  "nbTranslate": {
   "displayLangs": [
    "*"
   ],
   "hotkey": "alt-t",
   "langInMainMenu": true,
   "sourceLang": "en",
   "targetLang": "fr",
   "useGoogleTranslate": true
  },
  "toc": {
   "base_numbering": 1,
   "nav_menu": {},
   "number_sections": true,
   "sideBar": true,
   "skip_h1_title": false,
   "title_cell": "Table of Contents",
   "title_sidebar": "Contents",
   "toc_cell": false,
   "toc_position": {},
   "toc_section_display": true,
   "toc_window_display": false
  },
  "varInspector": {
   "cols": {
    "lenName": 16,
    "lenType": 16,
    "lenVar": 40
   },
   "kernels_config": {
    "python": {
     "delete_cmd_postfix": "",
     "delete_cmd_prefix": "del ",
     "library": "var_list.py",
     "varRefreshCmd": "print(var_dic_list())"
    },
    "r": {
     "delete_cmd_postfix": ") ",
     "delete_cmd_prefix": "rm(",
     "library": "var_list.r",
     "varRefreshCmd": "cat(var_dic_list()) "
    }
   },
   "types_to_exclude": [
    "module",
    "function",
    "builtin_function_or_method",
    "instance",
    "_Feature"
   ],
   "window_display": false
  }
 },
 "nbformat": 4,
 "nbformat_minor": 5
}
