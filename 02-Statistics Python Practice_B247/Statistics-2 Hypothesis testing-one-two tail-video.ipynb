{
 "cells": [
  {
   "cell_type": "markdown",
   "id": "c4cf0b68",
   "metadata": {},
   "source": [
    "# One Sample Z Test"
   ]
  },
  {
   "cell_type": "markdown",
   "id": "0c6bcbc7",
   "metadata": {},
   "source": [
    "Popülasyon ortalaması ve Standart sapmasının bilindiği durumda kullanılır"
   ]
  },
  {
   "cell_type": "markdown",
   "id": "f891df4e",
   "metadata": {},
   "source": [
    "## Example"
   ]
  },
  {
   "cell_type": "markdown",
   "id": "a1c51547",
   "metadata": {},
   "source": [
    "- Bir Denizde olması gereken kurşun seviyesi 10 p/m seviyesindedir. (μ0) parts/million.  \n",
    "- Popülasyon Normal dağılıma uygun olmakla beraber std.dev. σ=1,5 dir.\n",
    "- Bizim alacağımız 40 farklı örneklerde kurşun seviyesi ölçüldü ve ortalama 10,5 (sample mean) bulundu \n",
    "- Bu ortalamadaki fark α =0,05 için (%95 güven için) istatistiksel olarak anlamlı mıdır ? α = 0.05 "
   ]
  },
  {
   "cell_type": "code",
   "execution_count": 1,
   "id": "a3c77479",
   "metadata": {
    "ExecuteTime": {
     "end_time": "2023-07-02T23:50:16.963166Z",
     "start_time": "2023-07-02T23:50:16.356316Z"
    }
   },
   "outputs": [
    {
     "name": "stderr",
     "output_type": "stream",
     "text": [
      "<frozen importlib._bootstrap>:228: RuntimeWarning: scipy._lib.messagestream.MessageStream size changed, may indicate binary incompatibility. Expected 56 from C header, got 64 from PyObject\n"
     ]
    }
   ],
   "source": [
    "import scipy.stats as stats\n",
    "from math import sqrt\n",
    "import numpy as np"
   ]
  },
  {
   "cell_type": "code",
   "execution_count": 2,
   "id": "26d3594f",
   "metadata": {
    "ExecuteTime": {
     "end_time": "2023-07-02T23:51:32.301048Z",
     "start_time": "2023-07-02T23:51:32.288137Z"
    }
   },
   "outputs": [],
   "source": [
    "# degiskenleri tanımla\n",
    "\n",
    "x_bar = 10.5     # sample mean \n",
    "n = 40           # number of sample\n",
    "sigma = 1.5      # std.dev of population\n",
    "mu = 10          # Population mean "
   ]
  },
  {
   "cell_type": "code",
   "execution_count": 3,
   "id": "5c2f2bb1",
   "metadata": {
    "ExecuteTime": {
     "end_time": "2023-07-02T23:52:35.672809Z",
     "start_time": "2023-07-02T23:52:35.652046Z"
    }
   },
   "outputs": [
    {
     "data": {
      "text/plain": [
       "2.1081851067789197"
      ]
     },
     "execution_count": 3,
     "metadata": {},
     "output_type": "execute_result"
    }
   ],
   "source": [
    "# z skoru hesabı\n",
    "z = (x_bar - mu)/(sigma/sqrt(n))\n",
    "z"
   ]
  },
  {
   "cell_type": "code",
   "execution_count": 4,
   "id": "65967537",
   "metadata": {
    "ExecuteTime": {
     "end_time": "2023-07-02T23:53:18.680727Z",
     "start_time": "2023-07-02T23:53:18.659777Z"
    }
   },
   "outputs": [
    {
     "data": {
      "text/plain": [
       "0.017507490509831247"
      ]
     },
     "execution_count": 4,
     "metadata": {},
     "output_type": "execute_result"
    }
   ],
   "source": [
    "# p- value hesabı..  \n",
    "\n",
    "p_value = 1 - stats.norm.cdf(z)\n",
    "p_value"
   ]
  },
  {
   "cell_type": "code",
   "execution_count": 5,
   "id": "e479ed81",
   "metadata": {
    "ExecuteTime": {
     "end_time": "2023-07-02T23:54:04.827199Z",
     "start_time": "2023-07-02T23:54:04.810264Z"
    }
   },
   "outputs": [
    {
     "name": "stdout",
     "output_type": "stream",
     "text": [
      "At 0.05 level of significance, we can reject the null hypothesis in favor of alternative hypothesis.\n"
     ]
    }
   ],
   "source": [
    "\n",
    "alpha = 0.05\n",
    "\n",
    "if p_value<alpha:\n",
    "    print('At {} level of significance, we can reject the null hypothesis in favor of alternative hypothesis.'.format(alpha))\n",
    "else:\n",
    "    print('At {} level of significance, we fail to reject the null hypothesis.'.format(alpha))\n",
    "    "
   ]
  },
  {
   "cell_type": "code",
   "execution_count": 6,
   "id": "146e6742",
   "metadata": {
    "ExecuteTime": {
     "end_time": "2023-07-02T23:54:44.962388Z",
     "start_time": "2023-07-02T23:54:44.950979Z"
    }
   },
   "outputs": [],
   "source": [
    "#  p değeri alfa değerindne küçük ise reject yaparız.. burada da reject oldu"
   ]
  },
  {
   "cell_type": "markdown",
   "id": "f022d63c",
   "metadata": {
    "ExecuteTime": {
     "end_time": "2023-07-02T23:55:04.640345Z",
     "start_time": "2023-07-02T23:55:04.627469Z"
    }
   },
   "source": [
    "## Example"
   ]
  },
  {
   "cell_type": "markdown",
   "id": "d1008300",
   "metadata": {},
   "source": [
    "- Bir mağazada, eğer aylık ortalama hesap 170 dolardan fazla ise yeni bir faturalandırma sisteminin ekonomik olacağı belirlenmiştir. \n",
    "- 400 adet aylık hesaptan oluşan bir random örneklemde sample ortalaması 178 dolar olan bir seçim yapılmıştır. \n",
    "- HEsaplar yaklaşık normal dağılıp standart sapması 65 doalrdır. \n",
    "- Yeni sistem yatırım için ekonmik olarak uygun mudurr?"
   ]
  },
  {
   "cell_type": "code",
   "execution_count": 9,
   "id": "acd9cfd2",
   "metadata": {
    "ExecuteTime": {
     "end_time": "2023-07-02T23:57:44.148178Z",
     "start_time": "2023-07-02T23:57:44.138638Z"
    }
   },
   "outputs": [],
   "source": [
    "x_bar = 178     # sample mean \n",
    "n = 400         # number of sample\n",
    "sigma = 65      # sd of population\n",
    "mu = 170        # Population mean "
   ]
  },
  {
   "cell_type": "code",
   "execution_count": 10,
   "id": "cf849088",
   "metadata": {
    "ExecuteTime": {
     "end_time": "2023-07-02T23:57:46.014593Z",
     "start_time": "2023-07-02T23:57:46.009590Z"
    }
   },
   "outputs": [
    {
     "data": {
      "text/plain": [
       "2.4615384615384617"
      ]
     },
     "execution_count": 10,
     "metadata": {},
     "output_type": "execute_result"
    }
   ],
   "source": [
    "# z skoru hesabı\n",
    "\n",
    "z = (x_bar - mu)/(sigma/sqrt(n))\n",
    "z"
   ]
  },
  {
   "cell_type": "code",
   "execution_count": 11,
   "id": "ff2349d4",
   "metadata": {
    "ExecuteTime": {
     "end_time": "2023-07-02T23:58:07.610588Z",
     "start_time": "2023-07-02T23:58:07.593619Z"
    }
   },
   "outputs": [
    {
     "data": {
      "text/plain": [
       "0.006917128192854505"
      ]
     },
     "execution_count": 11,
     "metadata": {},
     "output_type": "execute_result"
    }
   ],
   "source": [
    "# p-value hesabı\n",
    "\n",
    "p_value = 1 - stats.norm.cdf(z)\n",
    "p_value"
   ]
  },
  {
   "cell_type": "code",
   "execution_count": 12,
   "id": "2617a426",
   "metadata": {
    "ExecuteTime": {
     "end_time": "2023-07-02T23:58:26.431437Z",
     "start_time": "2023-07-02T23:58:26.414035Z"
    }
   },
   "outputs": [
    {
     "name": "stdout",
     "output_type": "stream",
     "text": [
      "At 0.05 level of significance, we can reject the null hypothesis in favor of alternative hypothesis.\n"
     ]
    }
   ],
   "source": [
    "alpha = 0.05\n",
    "\n",
    "if p_value<alpha:\n",
    "    print('At {} level of significance, we can reject the null hypothesis in favor of alternative hypothesis.'.format(alpha))\n",
    "else:\n",
    "    print('At {} level of significance, we fail to reject the null hypothesis.'.format(alpha))"
   ]
  },
  {
   "cell_type": "markdown",
   "id": "cc736d9b",
   "metadata": {},
   "source": [
    "# One Sample t Test"
   ]
  },
  {
   "cell_type": "markdown",
   "id": "fb50d2b8",
   "metadata": {},
   "source": [
    "## Example"
   ]
  },
  {
   "cell_type": "markdown",
   "id": "f580b71a",
   "metadata": {},
   "source": [
    "- Bir eğitim kurumunun 1000 öğrencisi vardır. \n",
    "- Öğrencilerin ortalama IQ seviyeleri daha önce110 bulunmuştur. \n",
    "- Yeni durumda 20 randomly öğrencinin IQ bakılmıştır. Bu 20 öğrencinin\n",
    " - Ortalama IQ: 108 Std.Dev: 10 ise\n",
    "- α=0,01 için bu sonuçlar anlamlı mıdır ?"
   ]
  },
  {
   "cell_type": "code",
   "execution_count": 13,
   "id": "eb3bcf24",
   "metadata": {
    "ExecuteTime": {
     "end_time": "2023-07-03T00:01:41.010368Z",
     "start_time": "2023-07-03T00:01:40.992670Z"
    }
   },
   "outputs": [],
   "source": [
    "x_bar = 108      # sample mean \n",
    "n = 20           # number of students\n",
    "s = 10           # sd of population\n",
    "mu = 110         # Population mean \n",
    "alpha = 0.01"
   ]
  },
  {
   "cell_type": "code",
   "execution_count": 14,
   "id": "cd2ff7ab",
   "metadata": {
    "ExecuteTime": {
     "end_time": "2023-07-03T00:01:56.104847Z",
     "start_time": "2023-07-03T00:01:56.100054Z"
    }
   },
   "outputs": [
    {
     "data": {
      "text/plain": [
       "-0.8944271909999159"
      ]
     },
     "execution_count": 14,
     "metadata": {},
     "output_type": "execute_result"
    }
   ],
   "source": [
    "# t skoru hesabı\n",
    "\n",
    "t = (x_bar - mu)/(s/sqrt(n))\n",
    "t"
   ]
  },
  {
   "cell_type": "code",
   "execution_count": 15,
   "id": "0b81b777",
   "metadata": {
    "ExecuteTime": {
     "end_time": "2023-07-03T00:02:43.397174Z",
     "start_time": "2023-07-03T00:02:43.367276Z"
    }
   },
   "outputs": [
    {
     "data": {
      "text/plain": [
       "0.1911420676837155"
      ]
     },
     "execution_count": 15,
     "metadata": {},
     "output_type": "execute_result"
    }
   ],
   "source": [
    "# p- value hesabı..  t testinde df = n -1 olur\n",
    "\n",
    "p_value = stats.t.cdf(t, n-1)\n",
    "p_value"
   ]
  },
  {
   "cell_type": "code",
   "execution_count": 16,
   "id": "a80ae0a1",
   "metadata": {
    "ExecuteTime": {
     "end_time": "2023-07-03T00:03:07.531027Z",
     "start_time": "2023-07-03T00:03:07.512827Z"
    }
   },
   "outputs": [
    {
     "name": "stdout",
     "output_type": "stream",
     "text": [
      "At 0.01 level of significance, we fail to reject the null hypothesis.\n"
     ]
    }
   ],
   "source": [
    "if p_value<alpha:\n",
    "    print('At {} level of significance, we can reject the null hypothesis in favor of alternative hypothesis.'.format(alpha))\n",
    "else:\n",
    "    print('At {} level of significance, we fail to reject the null hypothesis.'.format(alpha))"
   ]
  },
  {
   "cell_type": "markdown",
   "id": "a47dd5f1",
   "metadata": {},
   "source": [
    "## Example"
   ]
  },
  {
   "cell_type": "markdown",
   "id": "396cee5d",
   "metadata": {},
   "source": [
    "Bir öğrenci örneğine dayalı olarak, üniversite öğrencilerinin ortalama 7,2 saat uyuyup uyumadığını analiz edin: \n",
    "\n",
    "H0: mu = 7.2\n",
    "\n",
    "Ha: mu != 7.2\n",
    "                 \n",
    "alpha= 0.05"
   ]
  },
  {
   "cell_type": "code",
   "execution_count": 17,
   "id": "bfece887",
   "metadata": {
    "ExecuteTime": {
     "end_time": "2023-07-03T00:06:19.621770Z",
     "start_time": "2023-07-03T00:06:19.183985Z"
    }
   },
   "outputs": [],
   "source": [
    "import pandas as pd\n",
    "import scipy.stats as stats\n",
    "import math"
   ]
  },
  {
   "cell_type": "code",
   "execution_count": 18,
   "id": "d80bcd73",
   "metadata": {
    "ExecuteTime": {
     "end_time": "2023-07-03T00:06:44.711081Z",
     "start_time": "2023-07-03T00:06:44.672510Z"
    }
   },
   "outputs": [
    {
     "data": {
      "text/html": [
       "<div>\n",
       "<style scoped>\n",
       "    .dataframe tbody tr th:only-of-type {\n",
       "        vertical-align: middle;\n",
       "    }\n",
       "\n",
       "    .dataframe tbody tr th {\n",
       "        vertical-align: top;\n",
       "    }\n",
       "\n",
       "    .dataframe thead th {\n",
       "        text-align: right;\n",
       "    }\n",
       "</style>\n",
       "<table border=\"1\" class=\"dataframe\">\n",
       "  <thead>\n",
       "    <tr style=\"text-align: right;\">\n",
       "      <th></th>\n",
       "      <th>ID</th>\n",
       "      <th>Gender</th>\n",
       "      <th>Classification</th>\n",
       "      <th>Height</th>\n",
       "      <th>Shoe Size</th>\n",
       "      <th>Phone Time</th>\n",
       "      <th># of Shoes</th>\n",
       "      <th>Birth order</th>\n",
       "      <th>Pets</th>\n",
       "      <th>Happy</th>\n",
       "      <th>...</th>\n",
       "      <th>Exercise</th>\n",
       "      <th>Stat Pre</th>\n",
       "      <th>Stat Post</th>\n",
       "      <th>Phone Type</th>\n",
       "      <th>Sleep</th>\n",
       "      <th>Social Media</th>\n",
       "      <th>Impact of SocNetworking</th>\n",
       "      <th>Political</th>\n",
       "      <th>Animal</th>\n",
       "      <th>Superhero</th>\n",
       "    </tr>\n",
       "  </thead>\n",
       "  <tbody>\n",
       "    <tr>\n",
       "      <th>0</th>\n",
       "      <td>1</td>\n",
       "      <td>male</td>\n",
       "      <td>senior</td>\n",
       "      <td>67.75</td>\n",
       "      <td>7.0</td>\n",
       "      <td>12.0</td>\n",
       "      <td>12.0</td>\n",
       "      <td>youngest</td>\n",
       "      <td>5.0</td>\n",
       "      <td>0.80</td>\n",
       "      <td>...</td>\n",
       "      <td>360</td>\n",
       "      <td>3.0</td>\n",
       "      <td>NaN</td>\n",
       "      <td>iPhone</td>\n",
       "      <td>7.0</td>\n",
       "      <td>180.0</td>\n",
       "      <td>worse</td>\n",
       "      <td>Democrat</td>\n",
       "      <td>Dog person</td>\n",
       "      <td>Batman</td>\n",
       "    </tr>\n",
       "    <tr>\n",
       "      <th>1</th>\n",
       "      <td>2</td>\n",
       "      <td>male</td>\n",
       "      <td>freshman</td>\n",
       "      <td>71.00</td>\n",
       "      <td>7.5</td>\n",
       "      <td>1.5</td>\n",
       "      <td>5.0</td>\n",
       "      <td>middle</td>\n",
       "      <td>4.0</td>\n",
       "      <td>0.75</td>\n",
       "      <td>...</td>\n",
       "      <td>200</td>\n",
       "      <td>9.0</td>\n",
       "      <td>NaN</td>\n",
       "      <td>Android smartphone</td>\n",
       "      <td>7.0</td>\n",
       "      <td>20.0</td>\n",
       "      <td>better</td>\n",
       "      <td>Democrat</td>\n",
       "      <td>Dog person</td>\n",
       "      <td>Batman</td>\n",
       "    </tr>\n",
       "    <tr>\n",
       "      <th>2</th>\n",
       "      <td>3</td>\n",
       "      <td>female</td>\n",
       "      <td>freshman</td>\n",
       "      <td>64.00</td>\n",
       "      <td>6.0</td>\n",
       "      <td>25.0</td>\n",
       "      <td>15.0</td>\n",
       "      <td>oldest</td>\n",
       "      <td>8.0</td>\n",
       "      <td>0.90</td>\n",
       "      <td>...</td>\n",
       "      <td>30</td>\n",
       "      <td>7.0</td>\n",
       "      <td>5.0</td>\n",
       "      <td>Android smartphone</td>\n",
       "      <td>8.0</td>\n",
       "      <td>60.0</td>\n",
       "      <td>better</td>\n",
       "      <td>Republican</td>\n",
       "      <td>Dog person</td>\n",
       "      <td>Batman</td>\n",
       "    </tr>\n",
       "    <tr>\n",
       "      <th>3</th>\n",
       "      <td>4</td>\n",
       "      <td>female</td>\n",
       "      <td>freshman</td>\n",
       "      <td>63.00</td>\n",
       "      <td>6.5</td>\n",
       "      <td>30.0</td>\n",
       "      <td>30.0</td>\n",
       "      <td>middle</td>\n",
       "      <td>12.0</td>\n",
       "      <td>0.98</td>\n",
       "      <td>...</td>\n",
       "      <td>180</td>\n",
       "      <td>6.0</td>\n",
       "      <td>7.0</td>\n",
       "      <td>iPhone</td>\n",
       "      <td>6.0</td>\n",
       "      <td>60.0</td>\n",
       "      <td>better</td>\n",
       "      <td>Republican</td>\n",
       "      <td>Both</td>\n",
       "      <td>Superman</td>\n",
       "    </tr>\n",
       "    <tr>\n",
       "      <th>4</th>\n",
       "      <td>5</td>\n",
       "      <td>male</td>\n",
       "      <td>senior</td>\n",
       "      <td>69.00</td>\n",
       "      <td>6.5</td>\n",
       "      <td>23.0</td>\n",
       "      <td>8.0</td>\n",
       "      <td>oldest</td>\n",
       "      <td>4.0</td>\n",
       "      <td>0.75</td>\n",
       "      <td>...</td>\n",
       "      <td>180</td>\n",
       "      <td>4.0</td>\n",
       "      <td>7.0</td>\n",
       "      <td>iPhone</td>\n",
       "      <td>5.5</td>\n",
       "      <td>60.0</td>\n",
       "      <td>worse</td>\n",
       "      <td>Independent</td>\n",
       "      <td>Dog person</td>\n",
       "      <td>Superman</td>\n",
       "    </tr>\n",
       "  </tbody>\n",
       "</table>\n",
       "<p>5 rows × 23 columns</p>\n",
       "</div>"
      ],
      "text/plain": [
       "   ID  Gender Classification  Height  Shoe Size  Phone Time  # of Shoes  \\\n",
       "0   1    male         senior   67.75        7.0        12.0        12.0   \n",
       "1   2    male       freshman   71.00        7.5         1.5         5.0   \n",
       "2   3  female       freshman   64.00        6.0        25.0        15.0   \n",
       "3   4  female       freshman   63.00        6.5        30.0        30.0   \n",
       "4   5    male         senior   69.00        6.5        23.0         8.0   \n",
       "\n",
       "  Birth order  Pets  Happy  ...  Exercise Stat Pre  Stat Post  \\\n",
       "0    youngest   5.0   0.80  ...       360      3.0        NaN   \n",
       "1      middle   4.0   0.75  ...       200      9.0        NaN   \n",
       "2      oldest   8.0   0.90  ...        30      7.0        5.0   \n",
       "3      middle  12.0   0.98  ...       180      6.0        7.0   \n",
       "4      oldest   4.0   0.75  ...       180      4.0        7.0   \n",
       "\n",
       "           Phone Type  Sleep  Social Media Impact of SocNetworking  \\\n",
       "0              iPhone    7.0         180.0                   worse   \n",
       "1  Android smartphone    7.0          20.0                  better   \n",
       "2  Android smartphone    8.0          60.0                  better   \n",
       "3              iPhone    6.0          60.0                  better   \n",
       "4              iPhone    5.5          60.0                   worse   \n",
       "\n",
       "     Political      Animal Superhero  \n",
       "0     Democrat  Dog person    Batman  \n",
       "1     Democrat  Dog person    Batman  \n",
       "2   Republican  Dog person    Batman  \n",
       "3   Republican        Both  Superman  \n",
       "4  Independent  Dog person  Superman  \n",
       "\n",
       "[5 rows x 23 columns]"
      ]
     },
     "execution_count": 18,
     "metadata": {},
     "output_type": "execute_result"
    }
   ],
   "source": [
    "#students.csv file loading\n",
    "\n",
    "df = pd.read_csv('students.csv')\n",
    "df.head()"
   ]
  },
  {
   "cell_type": "code",
   "execution_count": 19,
   "id": "0bee9f62",
   "metadata": {
    "ExecuteTime": {
     "end_time": "2023-07-03T00:07:38.678037Z",
     "start_time": "2023-07-03T00:07:38.668663Z"
    }
   },
   "outputs": [
    {
     "data": {
      "text/plain": [
       "6.8618421052631575"
      ]
     },
     "execution_count": 19,
     "metadata": {},
     "output_type": "execute_result"
    }
   ],
   "source": [
    "df['Sleep'].mean()"
   ]
  },
  {
   "cell_type": "code",
   "execution_count": 20,
   "id": "45bd93b9",
   "metadata": {
    "ExecuteTime": {
     "end_time": "2023-07-03T00:07:46.637523Z",
     "start_time": "2023-07-03T00:07:46.621860Z"
    }
   },
   "outputs": [
    {
     "data": {
      "text/plain": [
       "1.5310098719701895"
      ]
     },
     "execution_count": 20,
     "metadata": {},
     "output_type": "execute_result"
    }
   ],
   "source": [
    "df['Sleep'].std()"
   ]
  },
  {
   "cell_type": "code",
   "execution_count": 21,
   "id": "15a0a59e",
   "metadata": {
    "ExecuteTime": {
     "end_time": "2023-07-03T00:08:54.477700Z",
     "start_time": "2023-07-03T00:08:54.470153Z"
    }
   },
   "outputs": [],
   "source": [
    "\n",
    "onesample = stats.ttest_1samp(df['Sleep'], 7.2)"
   ]
  },
  {
   "cell_type": "code",
   "execution_count": 22,
   "id": "3b7a9821",
   "metadata": {
    "ExecuteTime": {
     "end_time": "2023-07-03T00:09:11.786650Z",
     "start_time": "2023-07-03T00:09:11.771137Z"
    }
   },
   "outputs": [
    {
     "data": {
      "text/plain": [
       "-1.92552134000487"
      ]
     },
     "execution_count": 22,
     "metadata": {},
     "output_type": "execute_result"
    }
   ],
   "source": [
    "# t skoru hesabı\n",
    "onesample.statistic"
   ]
  },
  {
   "cell_type": "code",
   "execution_count": 23,
   "id": "68d7eb8b",
   "metadata": {
    "ExecuteTime": {
     "end_time": "2023-07-03T00:09:27.020828Z",
     "start_time": "2023-07-03T00:09:27.000454Z"
    }
   },
   "outputs": [
    {
     "data": {
      "text/plain": [
       "0.05795525591903326"
      ]
     },
     "execution_count": 23,
     "metadata": {},
     "output_type": "execute_result"
    }
   ],
   "source": [
    "onesample.pvalue"
   ]
  },
  {
   "cell_type": "code",
   "execution_count": 24,
   "id": "4ad3cd65",
   "metadata": {
    "ExecuteTime": {
     "end_time": "2023-07-03T00:09:59.042743Z",
     "start_time": "2023-07-03T00:09:59.035338Z"
    }
   },
   "outputs": [
    {
     "name": "stdout",
     "output_type": "stream",
     "text": [
      "p-value for two sided test: 0.0580\n"
     ]
    }
   ],
   "source": [
    "print(f'p-value for two sided test: {onesample.pvalue:.4f}')"
   ]
  },
  {
   "cell_type": "code",
   "execution_count": 25,
   "id": "bf01496b",
   "metadata": {
    "ExecuteTime": {
     "end_time": "2023-07-03T00:10:25.580868Z",
     "start_time": "2023-07-03T00:10:25.572297Z"
    }
   },
   "outputs": [
    {
     "name": "stdout",
     "output_type": "stream",
     "text": [
      "At 0.05 level of significance, we fail to reject the null hypothesis.\n"
     ]
    }
   ],
   "source": [
    "alpha = 0.05\n",
    "\n",
    "if p_value<alpha:\n",
    "    print('At {} level of significance, we can reject the null hypothesis in favor of Ha.'.format(alpha))\n",
    "else:\n",
    "    print('At {} level of significance, we fail to reject the null hypothesis.'.format(alpha))"
   ]
  },
  {
   "cell_type": "markdown",
   "id": "f62d49bc",
   "metadata": {},
   "source": [
    "# Statsmodels Example"
   ]
  },
  {
   "cell_type": "code",
   "execution_count": null,
   "id": "debb51d1",
   "metadata": {},
   "outputs": [],
   "source": [
    "# https://www.statsmodels.org/stable/index.html\n",
    "# pima indian data setini statsmodel dan cagıralım\n",
    "# data setini imort iin alttaki kod kullanılır"
   ]
  },
  {
   "cell_type": "code",
   "execution_count": 28,
   "id": "1f2c4f0b",
   "metadata": {
    "ExecuteTime": {
     "end_time": "2023-07-03T00:15:46.952847Z",
     "start_time": "2023-07-03T00:15:45.580796Z"
    }
   },
   "outputs": [
    {
     "data": {
      "text/plain": [
       "dict_keys(['data', '__doc__', 'package', 'title', 'from_cache'])"
      ]
     },
     "execution_count": 28,
     "metadata": {},
     "output_type": "execute_result"
    }
   ],
   "source": [
    "import statsmodels.api as sm\n",
    "dataset1 = sm.datasets.get_rdataset(dataname='Pima.tr', package='MASS')\n",
    "dataset1.keys()"
   ]
  },
  {
   "cell_type": "code",
   "execution_count": null,
   "id": "eda2e0f5",
   "metadata": {},
   "outputs": [],
   "source": [
    "# eger import çalışmaz ise  !pip install statsmodels   yazmanız gerekir"
   ]
  },
  {
   "cell_type": "code",
   "execution_count": 29,
   "id": "d71eea81",
   "metadata": {
    "ExecuteTime": {
     "end_time": "2023-07-03T00:16:39.368430Z",
     "start_time": "2023-07-03T00:16:39.344895Z"
    }
   },
   "outputs": [
    {
     "data": {
      "text/html": [
       "<div>\n",
       "<style scoped>\n",
       "    .dataframe tbody tr th:only-of-type {\n",
       "        vertical-align: middle;\n",
       "    }\n",
       "\n",
       "    .dataframe tbody tr th {\n",
       "        vertical-align: top;\n",
       "    }\n",
       "\n",
       "    .dataframe thead th {\n",
       "        text-align: right;\n",
       "    }\n",
       "</style>\n",
       "<table border=\"1\" class=\"dataframe\">\n",
       "  <thead>\n",
       "    <tr style=\"text-align: right;\">\n",
       "      <th></th>\n",
       "      <th>npreg</th>\n",
       "      <th>glu</th>\n",
       "      <th>bp</th>\n",
       "      <th>skin</th>\n",
       "      <th>bmi</th>\n",
       "      <th>ped</th>\n",
       "      <th>age</th>\n",
       "      <th>type</th>\n",
       "    </tr>\n",
       "  </thead>\n",
       "  <tbody>\n",
       "    <tr>\n",
       "      <th>0</th>\n",
       "      <td>5</td>\n",
       "      <td>86</td>\n",
       "      <td>68</td>\n",
       "      <td>28</td>\n",
       "      <td>30.2</td>\n",
       "      <td>0.364</td>\n",
       "      <td>24</td>\n",
       "      <td>No</td>\n",
       "    </tr>\n",
       "    <tr>\n",
       "      <th>1</th>\n",
       "      <td>7</td>\n",
       "      <td>195</td>\n",
       "      <td>70</td>\n",
       "      <td>33</td>\n",
       "      <td>25.1</td>\n",
       "      <td>0.163</td>\n",
       "      <td>55</td>\n",
       "      <td>Yes</td>\n",
       "    </tr>\n",
       "    <tr>\n",
       "      <th>2</th>\n",
       "      <td>5</td>\n",
       "      <td>77</td>\n",
       "      <td>82</td>\n",
       "      <td>41</td>\n",
       "      <td>35.8</td>\n",
       "      <td>0.156</td>\n",
       "      <td>35</td>\n",
       "      <td>No</td>\n",
       "    </tr>\n",
       "    <tr>\n",
       "      <th>3</th>\n",
       "      <td>0</td>\n",
       "      <td>165</td>\n",
       "      <td>76</td>\n",
       "      <td>43</td>\n",
       "      <td>47.9</td>\n",
       "      <td>0.259</td>\n",
       "      <td>26</td>\n",
       "      <td>No</td>\n",
       "    </tr>\n",
       "    <tr>\n",
       "      <th>4</th>\n",
       "      <td>0</td>\n",
       "      <td>107</td>\n",
       "      <td>60</td>\n",
       "      <td>25</td>\n",
       "      <td>26.4</td>\n",
       "      <td>0.133</td>\n",
       "      <td>23</td>\n",
       "      <td>No</td>\n",
       "    </tr>\n",
       "  </tbody>\n",
       "</table>\n",
       "</div>"
      ],
      "text/plain": [
       "   npreg  glu  bp  skin   bmi    ped  age type\n",
       "0      5   86  68    28  30.2  0.364   24   No\n",
       "1      7  195  70    33  25.1  0.163   55  Yes\n",
       "2      5   77  82    41  35.8  0.156   35   No\n",
       "3      0  165  76    43  47.9  0.259   26   No\n",
       "4      0  107  60    25  26.4  0.133   23   No"
      ]
     },
     "execution_count": 29,
     "metadata": {},
     "output_type": "execute_result"
    }
   ],
   "source": [
    "df1 = dataset1.data\n",
    "df1.head()"
   ]
  },
  {
   "cell_type": "code",
   "execution_count": 30,
   "id": "9c2aa069",
   "metadata": {
    "ExecuteTime": {
     "end_time": "2023-07-03T00:17:23.054042Z",
     "start_time": "2023-07-03T00:17:23.009447Z"
    }
   },
   "outputs": [
    {
     "data": {
      "text/html": [
       "<div>\n",
       "<style scoped>\n",
       "    .dataframe tbody tr th:only-of-type {\n",
       "        vertical-align: middle;\n",
       "    }\n",
       "\n",
       "    .dataframe tbody tr th {\n",
       "        vertical-align: top;\n",
       "    }\n",
       "\n",
       "    .dataframe thead th {\n",
       "        text-align: right;\n",
       "    }\n",
       "</style>\n",
       "<table border=\"1\" class=\"dataframe\">\n",
       "  <thead>\n",
       "    <tr style=\"text-align: right;\">\n",
       "      <th></th>\n",
       "      <th>npreg</th>\n",
       "      <th>glu</th>\n",
       "      <th>bp</th>\n",
       "      <th>skin</th>\n",
       "      <th>bmi</th>\n",
       "      <th>ped</th>\n",
       "      <th>age</th>\n",
       "    </tr>\n",
       "  </thead>\n",
       "  <tbody>\n",
       "    <tr>\n",
       "      <th>count</th>\n",
       "      <td>200.000000</td>\n",
       "      <td>200.000000</td>\n",
       "      <td>200.000000</td>\n",
       "      <td>200.000000</td>\n",
       "      <td>200.000000</td>\n",
       "      <td>200.000000</td>\n",
       "      <td>200.000000</td>\n",
       "    </tr>\n",
       "    <tr>\n",
       "      <th>mean</th>\n",
       "      <td>3.570000</td>\n",
       "      <td>123.970000</td>\n",
       "      <td>71.260000</td>\n",
       "      <td>29.215000</td>\n",
       "      <td>32.310000</td>\n",
       "      <td>0.460765</td>\n",
       "      <td>32.110000</td>\n",
       "    </tr>\n",
       "    <tr>\n",
       "      <th>std</th>\n",
       "      <td>3.366268</td>\n",
       "      <td>31.667225</td>\n",
       "      <td>11.479604</td>\n",
       "      <td>11.724594</td>\n",
       "      <td>6.130212</td>\n",
       "      <td>0.307225</td>\n",
       "      <td>10.975436</td>\n",
       "    </tr>\n",
       "    <tr>\n",
       "      <th>min</th>\n",
       "      <td>0.000000</td>\n",
       "      <td>56.000000</td>\n",
       "      <td>38.000000</td>\n",
       "      <td>7.000000</td>\n",
       "      <td>18.200000</td>\n",
       "      <td>0.085000</td>\n",
       "      <td>21.000000</td>\n",
       "    </tr>\n",
       "    <tr>\n",
       "      <th>25%</th>\n",
       "      <td>1.000000</td>\n",
       "      <td>100.000000</td>\n",
       "      <td>64.000000</td>\n",
       "      <td>20.750000</td>\n",
       "      <td>27.575000</td>\n",
       "      <td>0.253500</td>\n",
       "      <td>23.000000</td>\n",
       "    </tr>\n",
       "    <tr>\n",
       "      <th>50%</th>\n",
       "      <td>2.000000</td>\n",
       "      <td>120.500000</td>\n",
       "      <td>70.000000</td>\n",
       "      <td>29.000000</td>\n",
       "      <td>32.800000</td>\n",
       "      <td>0.372500</td>\n",
       "      <td>28.000000</td>\n",
       "    </tr>\n",
       "    <tr>\n",
       "      <th>75%</th>\n",
       "      <td>6.000000</td>\n",
       "      <td>144.000000</td>\n",
       "      <td>78.000000</td>\n",
       "      <td>36.000000</td>\n",
       "      <td>36.500000</td>\n",
       "      <td>0.616000</td>\n",
       "      <td>39.250000</td>\n",
       "    </tr>\n",
       "    <tr>\n",
       "      <th>max</th>\n",
       "      <td>14.000000</td>\n",
       "      <td>199.000000</td>\n",
       "      <td>110.000000</td>\n",
       "      <td>99.000000</td>\n",
       "      <td>47.900000</td>\n",
       "      <td>2.288000</td>\n",
       "      <td>63.000000</td>\n",
       "    </tr>\n",
       "  </tbody>\n",
       "</table>\n",
       "</div>"
      ],
      "text/plain": [
       "            npreg         glu          bp        skin         bmi         ped  \\\n",
       "count  200.000000  200.000000  200.000000  200.000000  200.000000  200.000000   \n",
       "mean     3.570000  123.970000   71.260000   29.215000   32.310000    0.460765   \n",
       "std      3.366268   31.667225   11.479604   11.724594    6.130212    0.307225   \n",
       "min      0.000000   56.000000   38.000000    7.000000   18.200000    0.085000   \n",
       "25%      1.000000  100.000000   64.000000   20.750000   27.575000    0.253500   \n",
       "50%      2.000000  120.500000   70.000000   29.000000   32.800000    0.372500   \n",
       "75%      6.000000  144.000000   78.000000   36.000000   36.500000    0.616000   \n",
       "max     14.000000  199.000000  110.000000   99.000000   47.900000    2.288000   \n",
       "\n",
       "              age  \n",
       "count  200.000000  \n",
       "mean    32.110000  \n",
       "std     10.975436  \n",
       "min     21.000000  \n",
       "25%     23.000000  \n",
       "50%     28.000000  \n",
       "75%     39.250000  \n",
       "max     63.000000  "
      ]
     },
     "execution_count": 30,
     "metadata": {},
     "output_type": "execute_result"
    }
   ],
   "source": [
    "#data setinin descriptive statistices bakalım\n",
    "\n",
    "df1.describe()"
   ]
  },
  {
   "cell_type": "code",
   "execution_count": 31,
   "id": "1dd2b48e",
   "metadata": {
    "ExecuteTime": {
     "end_time": "2023-07-03T00:19:01.988077Z",
     "start_time": "2023-07-03T00:19:01.964312Z"
    }
   },
   "outputs": [
    {
     "data": {
      "text/plain": [
       "No     132\n",
       "Yes     68\n",
       "Name: type, dtype: int64"
      ]
     },
     "execution_count": 31,
     "metadata": {},
     "output_type": "execute_result"
    }
   ],
   "source": [
    "#type feature saydıralım\n",
    "\n",
    "df1['type'].value_counts()"
   ]
  },
  {
   "cell_type": "code",
   "execution_count": 32,
   "id": "756da423",
   "metadata": {
    "ExecuteTime": {
     "end_time": "2023-07-03T00:19:42.352035Z",
     "start_time": "2023-07-03T00:19:42.316537Z"
    }
   },
   "outputs": [
    {
     "data": {
      "text/html": [
       "<div>\n",
       "<style scoped>\n",
       "    .dataframe tbody tr th:only-of-type {\n",
       "        vertical-align: middle;\n",
       "    }\n",
       "\n",
       "    .dataframe tbody tr th {\n",
       "        vertical-align: top;\n",
       "    }\n",
       "\n",
       "    .dataframe thead th {\n",
       "        text-align: right;\n",
       "    }\n",
       "</style>\n",
       "<table border=\"1\" class=\"dataframe\">\n",
       "  <thead>\n",
       "    <tr style=\"text-align: right;\">\n",
       "      <th></th>\n",
       "      <th>count</th>\n",
       "      <th>mean</th>\n",
       "      <th>std</th>\n",
       "      <th>min</th>\n",
       "      <th>25%</th>\n",
       "      <th>50%</th>\n",
       "      <th>75%</th>\n",
       "      <th>max</th>\n",
       "    </tr>\n",
       "    <tr>\n",
       "      <th>type</th>\n",
       "      <th></th>\n",
       "      <th></th>\n",
       "      <th></th>\n",
       "      <th></th>\n",
       "      <th></th>\n",
       "      <th></th>\n",
       "      <th></th>\n",
       "      <th></th>\n",
       "    </tr>\n",
       "  </thead>\n",
       "  <tbody>\n",
       "    <tr>\n",
       "      <th>No</th>\n",
       "      <td>132.0</td>\n",
       "      <td>31.074242</td>\n",
       "      <td>6.381457</td>\n",
       "      <td>18.2</td>\n",
       "      <td>25.825</td>\n",
       "      <td>31.05</td>\n",
       "      <td>35.500</td>\n",
       "      <td>47.9</td>\n",
       "    </tr>\n",
       "    <tr>\n",
       "      <th>Yes</th>\n",
       "      <td>68.0</td>\n",
       "      <td>34.708824</td>\n",
       "      <td>4.810956</td>\n",
       "      <td>22.9</td>\n",
       "      <td>31.600</td>\n",
       "      <td>34.60</td>\n",
       "      <td>37.625</td>\n",
       "      <td>46.1</td>\n",
       "    </tr>\n",
       "  </tbody>\n",
       "</table>\n",
       "</div>"
      ],
      "text/plain": [
       "      count       mean       std   min     25%    50%     75%   max\n",
       "type                                                               \n",
       "No    132.0  31.074242  6.381457  18.2  25.825  31.05  35.500  47.9\n",
       "Yes    68.0  34.708824  4.810956  22.9  31.600  34.60  37.625  46.1"
      ]
     },
     "execution_count": 32,
     "metadata": {},
     "output_type": "execute_result"
    }
   ],
   "source": [
    "# body mass index degerlendirmesi..  bmi bakacağız..\n",
    "# bmi açısından type^larıs istatistikleri\n",
    "\n",
    "df1.groupby(['type'])['bmi'].describe()"
   ]
  },
  {
   "cell_type": "markdown",
   "id": "ff13e70b",
   "metadata": {},
   "source": [
    "## hypothesis  test"
   ]
  },
  {
   "cell_type": "markdown",
   "id": "81da3033",
   "metadata": {},
   "source": [
    "- Pima Indian bayanlar arasındakilerin BMI değerlerinin popülasyonun ortalaması olan 30 olup olmadığına bakalım. sample mean 32,3 (üstteki describe da mean olarak var) bulunmuş. Bu ortalama değerdeki farklılık istatistik olaarak anlamlı mı ? n=200\n",
    "- null hipotez 30 a eşit olması, alternate 30 dan büyük olması..\n",
    "- $H_{0}:  \\mu  = 30 $ \n",
    "- $H_{A}:  \\mu  > 30 $ "
   ]
  },
  {
   "cell_type": "code",
   "execution_count": 33,
   "id": "71fdc878",
   "metadata": {
    "ExecuteTime": {
     "end_time": "2023-07-03T00:23:27.667316Z",
     "start_time": "2023-07-03T00:23:27.655466Z"
    }
   },
   "outputs": [
    {
     "name": "stdout",
     "output_type": "stream",
     "text": [
      "Sample Size is  200\n",
      "Sample Mean is 32.31\n",
      "Sample Standard Deviation  is 6.13\n"
     ]
    }
   ],
   "source": [
    "\n",
    "\n",
    "colN ='bmi'\n",
    "n = df1.shape[0]\n",
    "sample_mean= df1[colN].mean()\n",
    "sample_std = df1[colN].std()\n",
    "print('Sample Size is ', n)\n",
    "print('Sample Mean is {:.2f}'.format(sample_mean))\n",
    "print('Sample Standard Deviation  is {:.2f}'.format(sample_std))"
   ]
  },
  {
   "cell_type": "code",
   "execution_count": 34,
   "id": "98c62a4f",
   "metadata": {
    "ExecuteTime": {
     "end_time": "2023-07-03T00:24:26.551683Z",
     "start_time": "2023-07-03T00:24:26.544386Z"
    }
   },
   "outputs": [
    {
     "name": "stdout",
     "output_type": "stream",
     "text": [
      "The t-score is 5.33\n"
     ]
    }
   ],
   "source": [
    "# t skoru hesabı\n",
    "\n",
    "mu_zero = 30\n",
    "t_score = (sample_mean - mu_zero) / (sample_std / np.sqrt(n))\n",
    "print('The t-score is {:.2f}'.format(t_score))"
   ]
  },
  {
   "cell_type": "code",
   "execution_count": 35,
   "id": "597c3fc8",
   "metadata": {
    "ExecuteTime": {
     "end_time": "2023-07-03T00:25:05.089751Z",
     "start_time": "2023-07-03T00:25:05.071717Z"
    }
   },
   "outputs": [
    {
     "name": "stdout",
     "output_type": "stream",
     "text": [
      "The p value is  1.3307205153730877e-07\n"
     ]
    }
   ],
   "source": [
    "# p value hesabı\n",
    "\n",
    "degrees_of_freedom = n -1\n",
    "p_value = stats.t.sf(abs(t_score), df=degrees_of_freedom)\n",
    "print('The p value is ', p_value)"
   ]
  },
  {
   "cell_type": "code",
   "execution_count": 36,
   "id": "3af7c421",
   "metadata": {
    "ExecuteTime": {
     "end_time": "2023-07-03T00:25:53.274592Z",
     "start_time": "2023-07-03T00:25:53.263651Z"
    }
   },
   "outputs": [
    {
     "name": "stdout",
     "output_type": "stream",
     "text": [
      "The t-score is  5.329070841262502\n",
      "The p-value is  1.3307205153727868e-07\n"
     ]
    }
   ],
   "source": [
    "# aynı degerleri ttest_1samp fonksiyonu ile bulalım\n",
    "\n",
    "t_statistics = stats.ttest_1samp(df1[colN], popmean = 30)\n",
    "t_score = t_statistics.statistic\n",
    "p_value = t_statistics.pvalue / 2 # We are interested in one-sided test.\n",
    "print('The t-score is ', t_score)\n",
    "print('The p-value is ', p_value)"
   ]
  },
  {
   "cell_type": "markdown",
   "id": "96315f51",
   "metadata": {},
   "source": [
    "At any significance level, there is strong evidence \" to reject the null hypothesis\"  and conclude that the population mean of BMI among Pima Indian Women is in fact greater than 30. Therefore, on average, the population is obese."
   ]
  },
  {
   "cell_type": "markdown",
   "id": "685a96a9",
   "metadata": {},
   "source": [
    "Herhangi bir önem düzeyinde, \"null hipotezi reddetmek\" için güçlü kanıtlar vardır ve Pima Kızılderili Kadınları arasında BMI'nin nüfus ortalamasının aslında 30'dan büyük olduğu sonucuna varılır. Bu nedenle, ortalama olarak nüfus obezdir."
   ]
  },
  {
   "cell_type": "code",
   "execution_count": null,
   "id": "dec0a91c",
   "metadata": {},
   "outputs": [],
   "source": []
  }
 ],
 "metadata": {
  "hide_input": false,
  "kernelspec": {
   "display_name": "Python 3 (ipykernel)",
   "language": "python",
   "name": "python3"
  },
  "language_info": {
   "codemirror_mode": {
    "name": "ipython",
    "version": 3
   },
   "file_extension": ".py",
   "mimetype": "text/x-python",
   "name": "python",
   "nbconvert_exporter": "python",
   "pygments_lexer": "ipython3",
   "version": "3.9.13"
  },
  "nbTranslate": {
   "displayLangs": [
    "*"
   ],
   "hotkey": "alt-t",
   "langInMainMenu": true,
   "sourceLang": "en",
   "targetLang": "fr",
   "useGoogleTranslate": true
  },
  "toc": {
   "base_numbering": 1,
   "nav_menu": {},
   "number_sections": true,
   "sideBar": true,
   "skip_h1_title": false,
   "title_cell": "Table of Contents",
   "title_sidebar": "Contents",
   "toc_cell": false,
   "toc_position": {},
   "toc_section_display": true,
   "toc_window_display": false
  },
  "varInspector": {
   "cols": {
    "lenName": 16,
    "lenType": 16,
    "lenVar": 40
   },
   "kernels_config": {
    "python": {
     "delete_cmd_postfix": "",
     "delete_cmd_prefix": "del ",
     "library": "var_list.py",
     "varRefreshCmd": "print(var_dic_list())"
    },
    "r": {
     "delete_cmd_postfix": ") ",
     "delete_cmd_prefix": "rm(",
     "library": "var_list.r",
     "varRefreshCmd": "cat(var_dic_list()) "
    }
   },
   "types_to_exclude": [
    "module",
    "function",
    "builtin_function_or_method",
    "instance",
    "_Feature"
   ],
   "window_display": false
  }
 },
 "nbformat": 4,
 "nbformat_minor": 5
}
