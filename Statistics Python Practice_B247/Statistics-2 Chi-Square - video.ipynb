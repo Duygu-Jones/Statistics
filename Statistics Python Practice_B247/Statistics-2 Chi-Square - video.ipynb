{
 "cells": [
  {
   "cell_type": "markdown",
   "id": "f8f10b89",
   "metadata": {},
   "source": [
    "# Chi-Square"
   ]
  },
  {
   "cell_type": "markdown",
   "id": "fe670cef",
   "metadata": {},
   "source": [
    "1. Goodness of Fit Test (Uygunluk Testi)\n",
    "2. Test of Homogeneity (Homojenlik Testi)\n",
    "3. Test of Independence (Bağımsızlık Testi)"
   ]
  },
  {
   "cell_type": "markdown",
   "id": "974126c6",
   "metadata": {},
   "source": [
    "## Test of Independence Test"
   ]
  },
  {
   "cell_type": "code",
   "execution_count": 1,
   "id": "e25d6f02",
   "metadata": {
    "ExecuteTime": {
     "end_time": "2023-07-03T22:50:00.262531Z",
     "start_time": "2023-07-03T22:49:58.224054Z"
    }
   },
   "outputs": [
    {
     "name": "stderr",
     "output_type": "stream",
     "text": [
      "<frozen importlib._bootstrap>:228: RuntimeWarning: scipy._lib.messagestream.MessageStream size changed, may indicate binary incompatibility. Expected 56 from C header, got 64 from PyObject\n"
     ]
    }
   ],
   "source": [
    "# Gerekli kütüphaneleri yükleyelim\n",
    "import pandas as pd\n",
    "import numpy as np\n",
    "import scipy.stats as stats"
   ]
  },
  {
   "cell_type": "code",
   "execution_count": 2,
   "id": "dca2030e",
   "metadata": {
    "ExecuteTime": {
     "end_time": "2023-07-03T22:51:10.611592Z",
     "start_time": "2023-07-03T22:51:10.559489Z"
    }
   },
   "outputs": [
    {
     "data": {
      "text/html": [
       "<div>\n",
       "<style scoped>\n",
       "    .dataframe tbody tr th:only-of-type {\n",
       "        vertical-align: middle;\n",
       "    }\n",
       "\n",
       "    .dataframe tbody tr th {\n",
       "        vertical-align: top;\n",
       "    }\n",
       "\n",
       "    .dataframe thead th {\n",
       "        text-align: right;\n",
       "    }\n",
       "</style>\n",
       "<table border=\"1\" class=\"dataframe\">\n",
       "  <thead>\n",
       "    <tr style=\"text-align: right;\">\n",
       "      <th></th>\n",
       "      <th>Cinsiyet</th>\n",
       "      <th>Kurs</th>\n",
       "    </tr>\n",
       "  </thead>\n",
       "  <tbody>\n",
       "    <tr>\n",
       "      <th>0</th>\n",
       "      <td>Erkek</td>\n",
       "      <td>Kurs1</td>\n",
       "    </tr>\n",
       "    <tr>\n",
       "      <th>1</th>\n",
       "      <td>Erkek</td>\n",
       "      <td>Kurs1</td>\n",
       "    </tr>\n",
       "    <tr>\n",
       "      <th>2</th>\n",
       "      <td>Erkek</td>\n",
       "      <td>Kurs1</td>\n",
       "    </tr>\n",
       "    <tr>\n",
       "      <th>3</th>\n",
       "      <td>Erkek</td>\n",
       "      <td>Kurs1</td>\n",
       "    </tr>\n",
       "    <tr>\n",
       "      <th>4</th>\n",
       "      <td>Erkek</td>\n",
       "      <td>Kurs1</td>\n",
       "    </tr>\n",
       "    <tr>\n",
       "      <th>...</th>\n",
       "      <td>...</td>\n",
       "      <td>...</td>\n",
       "    </tr>\n",
       "    <tr>\n",
       "      <th>120</th>\n",
       "      <td>Kadın</td>\n",
       "      <td>Kurs3</td>\n",
       "    </tr>\n",
       "    <tr>\n",
       "      <th>121</th>\n",
       "      <td>Kadın</td>\n",
       "      <td>Kurs3</td>\n",
       "    </tr>\n",
       "    <tr>\n",
       "      <th>122</th>\n",
       "      <td>Kadın</td>\n",
       "      <td>Kurs3</td>\n",
       "    </tr>\n",
       "    <tr>\n",
       "      <th>123</th>\n",
       "      <td>Kadın</td>\n",
       "      <td>Kurs3</td>\n",
       "    </tr>\n",
       "    <tr>\n",
       "      <th>124</th>\n",
       "      <td>Kadın</td>\n",
       "      <td>Kurs3</td>\n",
       "    </tr>\n",
       "  </tbody>\n",
       "</table>\n",
       "<p>125 rows × 2 columns</p>\n",
       "</div>"
      ],
      "text/plain": [
       "    Cinsiyet   Kurs\n",
       "0      Erkek  Kurs1\n",
       "1      Erkek  Kurs1\n",
       "2      Erkek  Kurs1\n",
       "3      Erkek  Kurs1\n",
       "4      Erkek  Kurs1\n",
       "..       ...    ...\n",
       "120    Kadın  Kurs3\n",
       "121    Kadın  Kurs3\n",
       "122    Kadın  Kurs3\n",
       "123    Kadın  Kurs3\n",
       "124    Kadın  Kurs3\n",
       "\n",
       "[125 rows x 2 columns]"
      ]
     },
     "execution_count": 2,
     "metadata": {},
     "output_type": "execute_result"
    }
   ],
   "source": [
    "# Örnek verilerimizi oluşturalım \n",
    "# 'Cinsiyet' değişkeni için, her bir cinsiyeti temsil eden 'Erkek' ve 'Kadın' string değerlerini //\n",
    "# // belirli sayıda tekrar ettirdik. Bu tekrar etme işlemi Python'da * operatörü ile gerçekleştirilir. // \n",
    "# //Örneğin, ['Erkek'] * 10 ifadesi 'Erkek' değerini 10 kez tekrarlayan bir liste oluşturur.\n",
    "\n",
    "# 'Kurs' değişkeni için, her bir kursu temsil eden 'Kurs1', 'Kurs2' ve 'Kurs3' string değerlerini belirli sayıda tekrar ettirdik. Bu tekrarlamalar, her bir kursa kaydolan öğrenci sayısını temsil eder.\n",
    "\n",
    "\n",
    "data = {'Cinsiyet': ['Erkek'] * 10 + ['Erkek'] * 20 + ['Erkek'] * 30 + ['Kadın'] * 20 + ['Kadın'] * 15 + ['Kadın'] * 30,\n",
    "        'Kurs': ['Kurs1'] * 10 + ['Kurs2'] * 20 + ['Kurs3'] * 30 + ['Kurs1'] * 20 + ['Kurs2'] * 15 + ['Kurs3'] * 30}\n",
    "\n",
    "df = pd.DataFrame(data)\n",
    "df\n"
   ]
  },
  {
   "cell_type": "code",
   "execution_count": 5,
   "id": "3f7e08a2",
   "metadata": {
    "ExecuteTime": {
     "end_time": "2023-07-03T21:20:18.839267Z",
     "start_time": "2023-07-03T21:20:18.803554Z"
    }
   },
   "outputs": [
    {
     "name": "stdout",
     "output_type": "stream",
     "text": [
      "Kontenjan Tablosu:\n",
      "Kurs      Kurs1  Kurs2  Kurs3\n",
      "Cinsiyet                     \n",
      "Erkek        10     20     30\n",
      "Kadın        20     15     30\n"
     ]
    }
   ],
   "source": [
    "# Kontenjan tablosunu oluşturalım\n",
    "contingency_table = pd.crosstab(df['Cinsiyet'], df['Kurs'])\n",
    "\n",
    "print(\"Kontenjan Tablosu:\")\n",
    "print(contingency_table)\n",
    "\n"
   ]
  },
  {
   "cell_type": "code",
   "execution_count": 6,
   "id": "091415e4",
   "metadata": {
    "ExecuteTime": {
     "end_time": "2023-07-03T21:20:24.898014Z",
     "start_time": "2023-07-03T21:20:24.876971Z"
    }
   },
   "outputs": [],
   "source": [
    "# Bu tabloyu Chi-square testine sokalım\n",
    "chi2, p_value, dof, expected = stats.chi2_contingency(contingency_table.values)\n",
    "\n"
   ]
  },
  {
   "cell_type": "code",
   "execution_count": 7,
   "id": "76a02d3a",
   "metadata": {
    "ExecuteTime": {
     "end_time": "2023-07-03T21:20:29.670871Z",
     "start_time": "2023-07-03T21:20:29.662248Z"
    }
   },
   "outputs": [
    {
     "name": "stdout",
     "output_type": "stream",
     "text": [
      "\n",
      "Chi-Square Statistic : 3.8537851037851034\n",
      "P-Value : 0.14559994049722333\n",
      "Degrees of Freedom : 2\n",
      "Expected Table: \n",
      " [[14.4 16.8 28.8]\n",
      " [15.6 18.2 31.2]]\n"
     ]
    }
   ],
   "source": [
    "# Sonuçları yazdıralım\n",
    "print(f\"\\nChi-Square Statistic : {chi2}\")\n",
    "print(f\"P-Value : {p_value}\")\n",
    "print(f\"Degrees of Freedom : {dof}\")\n",
    "print(f\"Expected Table: \\n {expected}\")\n",
    "\n"
   ]
  },
  {
   "cell_type": "code",
   "execution_count": 8,
   "id": "d5d06276",
   "metadata": {
    "ExecuteTime": {
     "end_time": "2023-07-03T21:20:45.886684Z",
     "start_time": "2023-07-03T21:20:45.870654Z"
    }
   },
   "outputs": [
    {
     "name": "stdout",
     "output_type": "stream",
     "text": [
      "\n",
      "Null hipotezi kabul ediyoruz. Bu, kursa katılımın ve cinsiyetin bağımsız olduğunu gösterir.\n"
     ]
    }
   ],
   "source": [
    "# p-değerini 0.05 ile karşılaştıralım ve hipotezi kabul edip etmeme kararını verelim\n",
    "alpha = 0.05\n",
    "if p_value < alpha:\n",
    "    print(\"\\nNull hipotezi reddediyoruz. Bu, kursa katılımın ve cinsiyetin bağımsız olmadığını gösterir.\")\n",
    "else:\n",
    "    print(\"\\nNull hipotezi kabul ediyoruz. Bu, kursa katılımın ve cinsiyetin bağımsız olduğunu gösterir.\")"
   ]
  },
  {
   "cell_type": "markdown",
   "id": "b4337cdf",
   "metadata": {},
   "source": [
    "## Goodness-of-Fit Test"
   ]
  },
  {
   "cell_type": "markdown",
   "id": "6b62491b",
   "metadata": {},
   "source": [
    "## Data Uretimi"
   ]
  },
  {
   "cell_type": "markdown",
   "id": "b059882e",
   "metadata": {},
   "source": [
    "Bir web sitesi sahibi olan Christopher, web sitesine abonelik satın alan kişilere ücretsiz bir hediye sunmak istiyor. Yeni aboneler eşit değerde üç hediyeden birini seçebilir: hediye çeki, sevimli oyuncak veya ücretsiz sinema biletleri. 900 kişi kaydolduktan sonra Christopher, sunulan üç hediyenin eşit derecede popüler olup olmadığını görmek için rakamları gözden geçirmek istiyor.Bu 3 hediyenini hepsi eşit seviyede popüler mi?"
   ]
  },
  {
   "cell_type": "code",
   "execution_count": 3,
   "id": "28fede79",
   "metadata": {
    "ExecuteTime": {
     "end_time": "2023-07-03T22:57:14.816642Z",
     "start_time": "2023-07-03T22:57:13.696320Z"
    }
   },
   "outputs": [],
   "source": [
    "# itertools kütüphanesi açıklama: https://docs.python.org/3/library/itertools.html\n",
    "\n",
    "from scipy import stats\n",
    "import numpy as np\n",
    "import pandas as pd\n",
    "import seaborn as sns\n",
    "import itertools"
   ]
  },
  {
   "cell_type": "code",
   "execution_count": 4,
   "id": "db797a5a",
   "metadata": {
    "ExecuteTime": {
     "end_time": "2023-07-03T22:59:15.199208Z",
     "start_time": "2023-07-03T22:59:15.185783Z"
    }
   },
   "outputs": [],
   "source": [
    "# data seti oluşturalım\n",
    "# e:hediye çeşitleri..soru metninden alındı..  \n",
    "# n: bu hediyeyi alanların sayısı\n",
    "\n",
    "e = [\"Gift Certificate\", \"Cuddly Toy\", \"Cinema Tickets\"]\n",
    "n = [315, 265, 320]"
   ]
  },
  {
   "cell_type": "code",
   "execution_count": 5,
   "id": "c4432c9a",
   "metadata": {
    "ExecuteTime": {
     "end_time": "2023-07-03T23:00:26.409613Z",
     "start_time": "2023-07-03T23:00:26.391574Z"
    }
   },
   "outputs": [
    {
     "data": {
      "text/plain": [
       "['Gift Certificate',\n",
       " 'Gift Certificate',\n",
       " 'Gift Certificate',\n",
       " 'Gift Certificate',\n",
       " 'Gift Certificate',\n",
       " 'Gift Certificate',\n",
       " 'Gift Certificate',\n",
       " 'Gift Certificate',\n",
       " 'Gift Certificate',\n",
       " 'Gift Certificate',\n",
       " 'Gift Certificate',\n",
       " 'Gift Certificate',\n",
       " 'Gift Certificate',\n",
       " 'Gift Certificate',\n",
       " 'Gift Certificate',\n",
       " 'Gift Certificate',\n",
       " 'Gift Certificate',\n",
       " 'Gift Certificate',\n",
       " 'Gift Certificate',\n",
       " 'Gift Certificate',\n",
       " 'Gift Certificate',\n",
       " 'Gift Certificate',\n",
       " 'Gift Certificate',\n",
       " 'Gift Certificate',\n",
       " 'Gift Certificate',\n",
       " 'Gift Certificate',\n",
       " 'Gift Certificate',\n",
       " 'Gift Certificate',\n",
       " 'Gift Certificate',\n",
       " 'Gift Certificate',\n",
       " 'Gift Certificate',\n",
       " 'Gift Certificate',\n",
       " 'Gift Certificate',\n",
       " 'Gift Certificate',\n",
       " 'Gift Certificate',\n",
       " 'Gift Certificate',\n",
       " 'Gift Certificate',\n",
       " 'Gift Certificate',\n",
       " 'Gift Certificate',\n",
       " 'Gift Certificate',\n",
       " 'Gift Certificate',\n",
       " 'Gift Certificate',\n",
       " 'Gift Certificate',\n",
       " 'Gift Certificate',\n",
       " 'Gift Certificate',\n",
       " 'Gift Certificate',\n",
       " 'Gift Certificate',\n",
       " 'Gift Certificate',\n",
       " 'Gift Certificate',\n",
       " 'Gift Certificate',\n",
       " 'Gift Certificate',\n",
       " 'Gift Certificate',\n",
       " 'Gift Certificate',\n",
       " 'Gift Certificate',\n",
       " 'Gift Certificate',\n",
       " 'Gift Certificate',\n",
       " 'Gift Certificate',\n",
       " 'Gift Certificate',\n",
       " 'Gift Certificate',\n",
       " 'Gift Certificate',\n",
       " 'Gift Certificate',\n",
       " 'Gift Certificate',\n",
       " 'Gift Certificate',\n",
       " 'Gift Certificate',\n",
       " 'Gift Certificate',\n",
       " 'Gift Certificate',\n",
       " 'Gift Certificate',\n",
       " 'Gift Certificate',\n",
       " 'Gift Certificate',\n",
       " 'Gift Certificate',\n",
       " 'Gift Certificate',\n",
       " 'Gift Certificate',\n",
       " 'Gift Certificate',\n",
       " 'Gift Certificate',\n",
       " 'Gift Certificate',\n",
       " 'Gift Certificate',\n",
       " 'Gift Certificate',\n",
       " 'Gift Certificate',\n",
       " 'Gift Certificate',\n",
       " 'Gift Certificate',\n",
       " 'Gift Certificate',\n",
       " 'Gift Certificate',\n",
       " 'Gift Certificate',\n",
       " 'Gift Certificate',\n",
       " 'Gift Certificate',\n",
       " 'Gift Certificate',\n",
       " 'Gift Certificate',\n",
       " 'Gift Certificate',\n",
       " 'Gift Certificate',\n",
       " 'Gift Certificate',\n",
       " 'Gift Certificate',\n",
       " 'Gift Certificate',\n",
       " 'Gift Certificate',\n",
       " 'Gift Certificate',\n",
       " 'Gift Certificate',\n",
       " 'Gift Certificate',\n",
       " 'Gift Certificate',\n",
       " 'Gift Certificate',\n",
       " 'Gift Certificate',\n",
       " 'Gift Certificate',\n",
       " 'Gift Certificate',\n",
       " 'Gift Certificate',\n",
       " 'Gift Certificate',\n",
       " 'Gift Certificate',\n",
       " 'Gift Certificate',\n",
       " 'Gift Certificate',\n",
       " 'Gift Certificate',\n",
       " 'Gift Certificate',\n",
       " 'Gift Certificate',\n",
       " 'Gift Certificate',\n",
       " 'Gift Certificate',\n",
       " 'Gift Certificate',\n",
       " 'Gift Certificate',\n",
       " 'Gift Certificate',\n",
       " 'Gift Certificate',\n",
       " 'Gift Certificate',\n",
       " 'Gift Certificate',\n",
       " 'Gift Certificate',\n",
       " 'Gift Certificate',\n",
       " 'Gift Certificate',\n",
       " 'Gift Certificate',\n",
       " 'Gift Certificate',\n",
       " 'Gift Certificate',\n",
       " 'Gift Certificate',\n",
       " 'Gift Certificate',\n",
       " 'Gift Certificate',\n",
       " 'Gift Certificate',\n",
       " 'Gift Certificate',\n",
       " 'Gift Certificate',\n",
       " 'Gift Certificate',\n",
       " 'Gift Certificate',\n",
       " 'Gift Certificate',\n",
       " 'Gift Certificate',\n",
       " 'Gift Certificate',\n",
       " 'Gift Certificate',\n",
       " 'Gift Certificate',\n",
       " 'Gift Certificate',\n",
       " 'Gift Certificate',\n",
       " 'Gift Certificate',\n",
       " 'Gift Certificate',\n",
       " 'Gift Certificate',\n",
       " 'Gift Certificate',\n",
       " 'Gift Certificate',\n",
       " 'Gift Certificate',\n",
       " 'Gift Certificate',\n",
       " 'Gift Certificate',\n",
       " 'Gift Certificate',\n",
       " 'Gift Certificate',\n",
       " 'Gift Certificate',\n",
       " 'Gift Certificate',\n",
       " 'Gift Certificate',\n",
       " 'Gift Certificate',\n",
       " 'Gift Certificate',\n",
       " 'Gift Certificate',\n",
       " 'Gift Certificate',\n",
       " 'Gift Certificate',\n",
       " 'Gift Certificate',\n",
       " 'Gift Certificate',\n",
       " 'Gift Certificate',\n",
       " 'Gift Certificate',\n",
       " 'Gift Certificate',\n",
       " 'Gift Certificate',\n",
       " 'Gift Certificate',\n",
       " 'Gift Certificate',\n",
       " 'Gift Certificate',\n",
       " 'Gift Certificate',\n",
       " 'Gift Certificate',\n",
       " 'Gift Certificate',\n",
       " 'Gift Certificate',\n",
       " 'Gift Certificate',\n",
       " 'Gift Certificate',\n",
       " 'Gift Certificate',\n",
       " 'Gift Certificate',\n",
       " 'Gift Certificate',\n",
       " 'Gift Certificate',\n",
       " 'Gift Certificate',\n",
       " 'Gift Certificate',\n",
       " 'Gift Certificate',\n",
       " 'Gift Certificate',\n",
       " 'Gift Certificate',\n",
       " 'Gift Certificate',\n",
       " 'Gift Certificate',\n",
       " 'Gift Certificate',\n",
       " 'Gift Certificate',\n",
       " 'Gift Certificate',\n",
       " 'Gift Certificate',\n",
       " 'Gift Certificate',\n",
       " 'Gift Certificate',\n",
       " 'Gift Certificate',\n",
       " 'Gift Certificate',\n",
       " 'Gift Certificate',\n",
       " 'Gift Certificate',\n",
       " 'Gift Certificate',\n",
       " 'Gift Certificate',\n",
       " 'Gift Certificate',\n",
       " 'Gift Certificate',\n",
       " 'Gift Certificate',\n",
       " 'Gift Certificate',\n",
       " 'Gift Certificate',\n",
       " 'Gift Certificate',\n",
       " 'Gift Certificate',\n",
       " 'Gift Certificate',\n",
       " 'Gift Certificate',\n",
       " 'Gift Certificate',\n",
       " 'Gift Certificate',\n",
       " 'Gift Certificate',\n",
       " 'Gift Certificate',\n",
       " 'Gift Certificate',\n",
       " 'Gift Certificate',\n",
       " 'Gift Certificate',\n",
       " 'Gift Certificate',\n",
       " 'Gift Certificate',\n",
       " 'Gift Certificate',\n",
       " 'Gift Certificate',\n",
       " 'Gift Certificate',\n",
       " 'Gift Certificate',\n",
       " 'Gift Certificate',\n",
       " 'Gift Certificate',\n",
       " 'Gift Certificate',\n",
       " 'Gift Certificate',\n",
       " 'Gift Certificate',\n",
       " 'Gift Certificate',\n",
       " 'Gift Certificate',\n",
       " 'Gift Certificate',\n",
       " 'Gift Certificate',\n",
       " 'Gift Certificate',\n",
       " 'Gift Certificate',\n",
       " 'Gift Certificate',\n",
       " 'Gift Certificate',\n",
       " 'Gift Certificate',\n",
       " 'Gift Certificate',\n",
       " 'Gift Certificate',\n",
       " 'Gift Certificate',\n",
       " 'Gift Certificate',\n",
       " 'Gift Certificate',\n",
       " 'Gift Certificate',\n",
       " 'Gift Certificate',\n",
       " 'Gift Certificate',\n",
       " 'Gift Certificate',\n",
       " 'Gift Certificate',\n",
       " 'Gift Certificate',\n",
       " 'Gift Certificate',\n",
       " 'Gift Certificate',\n",
       " 'Gift Certificate',\n",
       " 'Gift Certificate',\n",
       " 'Gift Certificate',\n",
       " 'Gift Certificate',\n",
       " 'Gift Certificate',\n",
       " 'Gift Certificate',\n",
       " 'Gift Certificate',\n",
       " 'Gift Certificate',\n",
       " 'Gift Certificate',\n",
       " 'Gift Certificate',\n",
       " 'Gift Certificate',\n",
       " 'Gift Certificate',\n",
       " 'Gift Certificate',\n",
       " 'Gift Certificate',\n",
       " 'Gift Certificate',\n",
       " 'Gift Certificate',\n",
       " 'Gift Certificate',\n",
       " 'Gift Certificate',\n",
       " 'Gift Certificate',\n",
       " 'Gift Certificate',\n",
       " 'Gift Certificate',\n",
       " 'Gift Certificate',\n",
       " 'Gift Certificate',\n",
       " 'Gift Certificate',\n",
       " 'Gift Certificate',\n",
       " 'Gift Certificate',\n",
       " 'Gift Certificate',\n",
       " 'Gift Certificate',\n",
       " 'Gift Certificate',\n",
       " 'Gift Certificate',\n",
       " 'Gift Certificate',\n",
       " 'Gift Certificate',\n",
       " 'Gift Certificate',\n",
       " 'Gift Certificate',\n",
       " 'Gift Certificate',\n",
       " 'Gift Certificate',\n",
       " 'Gift Certificate',\n",
       " 'Gift Certificate',\n",
       " 'Gift Certificate',\n",
       " 'Gift Certificate',\n",
       " 'Gift Certificate',\n",
       " 'Gift Certificate',\n",
       " 'Gift Certificate',\n",
       " 'Gift Certificate',\n",
       " 'Gift Certificate',\n",
       " 'Gift Certificate',\n",
       " 'Gift Certificate',\n",
       " 'Gift Certificate',\n",
       " 'Gift Certificate',\n",
       " 'Gift Certificate',\n",
       " 'Gift Certificate',\n",
       " 'Gift Certificate',\n",
       " 'Gift Certificate',\n",
       " 'Gift Certificate',\n",
       " 'Gift Certificate',\n",
       " 'Gift Certificate',\n",
       " 'Gift Certificate',\n",
       " 'Gift Certificate',\n",
       " 'Gift Certificate',\n",
       " 'Gift Certificate',\n",
       " 'Gift Certificate',\n",
       " 'Gift Certificate',\n",
       " 'Gift Certificate',\n",
       " 'Gift Certificate',\n",
       " 'Gift Certificate',\n",
       " 'Gift Certificate',\n",
       " 'Gift Certificate',\n",
       " 'Gift Certificate',\n",
       " 'Gift Certificate',\n",
       " 'Gift Certificate',\n",
       " 'Gift Certificate',\n",
       " 'Gift Certificate']"
      ]
     },
     "execution_count": 5,
     "metadata": {},
     "output_type": "execute_result"
    }
   ],
   "source": [
    "# kategorik veri uretimini e ve n degerlerine gore yapalım\n",
    "\n",
    "list(itertools.repeat(e[0], n[0]))"
   ]
  },
  {
   "cell_type": "code",
   "execution_count": 6,
   "id": "d6ae864c",
   "metadata": {
    "ExecuteTime": {
     "end_time": "2023-07-03T23:01:22.377276Z",
     "start_time": "2023-07-03T23:01:22.368764Z"
    }
   },
   "outputs": [],
   "source": [
    "#herbir hediye icin verilen n sayısında uretelim\n",
    "\n",
    "it1 = np.array(list(itertools.repeat(e[0], n[0])))\n",
    "it2 = np.array(list(itertools.repeat(e[1], n[1])))\n",
    "it3 = np.array(list(itertools.repeat(e[2], n[2])))"
   ]
  },
  {
   "cell_type": "code",
   "execution_count": 7,
   "id": "caca041c",
   "metadata": {
    "ExecuteTime": {
     "end_time": "2023-07-03T23:02:25.406062Z",
     "start_time": "2023-07-03T23:02:25.382586Z"
    }
   },
   "outputs": [
    {
     "data": {
      "text/plain": [
       "array(['Gift Certificate', 'Gift Certificate', 'Gift Certificate',\n",
       "       'Gift Certificate', 'Gift Certificate', 'Gift Certificate',\n",
       "       'Gift Certificate', 'Gift Certificate', 'Gift Certificate',\n",
       "       'Gift Certificate', 'Gift Certificate', 'Gift Certificate',\n",
       "       'Gift Certificate', 'Gift Certificate', 'Gift Certificate',\n",
       "       'Gift Certificate', 'Gift Certificate', 'Gift Certificate',\n",
       "       'Gift Certificate', 'Gift Certificate', 'Gift Certificate',\n",
       "       'Gift Certificate', 'Gift Certificate', 'Gift Certificate',\n",
       "       'Gift Certificate', 'Gift Certificate', 'Gift Certificate',\n",
       "       'Gift Certificate', 'Gift Certificate', 'Gift Certificate',\n",
       "       'Gift Certificate', 'Gift Certificate', 'Gift Certificate',\n",
       "       'Gift Certificate', 'Gift Certificate', 'Gift Certificate',\n",
       "       'Gift Certificate', 'Gift Certificate', 'Gift Certificate',\n",
       "       'Gift Certificate', 'Gift Certificate', 'Gift Certificate',\n",
       "       'Gift Certificate', 'Gift Certificate', 'Gift Certificate',\n",
       "       'Gift Certificate', 'Gift Certificate', 'Gift Certificate',\n",
       "       'Gift Certificate', 'Gift Certificate', 'Gift Certificate',\n",
       "       'Gift Certificate', 'Gift Certificate', 'Gift Certificate',\n",
       "       'Gift Certificate', 'Gift Certificate', 'Gift Certificate',\n",
       "       'Gift Certificate', 'Gift Certificate', 'Gift Certificate',\n",
       "       'Gift Certificate', 'Gift Certificate', 'Gift Certificate',\n",
       "       'Gift Certificate', 'Gift Certificate', 'Gift Certificate',\n",
       "       'Gift Certificate', 'Gift Certificate', 'Gift Certificate',\n",
       "       'Gift Certificate', 'Gift Certificate', 'Gift Certificate',\n",
       "       'Gift Certificate', 'Gift Certificate', 'Gift Certificate',\n",
       "       'Gift Certificate', 'Gift Certificate', 'Gift Certificate',\n",
       "       'Gift Certificate', 'Gift Certificate', 'Gift Certificate',\n",
       "       'Gift Certificate', 'Gift Certificate', 'Gift Certificate',\n",
       "       'Gift Certificate', 'Gift Certificate', 'Gift Certificate',\n",
       "       'Gift Certificate', 'Gift Certificate', 'Gift Certificate',\n",
       "       'Gift Certificate', 'Gift Certificate', 'Gift Certificate',\n",
       "       'Gift Certificate', 'Gift Certificate', 'Gift Certificate',\n",
       "       'Gift Certificate', 'Gift Certificate', 'Gift Certificate',\n",
       "       'Gift Certificate', 'Gift Certificate', 'Gift Certificate',\n",
       "       'Gift Certificate', 'Gift Certificate', 'Gift Certificate',\n",
       "       'Gift Certificate', 'Gift Certificate', 'Gift Certificate',\n",
       "       'Gift Certificate', 'Gift Certificate', 'Gift Certificate',\n",
       "       'Gift Certificate', 'Gift Certificate', 'Gift Certificate',\n",
       "       'Gift Certificate', 'Gift Certificate', 'Gift Certificate',\n",
       "       'Gift Certificate', 'Gift Certificate', 'Gift Certificate',\n",
       "       'Gift Certificate', 'Gift Certificate', 'Gift Certificate',\n",
       "       'Gift Certificate', 'Gift Certificate', 'Gift Certificate',\n",
       "       'Gift Certificate', 'Gift Certificate', 'Gift Certificate',\n",
       "       'Gift Certificate', 'Gift Certificate', 'Gift Certificate',\n",
       "       'Gift Certificate', 'Gift Certificate', 'Gift Certificate',\n",
       "       'Gift Certificate', 'Gift Certificate', 'Gift Certificate',\n",
       "       'Gift Certificate', 'Gift Certificate', 'Gift Certificate',\n",
       "       'Gift Certificate', 'Gift Certificate', 'Gift Certificate',\n",
       "       'Gift Certificate', 'Gift Certificate', 'Gift Certificate',\n",
       "       'Gift Certificate', 'Gift Certificate', 'Gift Certificate',\n",
       "       'Gift Certificate', 'Gift Certificate', 'Gift Certificate',\n",
       "       'Gift Certificate', 'Gift Certificate', 'Gift Certificate',\n",
       "       'Gift Certificate', 'Gift Certificate', 'Gift Certificate',\n",
       "       'Gift Certificate', 'Gift Certificate', 'Gift Certificate',\n",
       "       'Gift Certificate', 'Gift Certificate', 'Gift Certificate',\n",
       "       'Gift Certificate', 'Gift Certificate', 'Gift Certificate',\n",
       "       'Gift Certificate', 'Gift Certificate', 'Gift Certificate',\n",
       "       'Gift Certificate', 'Gift Certificate', 'Gift Certificate',\n",
       "       'Gift Certificate', 'Gift Certificate', 'Gift Certificate',\n",
       "       'Gift Certificate', 'Gift Certificate', 'Gift Certificate',\n",
       "       'Gift Certificate', 'Gift Certificate', 'Gift Certificate',\n",
       "       'Gift Certificate', 'Gift Certificate', 'Gift Certificate',\n",
       "       'Gift Certificate', 'Gift Certificate', 'Gift Certificate',\n",
       "       'Gift Certificate', 'Gift Certificate', 'Gift Certificate',\n",
       "       'Gift Certificate', 'Gift Certificate', 'Gift Certificate',\n",
       "       'Gift Certificate', 'Gift Certificate', 'Gift Certificate',\n",
       "       'Gift Certificate', 'Gift Certificate', 'Gift Certificate',\n",
       "       'Gift Certificate', 'Gift Certificate', 'Gift Certificate',\n",
       "       'Gift Certificate', 'Gift Certificate', 'Gift Certificate',\n",
       "       'Gift Certificate', 'Gift Certificate', 'Gift Certificate',\n",
       "       'Gift Certificate', 'Gift Certificate', 'Gift Certificate',\n",
       "       'Gift Certificate', 'Gift Certificate', 'Gift Certificate',\n",
       "       'Gift Certificate', 'Gift Certificate', 'Gift Certificate',\n",
       "       'Gift Certificate', 'Gift Certificate', 'Gift Certificate',\n",
       "       'Gift Certificate', 'Gift Certificate', 'Gift Certificate',\n",
       "       'Gift Certificate', 'Gift Certificate', 'Gift Certificate',\n",
       "       'Gift Certificate', 'Gift Certificate', 'Gift Certificate',\n",
       "       'Gift Certificate', 'Gift Certificate', 'Gift Certificate',\n",
       "       'Gift Certificate', 'Gift Certificate', 'Gift Certificate',\n",
       "       'Gift Certificate', 'Gift Certificate', 'Gift Certificate',\n",
       "       'Gift Certificate', 'Gift Certificate', 'Gift Certificate',\n",
       "       'Gift Certificate', 'Gift Certificate', 'Gift Certificate',\n",
       "       'Gift Certificate', 'Gift Certificate', 'Gift Certificate',\n",
       "       'Gift Certificate', 'Gift Certificate', 'Gift Certificate',\n",
       "       'Gift Certificate', 'Gift Certificate', 'Gift Certificate',\n",
       "       'Gift Certificate', 'Gift Certificate', 'Gift Certificate',\n",
       "       'Gift Certificate', 'Gift Certificate', 'Gift Certificate',\n",
       "       'Gift Certificate', 'Gift Certificate', 'Gift Certificate',\n",
       "       'Gift Certificate', 'Gift Certificate', 'Gift Certificate',\n",
       "       'Gift Certificate', 'Gift Certificate', 'Gift Certificate',\n",
       "       'Gift Certificate', 'Gift Certificate', 'Gift Certificate',\n",
       "       'Gift Certificate', 'Gift Certificate', 'Gift Certificate',\n",
       "       'Gift Certificate', 'Gift Certificate', 'Gift Certificate',\n",
       "       'Gift Certificate', 'Gift Certificate', 'Gift Certificate',\n",
       "       'Gift Certificate', 'Gift Certificate', 'Gift Certificate',\n",
       "       'Gift Certificate', 'Gift Certificate', 'Gift Certificate',\n",
       "       'Gift Certificate', 'Gift Certificate', 'Gift Certificate',\n",
       "       'Gift Certificate', 'Gift Certificate', 'Gift Certificate',\n",
       "       'Gift Certificate', 'Gift Certificate', 'Gift Certificate',\n",
       "       'Gift Certificate', 'Gift Certificate', 'Gift Certificate',\n",
       "       'Gift Certificate', 'Gift Certificate', 'Gift Certificate',\n",
       "       'Gift Certificate', 'Gift Certificate', 'Gift Certificate',\n",
       "       'Gift Certificate', 'Gift Certificate', 'Gift Certificate',\n",
       "       'Gift Certificate', 'Gift Certificate', 'Gift Certificate',\n",
       "       'Gift Certificate', 'Gift Certificate', 'Gift Certificate',\n",
       "       'Cuddly Toy', 'Cuddly Toy', 'Cuddly Toy', 'Cuddly Toy',\n",
       "       'Cuddly Toy', 'Cuddly Toy', 'Cuddly Toy', 'Cuddly Toy',\n",
       "       'Cuddly Toy', 'Cuddly Toy', 'Cuddly Toy', 'Cuddly Toy',\n",
       "       'Cuddly Toy', 'Cuddly Toy', 'Cuddly Toy', 'Cuddly Toy',\n",
       "       'Cuddly Toy', 'Cuddly Toy', 'Cuddly Toy', 'Cuddly Toy',\n",
       "       'Cuddly Toy', 'Cuddly Toy', 'Cuddly Toy', 'Cuddly Toy',\n",
       "       'Cuddly Toy', 'Cuddly Toy', 'Cuddly Toy', 'Cuddly Toy',\n",
       "       'Cuddly Toy', 'Cuddly Toy', 'Cuddly Toy', 'Cuddly Toy',\n",
       "       'Cuddly Toy', 'Cuddly Toy', 'Cuddly Toy', 'Cuddly Toy',\n",
       "       'Cuddly Toy', 'Cuddly Toy', 'Cuddly Toy', 'Cuddly Toy',\n",
       "       'Cuddly Toy', 'Cuddly Toy', 'Cuddly Toy', 'Cuddly Toy',\n",
       "       'Cuddly Toy', 'Cuddly Toy', 'Cuddly Toy', 'Cuddly Toy',\n",
       "       'Cuddly Toy', 'Cuddly Toy', 'Cuddly Toy', 'Cuddly Toy',\n",
       "       'Cuddly Toy', 'Cuddly Toy', 'Cuddly Toy', 'Cuddly Toy',\n",
       "       'Cuddly Toy', 'Cuddly Toy', 'Cuddly Toy', 'Cuddly Toy',\n",
       "       'Cuddly Toy', 'Cuddly Toy', 'Cuddly Toy', 'Cuddly Toy',\n",
       "       'Cuddly Toy', 'Cuddly Toy', 'Cuddly Toy', 'Cuddly Toy',\n",
       "       'Cuddly Toy', 'Cuddly Toy', 'Cuddly Toy', 'Cuddly Toy',\n",
       "       'Cuddly Toy', 'Cuddly Toy', 'Cuddly Toy', 'Cuddly Toy',\n",
       "       'Cuddly Toy', 'Cuddly Toy', 'Cuddly Toy', 'Cuddly Toy',\n",
       "       'Cuddly Toy', 'Cuddly Toy', 'Cuddly Toy', 'Cuddly Toy',\n",
       "       'Cuddly Toy', 'Cuddly Toy', 'Cuddly Toy', 'Cuddly Toy',\n",
       "       'Cuddly Toy', 'Cuddly Toy', 'Cuddly Toy', 'Cuddly Toy',\n",
       "       'Cuddly Toy', 'Cuddly Toy', 'Cuddly Toy', 'Cuddly Toy',\n",
       "       'Cuddly Toy', 'Cuddly Toy', 'Cuddly Toy', 'Cuddly Toy',\n",
       "       'Cuddly Toy', 'Cuddly Toy', 'Cuddly Toy', 'Cuddly Toy',\n",
       "       'Cuddly Toy', 'Cuddly Toy', 'Cuddly Toy', 'Cuddly Toy',\n",
       "       'Cuddly Toy', 'Cuddly Toy', 'Cuddly Toy', 'Cuddly Toy',\n",
       "       'Cuddly Toy', 'Cuddly Toy', 'Cuddly Toy', 'Cuddly Toy',\n",
       "       'Cuddly Toy', 'Cuddly Toy', 'Cuddly Toy', 'Cuddly Toy',\n",
       "       'Cuddly Toy', 'Cuddly Toy', 'Cuddly Toy', 'Cuddly Toy',\n",
       "       'Cuddly Toy', 'Cuddly Toy', 'Cuddly Toy', 'Cuddly Toy',\n",
       "       'Cuddly Toy', 'Cuddly Toy', 'Cuddly Toy', 'Cuddly Toy',\n",
       "       'Cuddly Toy', 'Cuddly Toy', 'Cuddly Toy', 'Cuddly Toy',\n",
       "       'Cuddly Toy', 'Cuddly Toy', 'Cuddly Toy', 'Cuddly Toy',\n",
       "       'Cuddly Toy', 'Cuddly Toy', 'Cuddly Toy', 'Cuddly Toy',\n",
       "       'Cuddly Toy', 'Cuddly Toy', 'Cuddly Toy', 'Cuddly Toy',\n",
       "       'Cuddly Toy', 'Cuddly Toy', 'Cuddly Toy', 'Cuddly Toy',\n",
       "       'Cuddly Toy', 'Cuddly Toy', 'Cuddly Toy', 'Cuddly Toy',\n",
       "       'Cuddly Toy', 'Cuddly Toy', 'Cuddly Toy', 'Cuddly Toy',\n",
       "       'Cuddly Toy', 'Cuddly Toy', 'Cuddly Toy', 'Cuddly Toy',\n",
       "       'Cuddly Toy', 'Cuddly Toy', 'Cuddly Toy', 'Cuddly Toy',\n",
       "       'Cuddly Toy', 'Cuddly Toy', 'Cuddly Toy', 'Cuddly Toy',\n",
       "       'Cuddly Toy', 'Cuddly Toy', 'Cuddly Toy', 'Cuddly Toy',\n",
       "       'Cuddly Toy', 'Cuddly Toy', 'Cuddly Toy', 'Cuddly Toy',\n",
       "       'Cuddly Toy', 'Cuddly Toy', 'Cuddly Toy', 'Cuddly Toy',\n",
       "       'Cuddly Toy', 'Cuddly Toy', 'Cuddly Toy', 'Cuddly Toy',\n",
       "       'Cuddly Toy', 'Cuddly Toy', 'Cuddly Toy', 'Cuddly Toy',\n",
       "       'Cuddly Toy', 'Cuddly Toy', 'Cuddly Toy', 'Cuddly Toy',\n",
       "       'Cuddly Toy', 'Cuddly Toy', 'Cuddly Toy', 'Cuddly Toy',\n",
       "       'Cuddly Toy', 'Cuddly Toy', 'Cuddly Toy', 'Cuddly Toy',\n",
       "       'Cuddly Toy', 'Cuddly Toy', 'Cuddly Toy', 'Cuddly Toy',\n",
       "       'Cuddly Toy', 'Cuddly Toy', 'Cuddly Toy', 'Cuddly Toy',\n",
       "       'Cuddly Toy', 'Cuddly Toy', 'Cuddly Toy', 'Cuddly Toy',\n",
       "       'Cuddly Toy', 'Cuddly Toy', 'Cuddly Toy', 'Cuddly Toy',\n",
       "       'Cuddly Toy', 'Cuddly Toy', 'Cuddly Toy', 'Cuddly Toy',\n",
       "       'Cuddly Toy', 'Cuddly Toy', 'Cuddly Toy', 'Cuddly Toy',\n",
       "       'Cuddly Toy', 'Cuddly Toy', 'Cuddly Toy', 'Cuddly Toy',\n",
       "       'Cuddly Toy', 'Cuddly Toy', 'Cuddly Toy', 'Cuddly Toy',\n",
       "       'Cuddly Toy', 'Cuddly Toy', 'Cuddly Toy', 'Cuddly Toy',\n",
       "       'Cuddly Toy', 'Cuddly Toy', 'Cuddly Toy', 'Cuddly Toy',\n",
       "       'Cuddly Toy', 'Cuddly Toy', 'Cuddly Toy', 'Cuddly Toy',\n",
       "       'Cuddly Toy', 'Cuddly Toy', 'Cuddly Toy', 'Cuddly Toy',\n",
       "       'Cuddly Toy', 'Cuddly Toy', 'Cuddly Toy', 'Cuddly Toy',\n",
       "       'Cuddly Toy', 'Cuddly Toy', 'Cuddly Toy', 'Cuddly Toy',\n",
       "       'Cuddly Toy', 'Cuddly Toy', 'Cuddly Toy', 'Cuddly Toy',\n",
       "       'Cuddly Toy', 'Cinema Tickets', 'Cinema Tickets', 'Cinema Tickets',\n",
       "       'Cinema Tickets', 'Cinema Tickets', 'Cinema Tickets',\n",
       "       'Cinema Tickets', 'Cinema Tickets', 'Cinema Tickets',\n",
       "       'Cinema Tickets', 'Cinema Tickets', 'Cinema Tickets',\n",
       "       'Cinema Tickets', 'Cinema Tickets', 'Cinema Tickets',\n",
       "       'Cinema Tickets', 'Cinema Tickets', 'Cinema Tickets',\n",
       "       'Cinema Tickets', 'Cinema Tickets', 'Cinema Tickets',\n",
       "       'Cinema Tickets', 'Cinema Tickets', 'Cinema Tickets',\n",
       "       'Cinema Tickets', 'Cinema Tickets', 'Cinema Tickets',\n",
       "       'Cinema Tickets', 'Cinema Tickets', 'Cinema Tickets',\n",
       "       'Cinema Tickets', 'Cinema Tickets', 'Cinema Tickets',\n",
       "       'Cinema Tickets', 'Cinema Tickets', 'Cinema Tickets',\n",
       "       'Cinema Tickets', 'Cinema Tickets', 'Cinema Tickets',\n",
       "       'Cinema Tickets', 'Cinema Tickets', 'Cinema Tickets',\n",
       "       'Cinema Tickets', 'Cinema Tickets', 'Cinema Tickets',\n",
       "       'Cinema Tickets', 'Cinema Tickets', 'Cinema Tickets',\n",
       "       'Cinema Tickets', 'Cinema Tickets', 'Cinema Tickets',\n",
       "       'Cinema Tickets', 'Cinema Tickets', 'Cinema Tickets',\n",
       "       'Cinema Tickets', 'Cinema Tickets', 'Cinema Tickets',\n",
       "       'Cinema Tickets', 'Cinema Tickets', 'Cinema Tickets',\n",
       "       'Cinema Tickets', 'Cinema Tickets', 'Cinema Tickets',\n",
       "       'Cinema Tickets', 'Cinema Tickets', 'Cinema Tickets',\n",
       "       'Cinema Tickets', 'Cinema Tickets', 'Cinema Tickets',\n",
       "       'Cinema Tickets', 'Cinema Tickets', 'Cinema Tickets',\n",
       "       'Cinema Tickets', 'Cinema Tickets', 'Cinema Tickets',\n",
       "       'Cinema Tickets', 'Cinema Tickets', 'Cinema Tickets',\n",
       "       'Cinema Tickets', 'Cinema Tickets', 'Cinema Tickets',\n",
       "       'Cinema Tickets', 'Cinema Tickets', 'Cinema Tickets',\n",
       "       'Cinema Tickets', 'Cinema Tickets', 'Cinema Tickets',\n",
       "       'Cinema Tickets', 'Cinema Tickets', 'Cinema Tickets',\n",
       "       'Cinema Tickets', 'Cinema Tickets', 'Cinema Tickets',\n",
       "       'Cinema Tickets', 'Cinema Tickets', 'Cinema Tickets',\n",
       "       'Cinema Tickets', 'Cinema Tickets', 'Cinema Tickets',\n",
       "       'Cinema Tickets', 'Cinema Tickets', 'Cinema Tickets',\n",
       "       'Cinema Tickets', 'Cinema Tickets', 'Cinema Tickets',\n",
       "       'Cinema Tickets', 'Cinema Tickets', 'Cinema Tickets',\n",
       "       'Cinema Tickets', 'Cinema Tickets', 'Cinema Tickets',\n",
       "       'Cinema Tickets', 'Cinema Tickets', 'Cinema Tickets',\n",
       "       'Cinema Tickets', 'Cinema Tickets', 'Cinema Tickets',\n",
       "       'Cinema Tickets', 'Cinema Tickets', 'Cinema Tickets',\n",
       "       'Cinema Tickets', 'Cinema Tickets', 'Cinema Tickets',\n",
       "       'Cinema Tickets', 'Cinema Tickets', 'Cinema Tickets',\n",
       "       'Cinema Tickets', 'Cinema Tickets', 'Cinema Tickets',\n",
       "       'Cinema Tickets', 'Cinema Tickets', 'Cinema Tickets',\n",
       "       'Cinema Tickets', 'Cinema Tickets', 'Cinema Tickets',\n",
       "       'Cinema Tickets', 'Cinema Tickets', 'Cinema Tickets',\n",
       "       'Cinema Tickets', 'Cinema Tickets', 'Cinema Tickets',\n",
       "       'Cinema Tickets', 'Cinema Tickets', 'Cinema Tickets',\n",
       "       'Cinema Tickets', 'Cinema Tickets', 'Cinema Tickets',\n",
       "       'Cinema Tickets', 'Cinema Tickets', 'Cinema Tickets',\n",
       "       'Cinema Tickets', 'Cinema Tickets', 'Cinema Tickets',\n",
       "       'Cinema Tickets', 'Cinema Tickets', 'Cinema Tickets',\n",
       "       'Cinema Tickets', 'Cinema Tickets', 'Cinema Tickets',\n",
       "       'Cinema Tickets', 'Cinema Tickets', 'Cinema Tickets',\n",
       "       'Cinema Tickets', 'Cinema Tickets', 'Cinema Tickets',\n",
       "       'Cinema Tickets', 'Cinema Tickets', 'Cinema Tickets',\n",
       "       'Cinema Tickets', 'Cinema Tickets', 'Cinema Tickets',\n",
       "       'Cinema Tickets', 'Cinema Tickets', 'Cinema Tickets',\n",
       "       'Cinema Tickets', 'Cinema Tickets', 'Cinema Tickets',\n",
       "       'Cinema Tickets', 'Cinema Tickets', 'Cinema Tickets',\n",
       "       'Cinema Tickets', 'Cinema Tickets', 'Cinema Tickets',\n",
       "       'Cinema Tickets', 'Cinema Tickets', 'Cinema Tickets',\n",
       "       'Cinema Tickets', 'Cinema Tickets', 'Cinema Tickets',\n",
       "       'Cinema Tickets', 'Cinema Tickets', 'Cinema Tickets',\n",
       "       'Cinema Tickets', 'Cinema Tickets', 'Cinema Tickets',\n",
       "       'Cinema Tickets', 'Cinema Tickets', 'Cinema Tickets',\n",
       "       'Cinema Tickets', 'Cinema Tickets', 'Cinema Tickets',\n",
       "       'Cinema Tickets', 'Cinema Tickets', 'Cinema Tickets',\n",
       "       'Cinema Tickets', 'Cinema Tickets', 'Cinema Tickets',\n",
       "       'Cinema Tickets', 'Cinema Tickets', 'Cinema Tickets',\n",
       "       'Cinema Tickets', 'Cinema Tickets', 'Cinema Tickets',\n",
       "       'Cinema Tickets', 'Cinema Tickets', 'Cinema Tickets',\n",
       "       'Cinema Tickets', 'Cinema Tickets', 'Cinema Tickets',\n",
       "       'Cinema Tickets', 'Cinema Tickets', 'Cinema Tickets',\n",
       "       'Cinema Tickets', 'Cinema Tickets', 'Cinema Tickets',\n",
       "       'Cinema Tickets', 'Cinema Tickets', 'Cinema Tickets',\n",
       "       'Cinema Tickets', 'Cinema Tickets', 'Cinema Tickets',\n",
       "       'Cinema Tickets', 'Cinema Tickets', 'Cinema Tickets',\n",
       "       'Cinema Tickets', 'Cinema Tickets', 'Cinema Tickets',\n",
       "       'Cinema Tickets', 'Cinema Tickets', 'Cinema Tickets',\n",
       "       'Cinema Tickets', 'Cinema Tickets', 'Cinema Tickets',\n",
       "       'Cinema Tickets', 'Cinema Tickets', 'Cinema Tickets',\n",
       "       'Cinema Tickets', 'Cinema Tickets', 'Cinema Tickets',\n",
       "       'Cinema Tickets', 'Cinema Tickets', 'Cinema Tickets',\n",
       "       'Cinema Tickets', 'Cinema Tickets', 'Cinema Tickets',\n",
       "       'Cinema Tickets', 'Cinema Tickets', 'Cinema Tickets',\n",
       "       'Cinema Tickets', 'Cinema Tickets', 'Cinema Tickets',\n",
       "       'Cinema Tickets', 'Cinema Tickets', 'Cinema Tickets',\n",
       "       'Cinema Tickets', 'Cinema Tickets', 'Cinema Tickets',\n",
       "       'Cinema Tickets', 'Cinema Tickets', 'Cinema Tickets',\n",
       "       'Cinema Tickets', 'Cinema Tickets', 'Cinema Tickets',\n",
       "       'Cinema Tickets', 'Cinema Tickets', 'Cinema Tickets',\n",
       "       'Cinema Tickets', 'Cinema Tickets', 'Cinema Tickets',\n",
       "       'Cinema Tickets', 'Cinema Tickets', 'Cinema Tickets',\n",
       "       'Cinema Tickets', 'Cinema Tickets', 'Cinema Tickets',\n",
       "       'Cinema Tickets', 'Cinema Tickets', 'Cinema Tickets',\n",
       "       'Cinema Tickets', 'Cinema Tickets', 'Cinema Tickets',\n",
       "       'Cinema Tickets', 'Cinema Tickets', 'Cinema Tickets',\n",
       "       'Cinema Tickets', 'Cinema Tickets', 'Cinema Tickets',\n",
       "       'Cinema Tickets', 'Cinema Tickets', 'Cinema Tickets',\n",
       "       'Cinema Tickets', 'Cinema Tickets', 'Cinema Tickets',\n",
       "       'Cinema Tickets', 'Cinema Tickets', 'Cinema Tickets',\n",
       "       'Cinema Tickets', 'Cinema Tickets', 'Cinema Tickets',\n",
       "       'Cinema Tickets', 'Cinema Tickets', 'Cinema Tickets',\n",
       "       'Cinema Tickets', 'Cinema Tickets', 'Cinema Tickets',\n",
       "       'Cinema Tickets', 'Cinema Tickets', 'Cinema Tickets',\n",
       "       'Cinema Tickets', 'Cinema Tickets'], dtype='<U16')"
      ]
     },
     "execution_count": 7,
     "metadata": {},
     "output_type": "execute_result"
    }
   ],
   "source": [
    "# yukarda uretilen array leri cncat yapalım\n",
    "# bu bolumde chi-square ıcın data uretiyoruz\n",
    "\n",
    "gift_type = np.concatenate([it1, it2, it3])\n",
    "gift_type"
   ]
  },
  {
   "cell_type": "code",
   "execution_count": 8,
   "id": "d5db9d7d",
   "metadata": {
    "ExecuteTime": {
     "end_time": "2023-07-03T23:03:44.902018Z",
     "start_time": "2023-07-03T23:03:44.897497Z"
    }
   },
   "outputs": [
    {
     "data": {
      "text/plain": [
       "900"
      ]
     },
     "execution_count": 8,
     "metadata": {},
     "output_type": "execute_result"
    }
   ],
   "source": [
    "# 900 data nın kontrolu\n",
    "    \n",
    "len(gift_type)"
   ]
  },
  {
   "cell_type": "markdown",
   "id": "e4e1b8b6",
   "metadata": {},
   "source": [
    "## One-way Chi-square Test (Goodness of Fit test)"
   ]
  },
  {
   "cell_type": "code",
   "execution_count": 9,
   "id": "8ec1683f",
   "metadata": {
    "ExecuteTime": {
     "end_time": "2023-07-03T23:07:32.141925Z",
     "start_time": "2023-07-03T23:07:32.131893Z"
    }
   },
   "outputs": [],
   "source": [
    "# observed degerler yukarda n dizisi ile uretildi\n",
    "# expected value olarak 300-300-300 estlik durumunu inceleyelim\n",
    "# observed degerlerle expcted degerler arasında anlamlı fark var mı ?"
   ]
  },
  {
   "cell_type": "markdown",
   "id": "34f0e385",
   "metadata": {
    "ExecuteTime": {
     "end_time": "2023-07-03T23:07:37.478937Z",
     "start_time": "2023-07-03T23:07:37.462770Z"
    }
   },
   "source": [
    "<i>H<i/><sub>0</sub>: \"there is no significant difference between the observed and the expected (theoretical) distribution\"<br>\n",
    "<i>H<i/><sub>1</sub>: \"there is a significant difference between the observed and the expected (theoretical) distribution\""
   ]
  },
  {
   "cell_type": "code",
   "execution_count": null,
   "id": "9bb63cf4",
   "metadata": {},
   "outputs": [],
   "source": [
    "# alttaki tabloda hediye isimleri ve observed-expected valu degerler goruluyor"
   ]
  },
  {
   "cell_type": "markdown",
   "id": "1f95f5cc",
   "metadata": {},
   "source": [
    "<table>\n",
    "    <tbody>\n",
    "        <tr>\n",
    "            <td>&nbsp;</td>\n",
    "            <td><em>Observed</em></td>\n",
    "            <td><em>Expected</em></td>\n",
    "            <td><em>Difference</em></td>\n",
    "            <td><em>Difference Sq.</em></td>\n",
    "            <td><em>Diff. Sq. / Exp Fr.</em></td>\n",
    "        </tr>\n",
    "        <tr>\n",
    "            <td><span id=\"ctl00_MainContent_Label6\"><b>Gift Certificate</b></span></td>\n",
    "            <td><span id=\"ctl00_MainContent_Label100\">315</span></td>\n",
    "            <td><span id=\"ctl00_MainContent_Label105\">300</span></td>\n",
    "            <td>&nbsp;&nbsp;<span id=\"ctl00_MainContent_Label110\">15.00</span></td>\n",
    "            <td>&nbsp;&nbsp;<span id=\"ctl00_MainContent_Label115\">225.00</span></td>\n",
    "            <td>&nbsp;&nbsp;<span id=\"ctl00_MainContent_Label120\">0.75</span></td>\n",
    "        </tr>\n",
    "        <tr>\n",
    "            <td><span id=\"ctl00_MainContent_Label7\"><b>Cuddly Toy</b></span></td>\n",
    "            <td><span id=\"ctl00_MainContent_Label101\">265</span></td>\n",
    "            <td><span id=\"ctl00_MainContent_Label106\">300</span></td>\n",
    "            <td>&nbsp;&nbsp;<span id=\"ctl00_MainContent_Label111\">-35.00</span></td>\n",
    "            <td>&nbsp;&nbsp;<span id=\"ctl00_MainContent_Label116\">1225.00</span></td>\n",
    "            <td>&nbsp;&nbsp;<span id=\"ctl00_MainContent_Label121\">4.08</span></td>\n",
    "        </tr>\n",
    "        <tr>\n",
    "            <td><span id=\"ctl00_MainContent_Label8\"><b>Cinema Tickets</b></span></td>\n",
    "            <td><span id=\"ctl00_MainContent_Label102\">320</span></td>\n",
    "            <td><span id=\"ctl00_MainContent_Label107\">300</span></td>\n",
    "            <td>&nbsp;&nbsp;<span id=\"ctl00_MainContent_Label112\">20.00</span></td>\n",
    "            <td>&nbsp;&nbsp;<span id=\"ctl00_MainContent_Label117\">400.00</span></td>\n",
    "            <td>&nbsp;&nbsp;<span id=\"ctl00_MainContent_Label122\">1.33</span></td>\n",
    "        </tr>\n",
    "        <tr>\n",
    "            <td></td>\n",
    "            <td></td>\n",
    "            <td></td>\n",
    "            <td>&nbsp;</td>\n",
    "            <td>&nbsp;</td>\n",
    "            <td>&nbsp;</td>\n",
    "        </tr>\n",
    "        <tr>\n",
    "            <td>&nbsp;</td>\n",
    "            <td>&nbsp;</td>\n",
    "            <td>&nbsp;</td>\n",
    "            <td>&nbsp;</td>\n",
    "            <td>&nbsp;</td>\n",
    "            <td>&nbsp;&nbsp;<span id=\"ctl00_MainContent_Label125\">6.167</span></td>\n",
    "        </tr>\n",
    "    </tbody>\n",
    "</table>"
   ]
  },
  {
   "cell_type": "code",
   "execution_count": null,
   "id": "3e13d9ee",
   "metadata": {},
   "outputs": [],
   "source": [
    "# Chi-square= 6,167 (üstteki rakamların toplamı)\n",
    "#  tablodaki 0.75 degeri : Diff Sq/Exp.Fr: 225/300 olarak elde edilir "
   ]
  },
  {
   "cell_type": "code",
   "execution_count": 11,
   "id": "d3caa8e5",
   "metadata": {
    "ExecuteTime": {
     "end_time": "2023-07-03T23:15:23.675473Z",
     "start_time": "2023-07-03T23:15:23.641871Z"
    }
   },
   "outputs": [
    {
     "data": {
      "text/plain": [
       "0.045798680423089544"
      ]
     },
     "execution_count": 11,
     "metadata": {},
     "output_type": "execute_result"
    }
   ],
   "source": [
    "# scipy üzerınden chi-sqaure fonksiyonu kullanalım\n",
    "# https://docs.scipy.org/doc/scipy/reference/generated/scipy.stats.chi2.html\n",
    "# df = level sayısı -1 : 3-1 = 2 \n",
    "\n",
    "pvalue = 1 - stats.chi2.cdf(6.167, 2)\n",
    "pvalue"
   ]
  },
  {
   "cell_type": "code",
   "execution_count": null,
   "id": "f685a23a",
   "metadata": {},
   "outputs": [],
   "source": [
    "# p value < alpha olduğu için null hipotez reddedilir\n",
    "# aralarındaki fark anlamlıdır"
   ]
  },
  {
   "cell_type": "markdown",
   "id": "e10778b3",
   "metadata": {},
   "source": [
    "## scipy.stats.chisquare modulu aynı hesabın yapılması"
   ]
  },
  {
   "cell_type": "code",
   "execution_count": 12,
   "id": "67df40a5",
   "metadata": {
    "ExecuteTime": {
     "end_time": "2023-07-03T23:18:06.880833Z",
     "start_time": "2023-07-03T23:18:06.865591Z"
    }
   },
   "outputs": [],
   "source": [
    "levels, counts = np.unique(gift_type, return_counts=True)"
   ]
  },
  {
   "cell_type": "code",
   "execution_count": 13,
   "id": "15d8a65f",
   "metadata": {
    "ExecuteTime": {
     "end_time": "2023-07-03T23:18:51.161808Z",
     "start_time": "2023-07-03T23:18:51.152764Z"
    }
   },
   "outputs": [
    {
     "data": {
      "text/plain": [
       "Power_divergenceResult(statistic=6.166666666666666, pvalue=0.04580631417262148)"
      ]
     },
     "execution_count": 13,
     "metadata": {},
     "output_type": "execute_result"
    }
   ],
   "source": [
    "# yukardaki count icin chisquare hesaplayalım\n",
    "\n",
    "test = stats.chisquare(counts)\n",
    "test"
   ]
  },
  {
   "cell_type": "code",
   "execution_count": 15,
   "id": "fb0aeaf6",
   "metadata": {
    "ExecuteTime": {
     "end_time": "2023-07-03T23:19:30.924109Z",
     "start_time": "2023-07-03T23:19:30.915522Z"
    }
   },
   "outputs": [
    {
     "data": {
      "text/plain": [
       "Power_divergenceResult(statistic=6.166666666666666, pvalue=0.04580631417262148)"
      ]
     },
     "execution_count": 15,
     "metadata": {},
     "output_type": "execute_result"
    }
   ],
   "source": [
    "# yukardaki sonucu bu sekilde de bulaiblilriz\n",
    "\n",
    "est = stats.chisquare([320,265,315])\n",
    "est"
   ]
  },
  {
   "cell_type": "code",
   "execution_count": 16,
   "id": "0fef0dea",
   "metadata": {
    "ExecuteTime": {
     "end_time": "2023-07-03T23:22:29.811369Z",
     "start_time": "2023-07-03T23:22:29.799225Z"
    }
   },
   "outputs": [
    {
     "name": "stdout",
     "output_type": "stream",
     "text": [
      "Statistics=6.167, p=0.046\n",
      "there is a significant difference between the observed and the theoretical distribution (reject H0)\n"
     ]
    }
   ],
   "source": [
    "#hipotezin sonucunu yazdıralım\n",
    "\n",
    "print('Statistics=%.3f, p=%.3f' % (test.statistic, test.pvalue))\n",
    "# interpret\n",
    "alpha = 0.05\n",
    "if test.pvalue > alpha:\n",
    "\tprint('there is no significant difference between the observed and the theoretical distribution (fail to reject H0)')\n",
    "else:\n",
    "\tprint('there is a significant difference between the observed and the theoretical distribution (reject H0)')"
   ]
  },
  {
   "cell_type": "markdown",
   "id": "0ed3ef1a",
   "metadata": {},
   "source": [
    "# Chi-Square Test of Association (Test of Independence)"
   ]
  },
  {
   "cell_type": "code",
   "execution_count": null,
   "id": "5148e1f3",
   "metadata": {},
   "outputs": [],
   "source": [
    "# 2 kategorik veri olacak..  bu kategoriler birbirinden bagımsız mı ?\n",
    "# 2 kategorik data arasındaki ilişki için ise Chi-Square association bakılır"
   ]
  },
  {
   "cell_type": "markdown",
   "id": "a05db8da",
   "metadata": {},
   "source": [
    "Problem:\n",
    "Veri setinde, katılımcılara cinsiyetleri ve sigara içip içmedikleri sorulmuştur. Üç cevap seçeneği vardı: Sigara İçmeyen, Geçmişte sigara içen ve Halen sigara içen. Sigara içme davranışı (sigara içmeyen, halen sigara içen veya geçmişte sigara içen) ile cinsiyet (erkek veya kadın) arasındaki ilişkiyi Ki-Kare Bağımsızlık Testi kullanarak test etmek istediğimizi varsayalım (α = 0.05 kullanacağız)."
   ]
  },
  {
   "cell_type": "code",
   "execution_count": 18,
   "id": "9983abb9",
   "metadata": {
    "ExecuteTime": {
     "end_time": "2023-07-03T23:27:03.491743Z",
     "start_time": "2023-07-03T23:27:03.459184Z"
    }
   },
   "outputs": [
    {
     "data": {
      "text/html": [
       "<div>\n",
       "<style scoped>\n",
       "    .dataframe tbody tr th:only-of-type {\n",
       "        vertical-align: middle;\n",
       "    }\n",
       "\n",
       "    .dataframe tbody tr th {\n",
       "        vertical-align: top;\n",
       "    }\n",
       "\n",
       "    .dataframe thead th {\n",
       "        text-align: right;\n",
       "    }\n",
       "</style>\n",
       "<table border=\"1\" class=\"dataframe\">\n",
       "  <thead>\n",
       "    <tr style=\"text-align: right;\">\n",
       "      <th></th>\n",
       "      <th>ids</th>\n",
       "      <th>bday</th>\n",
       "      <th>enrolldate</th>\n",
       "      <th>expgradate</th>\n",
       "      <th>Rank</th>\n",
       "      <th>Major</th>\n",
       "      <th>Gender</th>\n",
       "      <th>Athlete</th>\n",
       "      <th>Height</th>\n",
       "      <th>Weight</th>\n",
       "      <th>...</th>\n",
       "      <th>English</th>\n",
       "      <th>Reading</th>\n",
       "      <th>Math</th>\n",
       "      <th>Writing</th>\n",
       "      <th>State</th>\n",
       "      <th>LiveOnCampus</th>\n",
       "      <th>HowCommute</th>\n",
       "      <th>CommuteTime</th>\n",
       "      <th>SleepTime</th>\n",
       "      <th>StudyTime</th>\n",
       "    </tr>\n",
       "  </thead>\n",
       "  <tbody>\n",
       "    <tr>\n",
       "      <th>0</th>\n",
       "      <td>43783</td>\n",
       "      <td>3/22/1995</td>\n",
       "      <td></td>\n",
       "      <td></td>\n",
       "      <td></td>\n",
       "      <td></td>\n",
       "      <td>0</td>\n",
       "      <td>0</td>\n",
       "      <td>72.35</td>\n",
       "      <td></td>\n",
       "      <td>...</td>\n",
       "      <td>88.24</td>\n",
       "      <td>81.5</td>\n",
       "      <td>60.02</td>\n",
       "      <td>81.44</td>\n",
       "      <td>In state</td>\n",
       "      <td>1</td>\n",
       "      <td></td>\n",
       "      <td></td>\n",
       "      <td>7</td>\n",
       "      <td>1</td>\n",
       "    </tr>\n",
       "    <tr>\n",
       "      <th>1</th>\n",
       "      <td>20278</td>\n",
       "      <td>1/1/1995</td>\n",
       "      <td></td>\n",
       "      <td></td>\n",
       "      <td></td>\n",
       "      <td>Philosophy</td>\n",
       "      <td>0</td>\n",
       "      <td>0</td>\n",
       "      <td>70.66</td>\n",
       "      <td>179.2</td>\n",
       "      <td>...</td>\n",
       "      <td>89.45</td>\n",
       "      <td>85.25</td>\n",
       "      <td>70.19</td>\n",
       "      <td>73.27</td>\n",
       "      <td></td>\n",
       "      <td>1</td>\n",
       "      <td></td>\n",
       "      <td></td>\n",
       "      <td>5</td>\n",
       "      <td>2</td>\n",
       "    </tr>\n",
       "    <tr>\n",
       "      <th>2</th>\n",
       "      <td>20389</td>\n",
       "      <td>12/31/1994</td>\n",
       "      <td></td>\n",
       "      <td></td>\n",
       "      <td></td>\n",
       "      <td></td>\n",
       "      <td>0</td>\n",
       "      <td>0</td>\n",
       "      <td>70.68</td>\n",
       "      <td>198.52</td>\n",
       "      <td>...</td>\n",
       "      <td>96.73</td>\n",
       "      <td>86.88</td>\n",
       "      <td>71.2</td>\n",
       "      <td>84.24</td>\n",
       "      <td>In state</td>\n",
       "      <td></td>\n",
       "      <td></td>\n",
       "      <td></td>\n",
       "      <td>8</td>\n",
       "      <td>7</td>\n",
       "    </tr>\n",
       "    <tr>\n",
       "      <th>3</th>\n",
       "      <td>22820</td>\n",
       "      <td>12/1/1994</td>\n",
       "      <td></td>\n",
       "      <td></td>\n",
       "      <td></td>\n",
       "      <td>business administration</td>\n",
       "      <td>1</td>\n",
       "      <td>0</td>\n",
       "      <td></td>\n",
       "      <td>198.34</td>\n",
       "      <td>...</td>\n",
       "      <td>74.06</td>\n",
       "      <td>88.68</td>\n",
       "      <td>55.89</td>\n",
       "      <td>73.16</td>\n",
       "      <td>In state</td>\n",
       "      <td>1</td>\n",
       "      <td></td>\n",
       "      <td></td>\n",
       "      <td>2</td>\n",
       "      <td>6</td>\n",
       "    </tr>\n",
       "    <tr>\n",
       "      <th>4</th>\n",
       "      <td>24559</td>\n",
       "      <td>11/10/1994</td>\n",
       "      <td></td>\n",
       "      <td></td>\n",
       "      <td></td>\n",
       "      <td></td>\n",
       "      <td>1</td>\n",
       "      <td>1</td>\n",
       "      <td>67.43</td>\n",
       "      <td>128.17</td>\n",
       "      <td>...</td>\n",
       "      <td>82.61</td>\n",
       "      <td>77.3</td>\n",
       "      <td>65.52</td>\n",
       "      <td>80.45</td>\n",
       "      <td>Out of state</td>\n",
       "      <td>1</td>\n",
       "      <td></td>\n",
       "      <td></td>\n",
       "      <td>7</td>\n",
       "      <td>3</td>\n",
       "    </tr>\n",
       "  </tbody>\n",
       "</table>\n",
       "<p>5 rows × 23 columns</p>\n",
       "</div>"
      ],
      "text/plain": [
       "     ids        bday enrolldate expgradate Rank                    Major  \\\n",
       "0  43783   3/22/1995                                                       \n",
       "1  20278    1/1/1995                                          Philosophy   \n",
       "2  20389  12/31/1994                                                       \n",
       "3  22820   12/1/1994                             business administration   \n",
       "4  24559  11/10/1994                                                       \n",
       "\n",
       "  Gender  Athlete Height  Weight  ... English Reading   Math Writing  \\\n",
       "0      0        0  72.35          ...   88.24    81.5  60.02   81.44   \n",
       "1      0        0  70.66   179.2  ...   89.45   85.25  70.19   73.27   \n",
       "2      0        0  70.68  198.52  ...   96.73   86.88   71.2   84.24   \n",
       "3      1        0         198.34  ...   74.06   88.68  55.89   73.16   \n",
       "4      1        1  67.43  128.17  ...   82.61    77.3  65.52   80.45   \n",
       "\n",
       "          State LiveOnCampus HowCommute CommuteTime SleepTime StudyTime  \n",
       "0      In state            1                                7         1  \n",
       "1                          1                                5         2  \n",
       "2      In state                                             8         7  \n",
       "3      In state            1                                2         6  \n",
       "4  Out of state            1                                7         3  \n",
       "\n",
       "[5 rows x 23 columns]"
      ]
     },
     "execution_count": 18,
     "metadata": {},
     "output_type": "execute_result"
    }
   ],
   "source": [
    "survey = pd.read_csv(\"university_survey_2014.csv\")\n",
    "survey.head()"
   ]
  },
  {
   "cell_type": "code",
   "execution_count": 19,
   "id": "739cc1e1",
   "metadata": {
    "ExecuteTime": {
     "end_time": "2023-07-03T23:28:04.935930Z",
     "start_time": "2023-07-03T23:28:04.921363Z"
    }
   },
   "outputs": [],
   "source": [
    "# smokinhg behaviour ile gender sütunları arasındaki ilişkiye bakacağız"
   ]
  },
  {
   "cell_type": "code",
   "execution_count": 20,
   "id": "0da5d0a0",
   "metadata": {
    "ExecuteTime": {
     "end_time": "2023-07-03T23:28:21.498042Z",
     "start_time": "2023-07-03T23:28:21.475383Z"
    }
   },
   "outputs": [
    {
     "data": {
      "text/html": [
       "<div>\n",
       "<style scoped>\n",
       "    .dataframe tbody tr th:only-of-type {\n",
       "        vertical-align: middle;\n",
       "    }\n",
       "\n",
       "    .dataframe tbody tr th {\n",
       "        vertical-align: top;\n",
       "    }\n",
       "\n",
       "    .dataframe thead th {\n",
       "        text-align: right;\n",
       "    }\n",
       "</style>\n",
       "<table border=\"1\" class=\"dataframe\">\n",
       "  <thead>\n",
       "    <tr style=\"text-align: right;\">\n",
       "      <th></th>\n",
       "      <th>Gender</th>\n",
       "      <th>Smoking</th>\n",
       "    </tr>\n",
       "  </thead>\n",
       "  <tbody>\n",
       "    <tr>\n",
       "      <th>0</th>\n",
       "      <td>0</td>\n",
       "      <td>0</td>\n",
       "    </tr>\n",
       "    <tr>\n",
       "      <th>1</th>\n",
       "      <td>0</td>\n",
       "      <td>0</td>\n",
       "    </tr>\n",
       "    <tr>\n",
       "      <th>2</th>\n",
       "      <td>0</td>\n",
       "      <td>0</td>\n",
       "    </tr>\n",
       "    <tr>\n",
       "      <th>3</th>\n",
       "      <td>1</td>\n",
       "      <td></td>\n",
       "    </tr>\n",
       "    <tr>\n",
       "      <th>4</th>\n",
       "      <td>1</td>\n",
       "      <td>2</td>\n",
       "    </tr>\n",
       "    <tr>\n",
       "      <th>...</th>\n",
       "      <td>...</td>\n",
       "      <td>...</td>\n",
       "    </tr>\n",
       "    <tr>\n",
       "      <th>430</th>\n",
       "      <td>1</td>\n",
       "      <td>0</td>\n",
       "    </tr>\n",
       "    <tr>\n",
       "      <th>431</th>\n",
       "      <td>0</td>\n",
       "      <td>0</td>\n",
       "    </tr>\n",
       "    <tr>\n",
       "      <th>432</th>\n",
       "      <td>0</td>\n",
       "      <td>0</td>\n",
       "    </tr>\n",
       "    <tr>\n",
       "      <th>433</th>\n",
       "      <td>1</td>\n",
       "      <td>2</td>\n",
       "    </tr>\n",
       "    <tr>\n",
       "      <th>434</th>\n",
       "      <td>1</td>\n",
       "      <td>1</td>\n",
       "    </tr>\n",
       "  </tbody>\n",
       "</table>\n",
       "<p>435 rows × 2 columns</p>\n",
       "</div>"
      ],
      "text/plain": [
       "    Gender Smoking\n",
       "0        0       0\n",
       "1        0       0\n",
       "2        0       0\n",
       "3        1        \n",
       "4        1       2\n",
       "..     ...     ...\n",
       "430      1       0\n",
       "431      0       0\n",
       "432      0       0\n",
       "433      1       2\n",
       "434      1       1\n",
       "\n",
       "[435 rows x 2 columns]"
      ]
     },
     "execution_count": 20,
     "metadata": {},
     "output_type": "execute_result"
    }
   ],
   "source": [
    "testset = survey[[\"Gender\", \"Smoking\"]]\n",
    "testset"
   ]
  },
  {
   "cell_type": "code",
   "execution_count": 21,
   "id": "a21e5015",
   "metadata": {
    "ExecuteTime": {
     "end_time": "2023-07-03T23:29:49.906860Z",
     "start_time": "2023-07-03T23:29:49.892272Z"
    }
   },
   "outputs": [
    {
     "name": "stderr",
     "output_type": "stream",
     "text": [
      "C:\\Users\\pc\\AppData\\Local\\Temp\\ipykernel_12260\\3234983263.py:3: SettingWithCopyWarning: \n",
      "A value is trying to be set on a copy of a slice from a DataFrame.\n",
      "Try using .loc[row_indexer,col_indexer] = value instead\n",
      "\n",
      "See the caveats in the documentation: https://pandas.pydata.org/pandas-docs/stable/user_guide/indexing.html#returning-a-view-versus-a-copy\n",
      "  testset[\"Gender\"] = pd.to_numeric(testset[\"Gender\"],errors='coerce')\n",
      "C:\\Users\\pc\\AppData\\Local\\Temp\\ipykernel_12260\\3234983263.py:4: SettingWithCopyWarning: \n",
      "A value is trying to be set on a copy of a slice from a DataFrame.\n",
      "Try using .loc[row_indexer,col_indexer] = value instead\n",
      "\n",
      "See the caveats in the documentation: https://pandas.pydata.org/pandas-docs/stable/user_guide/indexing.html#returning-a-view-versus-a-copy\n",
      "  testset[\"Smoking\"] = pd.to_numeric(testset[\"Smoking\"],errors='coerce')\n"
     ]
    }
   ],
   "source": [
    "# smoking ve gender object type oldukları için numeric dataya cevirelim\n",
    "\n",
    "testset[\"Gender\"] = pd.to_numeric(testset[\"Gender\"],errors='coerce')\n",
    "testset[\"Smoking\"] = pd.to_numeric(testset[\"Smoking\"],errors='coerce')"
   ]
  },
  {
   "cell_type": "code",
   "execution_count": 22,
   "id": "c3ca5bd4",
   "metadata": {
    "ExecuteTime": {
     "end_time": "2023-07-03T23:30:26.193715Z",
     "start_time": "2023-07-03T23:30:26.160582Z"
    }
   },
   "outputs": [
    {
     "name": "stderr",
     "output_type": "stream",
     "text": [
      "C:\\Users\\pc\\AppData\\Local\\Temp\\ipykernel_12260\\875698694.py:3: SettingWithCopyWarning: \n",
      "A value is trying to be set on a copy of a slice from a DataFrame.\n",
      "Try using .loc[row_indexer,col_indexer] = value instead\n",
      "\n",
      "See the caveats in the documentation: https://pandas.pydata.org/pandas-docs/stable/user_guide/indexing.html#returning-a-view-versus-a-copy\n",
      "  testset[\"Smoking\"] = testset[\"Smoking\"].replace([0,1,2],[\"Nonsmoker\", \"Past smoker\",\"Current smoker\"])\n"
     ]
    },
    {
     "data": {
      "text/plain": [
       "0           Nonsmoker\n",
       "1           Nonsmoker\n",
       "2           Nonsmoker\n",
       "3                 NaN\n",
       "4      Current smoker\n",
       "            ...      \n",
       "430         Nonsmoker\n",
       "431         Nonsmoker\n",
       "432         Nonsmoker\n",
       "433    Current smoker\n",
       "434       Past smoker\n",
       "Name: Smoking, Length: 435, dtype: object"
      ]
     },
     "execution_count": 22,
     "metadata": {},
     "output_type": "execute_result"
    }
   ],
   "source": [
    "# smoking deki kategorileri degiselim\n",
    "\n",
    "testset[\"Smoking\"] = testset[\"Smoking\"].replace([0,1,2],[\"Nonsmoker\", \"Past smoker\",\"Current smoker\"])\n",
    "testset[\"Smoking\"]"
   ]
  },
  {
   "cell_type": "code",
   "execution_count": 23,
   "id": "bea178b8",
   "metadata": {
    "ExecuteTime": {
     "end_time": "2023-07-03T23:31:03.530498Z",
     "start_time": "2023-07-03T23:31:03.520484Z"
    }
   },
   "outputs": [
    {
     "name": "stderr",
     "output_type": "stream",
     "text": [
      "C:\\Users\\pc\\AppData\\Local\\Temp\\ipykernel_12260\\1590591299.py:3: SettingWithCopyWarning: \n",
      "A value is trying to be set on a copy of a slice from a DataFrame.\n",
      "Try using .loc[row_indexer,col_indexer] = value instead\n",
      "\n",
      "See the caveats in the documentation: https://pandas.pydata.org/pandas-docs/stable/user_guide/indexing.html#returning-a-view-versus-a-copy\n",
      "  testset[\"Gender\"] = testset[\"Gender\"].replace([0, 1],[\"Male\", \"Female\"])\n"
     ]
    },
    {
     "data": {
      "text/plain": [
       "0        Male\n",
       "1        Male\n",
       "2        Male\n",
       "3      Female\n",
       "4      Female\n",
       "        ...  \n",
       "430    Female\n",
       "431      Male\n",
       "432      Male\n",
       "433    Female\n",
       "434    Female\n",
       "Name: Gender, Length: 435, dtype: object"
      ]
     },
     "execution_count": 23,
     "metadata": {},
     "output_type": "execute_result"
    }
   ],
   "source": [
    "#gender kategorisini degisleim\n",
    "\n",
    "testset[\"Gender\"] = testset[\"Gender\"].replace([0, 1],[\"Male\", \"Female\"])\n",
    "\n",
    "testset[\"Gender\"]"
   ]
  },
  {
   "cell_type": "code",
   "execution_count": 24,
   "id": "848097ca",
   "metadata": {
    "ExecuteTime": {
     "end_time": "2023-07-03T23:32:28.905680Z",
     "start_time": "2023-07-03T23:32:28.881153Z"
    }
   },
   "outputs": [
    {
     "data": {
      "text/html": [
       "<div>\n",
       "<style scoped>\n",
       "    .dataframe tbody tr th:only-of-type {\n",
       "        vertical-align: middle;\n",
       "    }\n",
       "\n",
       "    .dataframe tbody tr th {\n",
       "        vertical-align: top;\n",
       "    }\n",
       "\n",
       "    .dataframe thead th {\n",
       "        text-align: right;\n",
       "    }\n",
       "</style>\n",
       "<table border=\"1\" class=\"dataframe\">\n",
       "  <thead>\n",
       "    <tr style=\"text-align: right;\">\n",
       "      <th>Gender</th>\n",
       "      <th>Female</th>\n",
       "      <th>Male</th>\n",
       "    </tr>\n",
       "    <tr>\n",
       "      <th>Smoking</th>\n",
       "      <th></th>\n",
       "      <th></th>\n",
       "    </tr>\n",
       "  </thead>\n",
       "  <tbody>\n",
       "    <tr>\n",
       "      <th>Current smoker</th>\n",
       "      <td>37</td>\n",
       "      <td>31</td>\n",
       "    </tr>\n",
       "    <tr>\n",
       "      <th>Nonsmoker</th>\n",
       "      <td>148</td>\n",
       "      <td>149</td>\n",
       "    </tr>\n",
       "    <tr>\n",
       "      <th>Past smoker</th>\n",
       "      <td>24</td>\n",
       "      <td>13</td>\n",
       "    </tr>\n",
       "  </tbody>\n",
       "</table>\n",
       "</div>"
      ],
      "text/plain": [
       "Gender          Female  Male\n",
       "Smoking                     \n",
       "Current smoker      37    31\n",
       "Nonsmoker          148   149\n",
       "Past smoker         24    13"
      ]
     },
     "execution_count": 24,
     "metadata": {},
     "output_type": "execute_result"
    }
   ],
   "source": [
    "# crosstab ın kılsayması olarak carpraz tabloyu kullanmıs olalım\n",
    "\n",
    "ct = pd.crosstab(testset[\"Smoking\"], testset[\"Gender\"], margins=False)\n",
    "ct"
   ]
  },
  {
   "cell_type": "code",
   "execution_count": 25,
   "id": "45592adb",
   "metadata": {
    "ExecuteTime": {
     "end_time": "2023-07-03T23:33:20.452534Z",
     "start_time": "2023-07-03T23:33:20.209898Z"
    }
   },
   "outputs": [
    {
     "data": {
      "image/png": "[encoded data removed]",
      "text/plain": [
       "<Figure size 640x480 with 1 Axes>"
      ]
     },
     "metadata": {},
     "output_type": "display_data"
    }
   ],
   "source": [
    "# tabloyu grafize edelim\n",
    "\n",
    "stacked = ct.stack().reset_index().rename(columns={0:'value'})\n",
    "sns.barplot(x=stacked.Smoking, y=stacked.value, hue=stacked.Gender);"
   ]
  },
  {
   "cell_type": "markdown",
   "id": "95793ce9",
   "metadata": {},
   "source": [
    "## Manual Hesap"
   ]
  },
  {
   "cell_type": "code",
   "execution_count": null,
   "id": "bdfc63ca",
   "metadata": {},
   "outputs": [],
   "source": [
    "# ilk tablo observed degerler"
   ]
  },
  {
   "cell_type": "markdown",
   "id": "961d2263",
   "metadata": {},
   "source": [
    "<table border=\"1\" cellspacing=\"0\">\n",
    "    <tbody>\n",
    "        <tr>\n",
    "            <td width=\"100\">&nbsp;</td>\n",
    "            <td width=\"100\"><b>Female</b></td>\n",
    "            <td width=\"100\"><b>Male</b></td>\n",
    "            <td width=\"100\"><b>Total</b></td>\n",
    "        </tr>\n",
    "        <tr>\n",
    "            <td width=\"100\"><b>Current smoker</b></td>\n",
    "            <td width=\"100\">37</td>\n",
    "            <td width=\"100\">31</td>\n",
    "            <td width=\"100\">68</td>\n",
    "        </tr>\n",
    "        <tr>\n",
    "            <td width=\"100\"><b>Nonsmoker</b></td>\n",
    "            <td width=\"100\">148</td>\n",
    "            <td width=\"100\">149</td>\n",
    "            <td width=\"100\">297</td>\n",
    "        </tr>\n",
    "        <tr>\n",
    "            <td width=\"100\"><b>Past smoker</b></td>\n",
    "            <td width=\"100\">24</td>\n",
    "            <td width=\"100\">13</td>\n",
    "            <td width=\"100\">37</td>\n",
    "        </tr>\n",
    "        <tr>\n",
    "            <td width=\"100\"><b>Total</b></td>\n",
    "            <td width=\"100\">209</td>\n",
    "            <td width=\"100\">193</td>\n",
    "            <td width=\"100\"><b>402</b></td>\n",
    "        </tr>\n",
    "    </tbody>\n",
    "</table><br>"
   ]
  },
  {
   "cell_type": "code",
   "execution_count": null,
   "id": "479bb188",
   "metadata": {},
   "outputs": [],
   "source": [
    "# 2. tablo ise expected value..  \n",
    "# tablodaki hesaplama biçimini derste gorduk"
   ]
  },
  {
   "cell_type": "markdown",
   "id": "34d76f6b",
   "metadata": {},
   "source": [
    "<table border=\"1\" cellspacing=\"0\">\n",
    "    <tbody>\n",
    "        <tr>\n",
    "            <td width=\"100\"><b>Expected Values</b></td>\n",
    "            <td width=\"100\"><b>Female</b></td>\n",
    "            <td width=\"100\"><b>Male</b></td>\n",
    "            <td width=\"100\"><b>Total</b></td>\n",
    "        </tr>\n",
    "        <tr>\n",
    "            <td width=\"100\"><b>Current smoker</b></td>\n",
    "            <td width=\"100\"><span aria-hidden=\"true\">\\(  \\frac{209*68}{402}  \\)​=35.353</span></td>\n",
    "            <td width=\"100\"><math xmlns=\"http://www.w3.org/1998/Math/MathML\"><semantics><annotation encoding=\"application/x-tex\"></annotation></semantics></math>\\( \\frac{193*68}{402} \\)​<span aria-hidden=\"true\">​=32.647</span></td>\n",
    "            <td width=\"100\">68</td>\n",
    "        </tr>\n",
    "        <tr>\n",
    "            <td width=\"100\"><b>Nonsmoker</b></td>\n",
    "            <td width=\"100\"><math xmlns=\"http://www.w3.org/1998/Math/MathML\"><semantics><annotation encoding=\"application/x-tex\"></annotation></semantics></math>\\( \\frac{209*297}{402} \\)<span aria-hidden=\"true\">=154.41</span></td>\n",
    "            <td width=\"100\"><math xmlns=\"http://www.w3.org/1998/Math/MathML\"><semantics><annotation encoding=\"application/x-tex\"></annotation></semantics></math>\\( \\frac{193*297}{402} \\)​<span aria-hidden=\"true\">​</span><span aria-hidden=\"true\">​=142.59</span></td>\n",
    "            <td\n",
    "                width=\"100\">297</td>\n",
    "        </tr>\n",
    "        <tr>\n",
    "            <td width=\"100\"><b>Past smoker</b></td>\n",
    "            <td width=\"100\"><math xmlns=\"http://www.w3.org/1998/Math/MathML\"><semantics><annotation encoding=\"application/x-tex\"></annotation></semantics></math>\\( \\frac{209*37}{402} \\)​<span aria-hidden=\"true\">​=19.236</span></td>\n",
    "            <td width=\"100\"><math xmlns=\"http://www.w3.org/1998/Math/MathML\"><semantics><annotation encoding=\"application/x-tex\"></annotation></semantics></math>\\( \\frac{193*37}{402} \\)​<span aria-hidden=\"true\">​</span><span aria-hidden=\"true\">​=17.764</span></td>\n",
    "            <td\n",
    "                width=\"100\">37</td>\n",
    "        </tr>\n",
    "        <tr>\n",
    "            <td width=\"100\"><b>Total</b></td>\n",
    "            <td width=\"100\">209</td>\n",
    "            <td width=\"100\">193</td>\n",
    "            <td width=\"100\"><b>402</b></td>\n",
    "        </tr>\n",
    "    </tbody>\n",
    "</table>\n",
    "<p><br></p>"
   ]
  },
  {
   "cell_type": "code",
   "execution_count": null,
   "id": "85943447",
   "metadata": {},
   "outputs": [],
   "source": [
    "# 3. tabloda kikare hesabını yapıyoruz..exp valu eve observed value arası farkı gorelim\n",
    "# alttaki kikare hesabında 3.tablodaki degerler toplanır"
   ]
  },
  {
   "cell_type": "markdown",
   "id": "2aea4b74",
   "metadata": {},
   "source": [
    "<table border=\"1\" cellspacing=\"0\">\n",
    "    <tbody>\n",
    "        <tr>\n",
    "            <td width=\"100\"><b>Squared Distances</b></td>\n",
    "            <td width=\"100\"><b>Female</b></td>\n",
    "            <td width=\"100\"><b>Male</b></td>\n",
    "        </tr>\n",
    "        <tr>\n",
    "            <td width=\"100\"><b>Current smoker</b></td>\n",
    "            <td width=\"100\"><span aria-hidden=\"true\">\\(  \\frac{ (37−35.353)^2 }{35.353}  \\)=0.077</span></td>\n",
    "            <td width=\"100\"><math xmlns=\"http://www.w3.org/1998/Math/MathML\"><semantics><annotation encoding=\"application/x-tex\"></annotation></semantics></math>\\( \\frac{ (31−32.647)^2 }{32.647} \\)<span aria-hidden=\"true\">​=0.083</span></td>\n",
    "        </tr>\n",
    "        <tr>\n",
    "            <td width=\"100\"><b>Nonsmoker</b></td>\n",
    "            <td width=\"100\"><math xmlns=\"http://www.w3.org/1998/Math/MathML\"><semantics><annotation encoding=\"application/x-tex\"></annotation></semantics></math>\\( \\frac{ (148−154.41)^2 }{154.41} \\)<span aria-hidden=\"true\">=0.266</span></td>\n",
    "            <td width=\"100\"><math xmlns=\"http://www.w3.org/1998/Math/MathML\"><semantics><annotation encoding=\"application/x-tex\"></annotation></semantics></math>\\( \\frac{ (149−142.59)^2 }{142.59} \\)<span aria-hidden=\"true\">​=0.288</span></td>\n",
    "        </tr>\n",
    "        <tr>\n",
    "            <td width=\"100\"><b>Past smoker</b></td>\n",
    "            <td width=\"100\"><math xmlns=\"http://www.w3.org/1998/Math/MathML\"><semantics><annotation encoding=\"application/x-tex\"></annotation></semantics></math>\\( \\frac{ (24−19.236)^2 }{19.236} \\)<span aria-hidden=\"true\">=1.18</span></td>\n",
    "            <td width=\"100\"><math xmlns=\"http://www.w3.org/1998/Math/MathML\"><semantics><annotation encoding=\"application/x-tex\"></annotation></semantics></math>\\( \\frac{ (13−17.764)^2 }{17.764} \\)<span aria-hidden=\"true\">=1.277</span></td>\n",
    "        </tr>\n",
    "    </tbody>\n",
    "</table>\n",
    "<p><br></p>"
   ]
  },
  {
   "cell_type": "markdown",
   "id": "0b977c2e",
   "metadata": {},
   "source": [
    "χ2 = 0.077+0.266+1.18+0.083+0.288+1.277 = **3.171**"
   ]
  },
  {
   "cell_type": "code",
   "execution_count": 26,
   "id": "ed83ccba",
   "metadata": {
    "ExecuteTime": {
     "end_time": "2023-07-03T23:40:51.894024Z",
     "start_time": "2023-07-03T23:40:51.886990Z"
    }
   },
   "outputs": [
    {
     "data": {
      "text/plain": [
       "0.20484534483444383"
      ]
     },
     "execution_count": 26,
     "metadata": {},
     "output_type": "execute_result"
    }
   ],
   "source": [
    "# alttaki fonksiyonda parantez içinde ilk değer kikare, 2.değer ise df yani k değeri..\n",
    "# k --> (row sayısı -1)*(kolumn sayısı-1) = 2\n",
    "# p-value\n",
    "\n",
    "1 - stats.chi2.cdf(3.171, 2)"
   ]
  },
  {
   "cell_type": "code",
   "execution_count": 27,
   "id": "1e48d2e8",
   "metadata": {
    "ExecuteTime": {
     "end_time": "2023-07-03T23:41:17.176494Z",
     "start_time": "2023-07-03T23:41:17.169594Z"
    }
   },
   "outputs": [
    {
     "data": {
      "text/html": [
       "<div>\n",
       "<style scoped>\n",
       "    .dataframe tbody tr th:only-of-type {\n",
       "        vertical-align: middle;\n",
       "    }\n",
       "\n",
       "    .dataframe tbody tr th {\n",
       "        vertical-align: top;\n",
       "    }\n",
       "\n",
       "    .dataframe thead th {\n",
       "        text-align: right;\n",
       "    }\n",
       "</style>\n",
       "<table border=\"1\" class=\"dataframe\">\n",
       "  <thead>\n",
       "    <tr style=\"text-align: right;\">\n",
       "      <th>Gender</th>\n",
       "      <th>Female</th>\n",
       "      <th>Male</th>\n",
       "    </tr>\n",
       "    <tr>\n",
       "      <th>Smoking</th>\n",
       "      <th></th>\n",
       "      <th></th>\n",
       "    </tr>\n",
       "  </thead>\n",
       "  <tbody>\n",
       "    <tr>\n",
       "      <th>Current smoker</th>\n",
       "      <td>37</td>\n",
       "      <td>31</td>\n",
       "    </tr>\n",
       "    <tr>\n",
       "      <th>Nonsmoker</th>\n",
       "      <td>148</td>\n",
       "      <td>149</td>\n",
       "    </tr>\n",
       "    <tr>\n",
       "      <th>Past smoker</th>\n",
       "      <td>24</td>\n",
       "      <td>13</td>\n",
       "    </tr>\n",
       "  </tbody>\n",
       "</table>\n",
       "</div>"
      ],
      "text/plain": [
       "Gender          Female  Male\n",
       "Smoking                     \n",
       "Current smoker      37    31\n",
       "Nonsmoker          148   149\n",
       "Past smoker         24    13"
      ]
     },
     "execution_count": 27,
     "metadata": {},
     "output_type": "execute_result"
    }
   ],
   "source": [
    "ct"
   ]
  },
  {
   "cell_type": "code",
   "execution_count": 28,
   "id": "e935c15a",
   "metadata": {
    "ExecuteTime": {
     "end_time": "2023-07-03T23:42:31.317447Z",
     "start_time": "2023-07-03T23:42:31.308068Z"
    }
   },
   "outputs": [],
   "source": [
    "# ilave bir çözüm olarak aynı p degerini ct table ı kullanarak yapaibliriz\n",
    "\n",
    "chi, p, dof, expctd = stats.chi2_contingency(ct)"
   ]
  },
  {
   "cell_type": "code",
   "execution_count": 29,
   "id": "236d8e6d",
   "metadata": {
    "ExecuteTime": {
     "end_time": "2023-07-03T23:42:37.762067Z",
     "start_time": "2023-07-03T23:42:37.747295Z"
    }
   },
   "outputs": [
    {
     "name": "stdout",
     "output_type": "stream",
     "text": [
      "statistic: 3.171256766693158\n",
      "p value: 0.20481904779163018\n"
     ]
    }
   ],
   "source": [
    "print(\"statistic:\", chi)\n",
    "print(\"p value:\", p)"
   ]
  },
  {
   "cell_type": "code",
   "execution_count": null,
   "id": "961d76a2",
   "metadata": {},
   "outputs": [],
   "source": [
    "# 0.204 > alfa=0.05 oldugu için null hipotezi reddetmiyoruz, kabul ediyoruz"
   ]
  },
  {
   "cell_type": "code",
   "execution_count": null,
   "id": "de4b8307",
   "metadata": {},
   "outputs": [],
   "source": [
    "# Cinsiyet ile sigara içme davranışı arasında ilişki bulunamadı"
   ]
  }
 ],
 "metadata": {
  "hide_input": false,
  "kernelspec": {
   "display_name": "Python 3 (ipykernel)",
   "language": "python",
   "name": "python3"
  },
  "language_info": {
   "codemirror_mode": {
    "name": "ipython",
    "version": 3
   },
   "file_extension": ".py",
   "mimetype": "text/x-python",
   "name": "python",
   "nbconvert_exporter": "python",
   "pygments_lexer": "ipython3",
   "version": "3.9.13"
  },
  "nbTranslate": {
   "displayLangs": [
    "*"
   ],
   "hotkey": "alt-t",
   "langInMainMenu": true,
   "sourceLang": "en",
   "targetLang": "fr",
   "useGoogleTranslate": true
  },
  "toc": {
   "base_numbering": 1,
   "nav_menu": {},
   "number_sections": true,
   "sideBar": true,
   "skip_h1_title": false,
   "title_cell": "Table of Contents",
   "title_sidebar": "Contents",
   "toc_cell": false,
   "toc_position": {},
   "toc_section_display": true,
   "toc_window_display": false
  },
  "varInspector": {
   "cols": {
    "lenName": 16,
    "lenType": 16,
    "lenVar": 40
   },
   "kernels_config": {
    "python": {
     "delete_cmd_postfix": "",
     "delete_cmd_prefix": "del ",
     "library": "var_list.py",
     "varRefreshCmd": "print(var_dic_list())"
    },
    "r": {
     "delete_cmd_postfix": ") ",
     "delete_cmd_prefix": "rm(",
     "library": "var_list.r",
     "varRefreshCmd": "cat(var_dic_list()) "
    }
   },
   "types_to_exclude": [
    "module",
    "function",
    "builtin_function_or_method",
    "instance",
    "_Feature"
   ],
   "window_display": false
  }
 },
 "nbformat": 4,
 "nbformat_minor": 5
}
