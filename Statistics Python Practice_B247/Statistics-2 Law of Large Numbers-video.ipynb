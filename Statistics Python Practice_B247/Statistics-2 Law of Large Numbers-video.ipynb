{
 "cells": [
  {
   "cell_type": "markdown",
   "id": "1d13880b",
   "metadata": {
    "ExecuteTime": {
     "end_time": "2023-07-02T22:24:49.488478Z",
     "start_time": "2023-07-02T22:24:49.480638Z"
    }
   },
   "source": [
    "## Law of Large Numbers"
   ]
  },
  {
   "cell_type": "code",
   "execution_count": null,
   "id": "82425e73",
   "metadata": {},
   "outputs": [],
   "source": [
    "# deneme sayısı arttıkca normal dagılıma yakınsama olacaktır"
   ]
  },
  {
   "cell_type": "code",
   "execution_count": 3,
   "id": "7f7de4e3",
   "metadata": {
    "ExecuteTime": {
     "end_time": "2023-07-02T23:00:58.430773Z",
     "start_time": "2023-07-02T23:00:55.725910Z"
    }
   },
   "outputs": [
    {
     "name": "stderr",
     "output_type": "stream",
     "text": [
      "<frozen importlib._bootstrap>:228: RuntimeWarning: scipy._lib.messagestream.MessageStream size changed, may indicate binary incompatibility. Expected 56 from C header, got 64 from PyObject\n"
     ]
    }
   ],
   "source": [
    "import numpy as np\n",
    "import pandas as pd\n",
    "from scipy import stats\n",
    "import matplotlib.pyplot as plt"
   ]
  },
  {
   "cell_type": "code",
   "execution_count": 19,
   "id": "407fa711",
   "metadata": {
    "ExecuteTime": {
     "end_time": "2023-07-02T23:16:49.016538Z",
     "start_time": "2023-07-02T23:16:49.002890Z"
    }
   },
   "outputs": [],
   "source": [
    "# trial (deneme) sayısı\n",
    "\n",
    "n = 1000"
   ]
  },
  {
   "cell_type": "code",
   "execution_count": 20,
   "id": "6f40307a",
   "metadata": {
    "ExecuteTime": {
     "end_time": "2023-07-02T23:16:49.264569Z",
     "start_time": "2023-07-02T23:16:49.243237Z"
    }
   },
   "outputs": [
    {
     "data": {
      "text/plain": [
       "array([2, 6, 1, 2, 6, 1, 6, 5, 2, 6, 3, 6, 5, 5, 5, 5, 4, 4, 5, 3, 5, 3,\n",
       "       2, 2, 6, 5, 1, 1, 1, 6, 5, 5, 6, 2, 3, 4, 4, 5, 6, 4, 4, 6, 1, 3,\n",
       "       6, 2, 4, 6, 6, 1, 2, 6, 6, 6, 2, 5, 2, 2, 4, 4, 3, 4, 6, 5, 2, 2,\n",
       "       1, 4, 4, 4, 6, 5, 5, 6, 3, 5, 6, 1, 1, 4, 2, 6, 5, 5, 6, 6, 3, 2,\n",
       "       5, 6, 5, 1, 5, 6, 1, 5, 6, 5, 2, 3, 1, 6, 5, 3, 5, 5, 6, 3, 2, 2,\n",
       "       5, 4, 4, 5, 5, 2, 5, 4, 3, 5, 1, 1, 1, 1, 2, 6, 2, 3, 3, 6, 6, 2,\n",
       "       2, 5, 6, 5, 4, 6, 3, 6, 6, 1, 4, 6, 3, 6, 5, 1, 4, 6, 3, 4, 3, 5,\n",
       "       3, 4, 1, 5, 5, 4, 4, 1, 4, 2, 4, 5, 5, 5, 5, 4, 4, 1, 1, 2, 6, 3,\n",
       "       5, 1, 1, 3, 3, 1, 1, 3, 1, 6, 6, 1, 5, 4, 1, 5, 4, 5, 5, 6, 5, 3,\n",
       "       4, 4, 1, 4, 4, 5, 3, 6, 1, 5, 6, 1, 3, 2, 1, 2, 1, 5, 1, 4, 4, 2,\n",
       "       6, 4, 6, 4, 2, 1, 4, 3, 6, 6, 5, 5, 1, 5, 1, 4, 3, 3, 2, 6, 4, 1,\n",
       "       2, 5, 6, 6, 3, 5, 3, 3, 6, 1, 2, 2, 2, 4, 1, 4, 1, 3, 4, 4, 3, 3,\n",
       "       6, 6, 1, 2, 5, 3, 1, 5, 1, 2, 4, 2, 3, 1, 5, 5, 6, 3, 1, 5, 6, 1,\n",
       "       3, 6, 2, 4, 3, 3, 6, 3, 6, 6, 3, 6, 4, 5, 1, 4, 2, 5, 1, 3, 3, 3,\n",
       "       2, 4, 6, 4, 1, 2, 3, 1, 2, 5, 1, 2, 6, 6, 6, 1, 2, 1, 3, 2, 1, 1,\n",
       "       2, 1, 1, 2, 3, 6, 5, 5, 6, 4, 5, 1, 2, 4, 1, 4, 6, 1, 1, 3, 4, 2,\n",
       "       5, 2, 4, 2, 5, 1, 1, 2, 2, 2, 2, 2, 4, 4, 2, 3, 3, 5, 2, 1, 2, 3,\n",
       "       5, 6, 6, 5, 6, 3, 6, 3, 4, 6, 4, 3, 4, 2, 6, 2, 4, 1, 2, 2, 1, 4,\n",
       "       3, 3, 5, 1, 3, 6, 1, 1, 4, 1, 4, 1, 5, 5, 1, 5, 6, 1, 1, 3, 5, 2,\n",
       "       2, 3, 5, 3, 5, 3, 5, 2, 6, 1, 4, 6, 2, 4, 3, 2, 4, 5, 2, 5, 3, 1,\n",
       "       2, 2, 3, 4, 4, 3, 4, 6, 6, 1, 4, 6, 3, 5, 3, 3, 2, 1, 3, 2, 2, 5,\n",
       "       1, 3, 3, 2, 3, 4, 2, 1, 3, 1, 6, 6, 3, 6, 6, 2, 2, 6, 6, 4, 5, 2,\n",
       "       1, 1, 2, 5, 2, 1, 2, 1, 1, 1, 4, 4, 4, 3, 6, 6, 1, 3, 5, 3, 6, 4,\n",
       "       5, 6, 6, 2, 5, 4, 4, 3, 2, 4, 6, 2, 3, 6, 1, 1, 3, 1, 5, 5, 4, 2,\n",
       "       2, 2, 5, 5, 3, 5, 3, 2, 2, 3, 5, 3, 5, 3, 4, 1, 1, 2, 5, 5, 3, 6,\n",
       "       5, 5, 2, 2, 4, 2, 4, 6, 2, 5, 3, 1, 4, 3, 3, 1, 6, 3, 2, 3, 3, 5,\n",
       "       6, 6, 5, 6, 3, 6, 3, 3, 4, 3, 4, 6, 3, 3, 5, 1, 5, 6, 1, 2, 2, 6,\n",
       "       5, 3, 3, 6, 2, 2, 3, 3, 5, 1, 2, 6, 5, 6, 4, 5, 6, 6, 4, 2, 4, 4,\n",
       "       4, 3, 3, 6, 3, 2, 3, 3, 2, 2, 6, 6, 3, 3, 6, 3, 4, 6, 5, 4, 4, 2,\n",
       "       6, 3, 2, 1, 1, 3, 2, 2, 4, 3, 3, 1, 6, 4, 6, 4, 1, 4, 5, 5, 3, 5,\n",
       "       2, 4, 3, 3, 1, 2, 6, 6, 5, 2, 4, 6, 1, 5, 3, 6, 6, 5, 4, 1, 2, 6,\n",
       "       6, 5, 1, 3, 5, 2, 1, 5, 4, 4, 2, 2, 4, 2, 4, 6, 1, 5, 1, 2, 6, 4,\n",
       "       5, 3, 3, 1, 4, 1, 2, 4, 2, 3, 1, 5, 4, 4, 3, 6, 1, 5, 3, 2, 1, 5,\n",
       "       3, 3, 3, 1, 4, 3, 6, 5, 4, 2, 1, 6, 2, 5, 3, 2, 3, 4, 6, 2, 5, 4,\n",
       "       5, 2, 1, 5, 3, 4, 4, 2, 1, 6, 6, 1, 4, 2, 5, 1, 1, 4, 5, 4, 6, 3,\n",
       "       1, 4, 2, 5, 1, 5, 5, 1, 2, 3, 4, 1, 4, 1, 2, 2, 3, 4, 4, 5, 3, 3,\n",
       "       2, 6, 3, 2, 3, 5, 5, 3, 5, 1, 1, 3, 3, 3, 2, 1, 5, 4, 4, 4, 5, 6,\n",
       "       4, 4, 1, 5, 3, 3, 5, 4, 4, 4, 5, 4, 1, 6, 5, 1, 5, 2, 1, 4, 5, 3,\n",
       "       4, 4, 1, 2, 3, 2, 5, 3, 3, 6, 3, 1, 1, 2, 2, 6, 4, 1, 3, 3, 4, 1,\n",
       "       5, 4, 3, 6, 3, 1, 2, 6, 6, 1, 3, 5, 5, 2, 5, 6, 6, 3, 4, 6, 6, 2,\n",
       "       6, 3, 6, 1, 5, 4, 1, 5, 6, 1, 5, 5, 3, 5, 5, 6, 1, 3, 2, 6, 6, 6,\n",
       "       2, 3, 3, 5, 4, 6, 5, 3, 2, 1, 2, 6, 3, 5, 6, 4, 2, 5, 2, 3, 3, 5,\n",
       "       5, 6, 2, 2, 2, 5, 6, 4, 2, 4, 3, 1, 5, 6, 6, 4, 3, 2, 3, 3, 4, 1,\n",
       "       6, 6, 4, 3, 1, 4, 4, 1, 2, 1, 2, 6, 6, 6, 3, 2, 1, 1, 4, 1, 3, 1,\n",
       "       1, 2, 2, 4, 2, 6, 4, 3, 4, 1, 6, 1, 5, 2, 6, 6, 2, 3, 4, 4, 2, 4,\n",
       "       1, 5, 4, 6, 2, 1, 4, 4, 3, 4])"
      ]
     },
     "execution_count": 20,
     "metadata": {},
     "output_type": "execute_result"
    }
   ],
   "source": [
    "#1 den 6 ya kadar zar atısı olarak rasgele 1000 tane sonuc uretelim\n",
    "# die_1 = zar_1\n",
    "np.random.seed(51)\n",
    "die_1 = np.random.randint(1,7, size =n)\n",
    "die_1"
   ]
  },
  {
   "cell_type": "code",
   "execution_count": 21,
   "id": "16804788",
   "metadata": {
    "ExecuteTime": {
     "end_time": "2023-07-02T23:16:49.480907Z",
     "start_time": "2023-07-02T23:16:49.462315Z"
    }
   },
   "outputs": [
    {
     "data": {
      "text/plain": [
       "array([4, 2, 1, 4, 4, 4, 2, 2, 6, 3, 2, 4, 2, 5, 4, 1, 3, 3, 5, 6, 2, 1,\n",
       "       6, 4, 4, 6, 5, 2, 3, 5, 4, 2, 5, 5, 4, 4, 4, 4, 2, 4, 1, 5, 5, 2,\n",
       "       4, 2, 4, 6, 6, 5, 2, 2, 6, 3, 2, 5, 2, 1, 4, 1, 5, 6, 3, 6, 4, 6,\n",
       "       2, 4, 3, 2, 4, 1, 5, 5, 4, 2, 2, 6, 3, 1, 4, 2, 4, 5, 5, 5, 3, 2,\n",
       "       3, 6, 6, 1, 2, 1, 4, 2, 3, 6, 6, 2, 2, 6, 1, 1, 6, 1, 5, 6, 1, 2,\n",
       "       3, 2, 1, 2, 5, 4, 5, 2, 3, 2, 5, 3, 2, 3, 3, 1, 1, 5, 6, 5, 1, 5,\n",
       "       4, 3, 5, 4, 4, 2, 2, 2, 3, 1, 1, 3, 4, 3, 3, 4, 2, 4, 5, 3, 4, 1,\n",
       "       5, 4, 5, 1, 3, 3, 4, 6, 1, 3, 1, 2, 6, 2, 2, 3, 5, 3, 6, 5, 6, 2,\n",
       "       6, 3, 1, 1, 5, 3, 3, 1, 5, 1, 2, 1, 4, 5, 3, 6, 4, 3, 5, 1, 6, 6,\n",
       "       2, 1, 1, 3, 1, 5, 2, 6, 2, 4, 6, 1, 5, 5, 6, 1, 1, 4, 2, 2, 6, 4,\n",
       "       5, 5, 6, 4, 5, 4, 1, 3, 1, 1, 1, 3, 5, 1, 6, 6, 4, 5, 5, 2, 2, 1,\n",
       "       6, 2, 5, 2, 5, 4, 4, 3, 5, 3, 2, 3, 4, 1, 5, 4, 3, 1, 2, 3, 6, 2,\n",
       "       1, 4, 6, 4, 6, 3, 2, 6, 4, 4, 6, 1, 1, 4, 3, 2, 5, 4, 3, 2, 3, 5,\n",
       "       3, 4, 6, 6, 3, 2, 5, 6, 4, 1, 2, 3, 4, 1, 6, 5, 5, 2, 4, 5, 2, 5,\n",
       "       1, 6, 6, 1, 6, 3, 1, 3, 3, 3, 3, 1, 6, 3, 3, 5, 6, 5, 1, 6, 1, 2,\n",
       "       2, 6, 6, 3, 2, 4, 2, 3, 4, 3, 5, 1, 6, 6, 3, 5, 6, 6, 2, 3, 5, 5,\n",
       "       3, 3, 3, 2, 1, 1, 1, 2, 3, 4, 4, 4, 1, 4, 1, 2, 2, 1, 5, 5, 3, 1,\n",
       "       6, 4, 6, 6, 2, 5, 4, 5, 5, 2, 4, 6, 5, 2, 4, 6, 5, 5, 4, 4, 3, 1,\n",
       "       1, 2, 2, 5, 3, 2, 2, 3, 3, 6, 6, 6, 1, 5, 1, 6, 6, 3, 3, 6, 1, 5,\n",
       "       6, 6, 2, 5, 3, 1, 2, 4, 1, 2, 5, 5, 1, 1, 5, 2, 3, 3, 6, 1, 3, 5,\n",
       "       4, 4, 4, 5, 3, 6, 5, 5, 4, 2, 5, 5, 6, 6, 5, 1, 5, 3, 5, 3, 5, 6,\n",
       "       6, 5, 1, 5, 2, 1, 1, 1, 2, 6, 6, 1, 3, 4, 1, 5, 1, 1, 2, 4, 3, 6,\n",
       "       6, 5, 2, 1, 2, 5, 2, 3, 6, 6, 1, 1, 3, 1, 1, 3, 1, 2, 1, 6, 5, 6,\n",
       "       2, 6, 3, 6, 4, 3, 1, 6, 4, 5, 2, 6, 1, 2, 4, 2, 6, 6, 4, 6, 1, 4,\n",
       "       2, 4, 2, 5, 1, 5, 3, 3, 1, 5, 5, 6, 5, 4, 2, 4, 2, 6, 3, 4, 6, 3,\n",
       "       5, 4, 1, 6, 1, 2, 6, 1, 5, 5, 2, 2, 1, 5, 4, 6, 3, 2, 1, 1, 3, 1,\n",
       "       4, 3, 2, 4, 3, 1, 5, 1, 3, 5, 5, 3, 3, 1, 2, 4, 6, 3, 6, 2, 2, 6,\n",
       "       1, 4, 1, 4, 1, 6, 5, 1, 2, 3, 4, 2, 6, 5, 3, 5, 2, 3, 4, 4, 6, 1,\n",
       "       5, 3, 3, 1, 2, 1, 2, 6, 4, 3, 6, 6, 3, 4, 6, 2, 5, 1, 4, 1, 3, 4,\n",
       "       1, 2, 3, 2, 6, 2, 1, 2, 5, 6, 5, 6, 3, 5, 6, 4, 1, 3, 2, 4, 6, 4,\n",
       "       5, 1, 2, 1, 1, 1, 3, 3, 3, 3, 6, 3, 1, 4, 1, 6, 6, 5, 5, 6, 6, 4,\n",
       "       1, 1, 1, 6, 3, 5, 4, 2, 5, 1, 4, 4, 1, 4, 2, 1, 1, 1, 5, 3, 1, 6,\n",
       "       2, 4, 4, 3, 1, 2, 4, 5, 5, 1, 3, 4, 3, 6, 1, 6, 2, 2, 2, 2, 5, 1,\n",
       "       4, 6, 5, 3, 6, 6, 5, 5, 1, 1, 3, 4, 2, 6, 5, 5, 3, 4, 5, 1, 4, 3,\n",
       "       2, 2, 6, 2, 6, 1, 3, 3, 2, 4, 3, 4, 2, 3, 2, 2, 6, 2, 1, 4, 2, 1,\n",
       "       4, 5, 1, 1, 5, 5, 5, 6, 2, 5, 5, 3, 5, 1, 3, 3, 5, 6, 1, 5, 3, 6,\n",
       "       4, 2, 4, 2, 2, 1, 4, 4, 6, 1, 4, 4, 1, 4, 2, 4, 1, 3, 1, 4, 4, 2,\n",
       "       6, 6, 3, 3, 6, 1, 2, 5, 4, 3, 4, 4, 6, 6, 6, 3, 3, 4, 6, 4, 3, 5,\n",
       "       5, 1, 1, 2, 6, 3, 5, 6, 4, 4, 4, 6, 4, 2, 5, 1, 5, 1, 6, 2, 1, 3,\n",
       "       1, 5, 5, 2, 3, 3, 2, 4, 5, 1, 6, 4, 6, 3, 4, 5, 6, 2, 6, 3, 1, 2,\n",
       "       5, 4, 5, 6, 4, 1, 2, 1, 4, 3, 2, 4, 3, 6, 1, 1, 5, 1, 5, 3, 4, 6,\n",
       "       1, 1, 1, 2, 5, 4, 2, 1, 2, 3, 3, 5, 6, 2, 6, 2, 1, 4, 2, 6, 6, 3,\n",
       "       4, 5, 5, 5, 2, 2, 4, 6, 4, 2, 3, 5, 2, 5, 6, 2, 2, 2, 6, 6, 1, 1,\n",
       "       4, 3, 2, 2, 3, 1, 4, 5, 6, 2, 6, 2, 3, 4, 1, 3, 1, 1, 4, 1, 2, 4,\n",
       "       3, 1, 3, 5, 3, 2, 2, 3, 2, 6, 4, 4, 2, 3, 5, 3, 4, 1, 2, 3, 2, 3,\n",
       "       6, 3, 2, 2, 4, 4, 4, 2, 4, 6])"
      ]
     },
     "execution_count": 21,
     "metadata": {},
     "output_type": "execute_result"
    }
   ],
   "source": [
    "# 2.zar atışını simüle edelim\n",
    "#1 den 6 ya kadar zar atısı olarak rasgele 1000 tane sonuc uretelim\n",
    "# die_2 = zar_2\n",
    "\n",
    "np.random.seed(81)\n",
    "die_2 = np.random.randint(1,7, size =n)\n",
    "die_2\n"
   ]
  },
  {
   "cell_type": "code",
   "execution_count": 22,
   "id": "fb75bb5d",
   "metadata": {
    "ExecuteTime": {
     "end_time": "2023-07-02T23:16:49.682497Z",
     "start_time": "2023-07-02T23:16:49.675032Z"
    }
   },
   "outputs": [],
   "source": [
    "# 2 adet array elde ettik"
   ]
  },
  {
   "cell_type": "code",
   "execution_count": 23,
   "id": "d7986618",
   "metadata": {
    "ExecuteTime": {
     "end_time": "2023-07-02T23:16:49.915631Z",
     "start_time": "2023-07-02T23:16:49.899430Z"
    }
   },
   "outputs": [
    {
     "data": {
      "text/plain": [
       "array([ 6,  8,  2,  6, 10,  5,  8,  7,  8,  9,  5, 10,  7, 10,  9,  6,  7,\n",
       "        7, 10,  9,  7,  4,  8,  6, 10, 11,  6,  3,  4, 11,  9,  7, 11,  7,\n",
       "        7,  8,  8,  9,  8,  8,  5, 11,  6,  5, 10,  4,  8, 12, 12,  6,  4,\n",
       "        8, 12,  9,  4, 10,  4,  3,  8,  5,  8, 10,  9, 11,  6,  8,  3,  8,\n",
       "        7,  6, 10,  6, 10, 11,  7,  7,  8,  7,  4,  5,  6,  8,  9, 10, 11,\n",
       "       11,  6,  4,  8, 12, 11,  2,  7,  7,  5,  7,  9, 11,  8,  5,  3, 12,\n",
       "        6,  4, 11,  6, 11,  9,  3,  4,  8,  6,  5,  7, 10,  6, 10,  6,  6,\n",
       "        7,  6,  4,  3,  4,  5,  7,  3,  8,  9, 11,  7,  7,  6,  8, 11,  9,\n",
       "        8,  8,  5,  8,  9,  2,  5,  9,  7,  9,  8,  5,  6, 10,  8,  7,  7,\n",
       "        6,  8,  8,  6,  6,  8,  7,  8,  7,  5,  5,  5,  7, 11,  7,  7,  7,\n",
       "        9,  4,  7,  7, 12,  5, 11,  4,  2,  4,  8,  4,  4,  4,  6,  7,  8,\n",
       "        2,  9,  9,  4, 11,  8,  8, 10,  7, 11,  9,  6,  5,  2,  7,  5, 10,\n",
       "        5, 12,  3,  9, 12,  2,  8,  7,  7,  3,  2,  9,  3,  6, 10,  6, 11,\n",
       "        9, 12,  8,  7,  5,  5,  6,  7,  7,  6,  8,  6,  6,  7, 10,  7,  8,\n",
       "        7,  8,  6,  2,  8,  7, 11,  8,  8,  9,  7,  6, 11,  4,  4,  5,  6,\n",
       "        5,  6,  8,  4,  4,  6,  7,  9,  5,  7, 10,  7,  6, 11,  6,  3, 11,\n",
       "        5,  6, 10,  3,  4,  5,  8,  7, 11,  7,  4,  7,  9,  6,  6, 10,  8,\n",
       "       10,  6,  5, 11,  9, 10,  7,  5,  9,  8,  6,  7,  9,  7,  7,  5,  8,\n",
       "        5,  8,  3, 10, 12,  5,  7,  5,  4,  4,  5,  8,  4,  3, 12,  9,  9,\n",
       "        6,  8,  6,  4,  8,  2,  3,  4,  7,  7,  5,  5, 10,  7,  8, 10,  7,\n",
       "       10,  2,  8, 10,  4,  9, 12,  7,  3,  6,  9,  7,  8,  5,  7,  4,  6,\n",
       "        2,  2,  4,  5,  6,  6,  6,  5,  8,  3,  5,  5,  6,  7,  6,  5,  4,\n",
       "       11, 10, 12, 11,  8,  8, 10,  8,  9,  8,  8,  9,  9,  4, 10,  8,  9,\n",
       "        6,  6,  6,  4,  5,  4,  5,  7,  6,  6,  8,  3,  4,  7,  7, 10,  7,\n",
       "        6, 10,  2, 11, 12,  4,  4,  9,  6,  7,  8,  9,  7,  8,  8,  4,  7,\n",
       "        6,  7,  3,  9, 11,  3,  5,  8,  4,  7,  8,  8,  6,  6,  6,  6,  6,\n",
       "        7,  9,  7,  9,  9, 11, 10,  3,  9, 11,  9, 11,  8,  4,  7,  4,  8,\n",
       "        5,  7, 11,  7,  8,  4,  7,  5,  5,  3,  2,  5,  7, 12,  7,  6, 10,\n",
       "        7,  7,  3,  7,  8,  8,  8,  8,  7,  6,  4,  6,  4,  6,  4,  4,  7,\n",
       "        7,  5,  5,  7,  4,  7,  9,  2,  5,  6,  9, 11, 10,  7, 12,  9,  8,\n",
       "        9,  7,  5,  9,  6,  9,  8,  8,  4,  8,  5,  3,  9,  7,  9, 11,  5,\n",
       "        6,  4,  6,  7, 10,  4, 10,  6,  5,  3,  8, 10,  9, 10,  7,  6,  5,\n",
       "        3,  8,  8,  9,  9,  9, 10,  9,  3,  8,  5,  4, 10,  7,  7, 10,  5,\n",
       "        3,  5,  8,  7,  7,  9,  5,  3,  4,  6,  6, 10,  9,  7, 10,  6,  7,\n",
       "        8,  4,  7,  8,  9,  9,  6,  4,  7,  5, 11,  9,  7,  4,  4, 12,  6,\n",
       "        7,  4, 10,  3,  8,  8,  4,  7,  4,  6,  8, 11, 11,  7, 10,  8,  9,\n",
       "        8,  6, 10,  5,  9,  6,  6,  7,  5,  3,  5,  9,  6,  5, 12, 12,  6,\n",
       "        7, 12,  5,  9,  7,  9,  5,  7,  6,  7,  5,  5,  3,  7,  5,  3,  4,\n",
       "        9,  9,  8,  7,  9,  9, 12,  8,  2,  7,  7,  9,  9,  9,  7,  5,  5,\n",
       "        4,  2,  3,  9,  9,  8,  5, 10,  9,  2,  9,  4, 12, 12, 10,  9,  7,\n",
       "        8, 10,  7,  6,  2,  9,  8,  7,  5,  7,  9,  5,  6,  6,  5,  6,  6,\n",
       "        7,  2,  6,  6,  5,  7, 10,  7,  7,  7,  4,  5,  3,  6,  9,  7,  4,\n",
       "        4,  9,  7, 10,  4, 12,  3,  7,  5,  4,  6,  6,  7,  9,  8,  4, 10,\n",
       "        9, 11, 10,  5,  3,  4, 10,  4, 11,  8,  7,  6,  8, 11,  3,  9,  7,\n",
       "        7,  4,  7,  7,  9,  5,  7,  5,  3, 10,  9,  5,  6,  5,  7,  3,  7,\n",
       "        6,  6,  8,  8,  4,  5,  9,  3,  6,  6, 10, 10,  7,  4,  8,  9,  4,\n",
       "        9,  2,  5,  5,  8, 10,  5, 10,  6,  9,  6,  8,  7,  4,  5,  6,  9,\n",
       "        7, 11,  2,  5,  7,  4,  7,  4,  5,  6,  7,  5,  8,  9,  8, 10, 10,\n",
       "        4,  8,  9,  4,  7,  9,  8,  7,  9,  8,  7, 12, 11,  4,  8,  6,  7,\n",
       "        8,  8,  8,  9,  5,  2,  4,  9,  5, 10,  9,  7, 10,  7,  7,  5,  4,\n",
       "        7,  7,  9,  2,  9,  5,  5,  4,  6,  9,  8,  8,  6,  4,  4, 10, 11,\n",
       "        2,  9,  9, 11,  5,  9, 11, 12,  5, 10,  9,  7,  4, 11,  7, 11,  7,\n",
       "        9,  5,  3,  6, 10,  4,  7,  9,  6, 11,  6,  7,  6,  4,  7,  9, 10,\n",
       "       12,  3,  4,  4,  7,  9, 10,  7,  4,  4,  4,  5, 11,  9,  7, 12,  6,\n",
       "        3,  9,  4,  9,  9,  8,  9, 11,  7,  7,  4,  7, 10, 10,  6,  6,  6,\n",
       "        6,  7, 11, 12,  6,  5,  4,  9,  9,  5,  2, 10,  9,  6,  5,  4,  5,\n",
       "        8,  6,  8,  3,  8,  8,  9, 10,  4,  5,  2,  2,  8,  2,  5,  5,  4,\n",
       "        3,  5,  9,  5,  8,  6,  6,  6,  7, 10,  5,  7,  5, 11,  9,  6,  4,\n",
       "        6,  7,  4,  7,  7,  8,  6,  8,  6,  5,  8,  6,  7, 10])"
      ]
     },
     "execution_count": 23,
     "metadata": {},
     "output_type": "execute_result"
    }
   ],
   "source": [
    "# ustteki 2 array i topladık\n",
    "\n",
    "X = die_1 + die_2\n",
    "X"
   ]
  },
  {
   "cell_type": "code",
   "execution_count": 24,
   "id": "e9e1cf8d",
   "metadata": {
    "ExecuteTime": {
     "end_time": "2023-07-02T23:16:50.132192Z",
     "start_time": "2023-07-02T23:16:50.114523Z"
    }
   },
   "outputs": [
    {
     "data": {
      "text/html": [
       "<div>\n",
       "<style scoped>\n",
       "    .dataframe tbody tr th:only-of-type {\n",
       "        vertical-align: middle;\n",
       "    }\n",
       "\n",
       "    .dataframe tbody tr th {\n",
       "        vertical-align: top;\n",
       "    }\n",
       "\n",
       "    .dataframe thead th {\n",
       "        text-align: right;\n",
       "    }\n",
       "</style>\n",
       "<table border=\"1\" class=\"dataframe\">\n",
       "  <thead>\n",
       "    <tr style=\"text-align: right;\">\n",
       "      <th></th>\n",
       "      <th>die_1</th>\n",
       "      <th>die_2</th>\n",
       "      <th>X</th>\n",
       "    </tr>\n",
       "  </thead>\n",
       "  <tbody>\n",
       "    <tr>\n",
       "      <th>0</th>\n",
       "      <td>2</td>\n",
       "      <td>4</td>\n",
       "      <td>6</td>\n",
       "    </tr>\n",
       "    <tr>\n",
       "      <th>1</th>\n",
       "      <td>6</td>\n",
       "      <td>2</td>\n",
       "      <td>8</td>\n",
       "    </tr>\n",
       "    <tr>\n",
       "      <th>2</th>\n",
       "      <td>1</td>\n",
       "      <td>1</td>\n",
       "      <td>2</td>\n",
       "    </tr>\n",
       "    <tr>\n",
       "      <th>3</th>\n",
       "      <td>2</td>\n",
       "      <td>4</td>\n",
       "      <td>6</td>\n",
       "    </tr>\n",
       "    <tr>\n",
       "      <th>4</th>\n",
       "      <td>6</td>\n",
       "      <td>4</td>\n",
       "      <td>10</td>\n",
       "    </tr>\n",
       "    <tr>\n",
       "      <th>5</th>\n",
       "      <td>1</td>\n",
       "      <td>4</td>\n",
       "      <td>5</td>\n",
       "    </tr>\n",
       "    <tr>\n",
       "      <th>6</th>\n",
       "      <td>6</td>\n",
       "      <td>2</td>\n",
       "      <td>8</td>\n",
       "    </tr>\n",
       "    <tr>\n",
       "      <th>7</th>\n",
       "      <td>5</td>\n",
       "      <td>2</td>\n",
       "      <td>7</td>\n",
       "    </tr>\n",
       "    <tr>\n",
       "      <th>8</th>\n",
       "      <td>2</td>\n",
       "      <td>6</td>\n",
       "      <td>8</td>\n",
       "    </tr>\n",
       "    <tr>\n",
       "      <th>9</th>\n",
       "      <td>6</td>\n",
       "      <td>3</td>\n",
       "      <td>9</td>\n",
       "    </tr>\n",
       "    <tr>\n",
       "      <th>10</th>\n",
       "      <td>3</td>\n",
       "      <td>2</td>\n",
       "      <td>5</td>\n",
       "    </tr>\n",
       "    <tr>\n",
       "      <th>11</th>\n",
       "      <td>6</td>\n",
       "      <td>4</td>\n",
       "      <td>10</td>\n",
       "    </tr>\n",
       "    <tr>\n",
       "      <th>12</th>\n",
       "      <td>5</td>\n",
       "      <td>2</td>\n",
       "      <td>7</td>\n",
       "    </tr>\n",
       "    <tr>\n",
       "      <th>13</th>\n",
       "      <td>5</td>\n",
       "      <td>5</td>\n",
       "      <td>10</td>\n",
       "    </tr>\n",
       "    <tr>\n",
       "      <th>14</th>\n",
       "      <td>5</td>\n",
       "      <td>4</td>\n",
       "      <td>9</td>\n",
       "    </tr>\n",
       "    <tr>\n",
       "      <th>15</th>\n",
       "      <td>5</td>\n",
       "      <td>1</td>\n",
       "      <td>6</td>\n",
       "    </tr>\n",
       "    <tr>\n",
       "      <th>16</th>\n",
       "      <td>4</td>\n",
       "      <td>3</td>\n",
       "      <td>7</td>\n",
       "    </tr>\n",
       "    <tr>\n",
       "      <th>17</th>\n",
       "      <td>4</td>\n",
       "      <td>3</td>\n",
       "      <td>7</td>\n",
       "    </tr>\n",
       "    <tr>\n",
       "      <th>18</th>\n",
       "      <td>5</td>\n",
       "      <td>5</td>\n",
       "      <td>10</td>\n",
       "    </tr>\n",
       "    <tr>\n",
       "      <th>19</th>\n",
       "      <td>3</td>\n",
       "      <td>6</td>\n",
       "      <td>9</td>\n",
       "    </tr>\n",
       "  </tbody>\n",
       "</table>\n",
       "</div>"
      ],
      "text/plain": [
       "    die_1  die_2   X\n",
       "0       2      4   6\n",
       "1       6      2   8\n",
       "2       1      1   2\n",
       "3       2      4   6\n",
       "4       6      4  10\n",
       "5       1      4   5\n",
       "6       6      2   8\n",
       "7       5      2   7\n",
       "8       2      6   8\n",
       "9       6      3   9\n",
       "10      3      2   5\n",
       "11      6      4  10\n",
       "12      5      2   7\n",
       "13      5      5  10\n",
       "14      5      4   9\n",
       "15      5      1   6\n",
       "16      4      3   7\n",
       "17      4      3   7\n",
       "18      5      5  10\n",
       "19      3      6   9"
      ]
     },
     "execution_count": 24,
     "metadata": {},
     "output_type": "execute_result"
    }
   ],
   "source": [
    "# data frame uzerinden sonucları gorelim\n",
    "\n",
    "df = pd.DataFrame({\"die_1\": die_1,\"die_2\": die_2,\"X\": X })\n",
    "df.head(20)"
   ]
  },
  {
   "cell_type": "code",
   "execution_count": 25,
   "id": "7897eccc",
   "metadata": {
    "ExecuteTime": {
     "end_time": "2023-07-02T23:16:50.351134Z",
     "start_time": "2023-07-02T23:16:50.342977Z"
    }
   },
   "outputs": [
    {
     "data": {
      "text/plain": [
       "104"
      ]
     },
     "execution_count": 25,
     "metadata": {},
     "output_type": "execute_result"
    }
   ],
   "source": [
    "# X = 4 eglme olasılıgını hesaplayalım..  \n",
    "# iki zar toplamının 4 olma olasılıgı\n",
    "\n",
    "total_four = df[df.X ==4]\n",
    "len(total_four)"
   ]
  },
  {
   "cell_type": "code",
   "execution_count": 26,
   "id": "9fd8ef7f",
   "metadata": {
    "ExecuteTime": {
     "end_time": "2023-07-02T23:16:50.569850Z",
     "start_time": "2023-07-02T23:16:50.561619Z"
    }
   },
   "outputs": [
    {
     "data": {
      "text/plain": [
       "0.104"
      ]
     },
     "execution_count": 26,
     "metadata": {},
     "output_type": "execute_result"
    }
   ],
   "source": [
    "p = len(total_four)/len(df)\n",
    "p"
   ]
  },
  {
   "cell_type": "code",
   "execution_count": 27,
   "id": "4d980605",
   "metadata": {
    "ExecuteTime": {
     "end_time": "2023-07-02T23:16:50.789293Z",
     "start_time": "2023-07-02T23:16:50.786097Z"
    }
   },
   "outputs": [],
   "source": [
    "# teorik olarak frekans 1/12 = 0.08333 olmalı idi ama burada 0.104 elde edildi\n",
    "# n=10 000 olarak yeniden degerlendirilirse teorik rakama yaklaşılmış olur\n",
    "\n",
    "# n=10 000 yapıldıgı zaman olasılık 0.0874 elde edildi..\n",
    "\n",
    "## eger n = 100.000 olursa p=0,08207 olur ve daha da yaklaşmış olur\n",
    "\n",
    "## eger n = 1.000.000 olursa p=0,08359  olur ve çok daha da yaklaşmış olur\n",
    "\n",
    "# buna law of large numbers denir"
   ]
  },
  {
   "cell_type": "code",
   "execution_count": 28,
   "id": "63f81013",
   "metadata": {
    "ExecuteTime": {
     "end_time": "2023-07-02T23:17:42.371951Z",
     "start_time": "2023-07-02T23:17:42.349742Z"
    }
   },
   "outputs": [
    {
     "data": {
      "text/plain": [
       "7     170\n",
       "6     131\n",
       "8     125\n",
       "9     122\n",
       "5     114\n",
       "4     104\n",
       "10     76\n",
       "11     53\n",
       "3      46\n",
       "2      30\n",
       "12     29\n",
       "Name: X, dtype: int64"
      ]
     },
     "execution_count": 28,
     "metadata": {},
     "output_type": "execute_result"
    }
   ],
   "source": [
    "# 2 zar toplmaının frekanslarını bulalım\n",
    "\n",
    "freq = df.X.value_counts()\n",
    "freq"
   ]
  },
  {
   "cell_type": "code",
   "execution_count": 29,
   "id": "50146839",
   "metadata": {
    "ExecuteTime": {
     "end_time": "2023-07-02T23:18:45.434661Z",
     "start_time": "2023-07-02T23:18:45.109039Z"
    }
   },
   "outputs": [
    {
     "data": {
      "image/png": "[encoded data removed]",
      "text/plain": [
       "<Figure size 640x480 with 1 Axes>"
      ]
     },
     "metadata": {},
     "output_type": "display_data"
    }
   ],
   "source": [
    "# frekans degerlerini grafize edelim\n",
    "\n",
    "%matplotlib inline\n",
    "freq.sort_index().plot(kind = \"bar\", grid = True);"
   ]
  },
  {
   "cell_type": "code",
   "execution_count": 30,
   "id": "d05de13d",
   "metadata": {
    "ExecuteTime": {
     "end_time": "2023-07-02T23:19:37.050605Z",
     "start_time": "2023-07-02T23:19:37.017515Z"
    }
   },
   "outputs": [
    {
     "data": {
      "text/plain": [
       "7     0.170\n",
       "6     0.131\n",
       "8     0.125\n",
       "9     0.122\n",
       "5     0.114\n",
       "4     0.104\n",
       "10    0.076\n",
       "11    0.053\n",
       "3     0.046\n",
       "2     0.030\n",
       "12    0.029\n",
       "Name: X, dtype: float64"
      ]
     },
     "execution_count": 30,
     "metadata": {},
     "output_type": "execute_result"
    }
   ],
   "source": [
    "# gorecelei frekansları hesaplayalım\n",
    "\n",
    "prob = df.X.value_counts() / n\n",
    "prob"
   ]
  },
  {
   "cell_type": "code",
   "execution_count": 31,
   "id": "66546787",
   "metadata": {
    "ExecuteTime": {
     "end_time": "2023-07-02T23:20:12.393403Z",
     "start_time": "2023-07-02T23:20:12.242259Z"
    }
   },
   "outputs": [
    {
     "data": {
      "image/png": "[encoded data removed]",
      "text/plain": [
       "<Figure size 640x480 with 1 Axes>"
      ]
     },
     "metadata": {},
     "output_type": "display_data"
    }
   ],
   "source": [
    "#ustteki olasılıkları grafize edelim\n",
    "\n",
    "%matplotlib inline\n",
    "prob.sort_index().plot(kind = \"bar\", grid = True);"
   ]
  },
  {
   "cell_type": "code",
   "execution_count": null,
   "id": "522aa56c",
   "metadata": {},
   "outputs": [],
   "source": []
  },
  {
   "cell_type": "code",
   "execution_count": null,
   "id": "c2b5845a",
   "metadata": {},
   "outputs": [],
   "source": []
  },
  {
   "cell_type": "code",
   "execution_count": null,
   "id": "3f0c680b",
   "metadata": {},
   "outputs": [],
   "source": []
  },
  {
   "cell_type": "code",
   "execution_count": null,
   "id": "84b6b02c",
   "metadata": {},
   "outputs": [],
   "source": []
  },
  {
   "cell_type": "code",
   "execution_count": null,
   "id": "1f0232d0",
   "metadata": {},
   "outputs": [],
   "source": []
  },
  {
   "cell_type": "code",
   "execution_count": null,
   "id": "61d27192",
   "metadata": {},
   "outputs": [],
   "source": []
  }
 ],
 "metadata": {
  "hide_input": false,
  "kernelspec": {
   "display_name": "Python 3 (ipykernel)",
   "language": "python",
   "name": "python3"
  },
  "language_info": {
   "codemirror_mode": {
    "name": "ipython",
    "version": 3
   },
   "file_extension": ".py",
   "mimetype": "text/x-python",
   "name": "python",
   "nbconvert_exporter": "python",
   "pygments_lexer": "ipython3",
   "version": "3.9.13"
  },
  "nbTranslate": {
   "displayLangs": [
    "*"
   ],
   "hotkey": "alt-t",
   "langInMainMenu": true,
   "sourceLang": "en",
   "targetLang": "fr",
   "useGoogleTranslate": true
  },
  "toc": {
   "base_numbering": 1,
   "nav_menu": {},
   "number_sections": true,
   "sideBar": true,
   "skip_h1_title": false,
   "title_cell": "Table of Contents",
   "title_sidebar": "Contents",
   "toc_cell": false,
   "toc_position": {},
   "toc_section_display": true,
   "toc_window_display": false
  },
  "varInspector": {
   "cols": {
    "lenName": 16,
    "lenType": 16,
    "lenVar": 40
   },
   "kernels_config": {
    "python": {
     "delete_cmd_postfix": "",
     "delete_cmd_prefix": "del ",
     "library": "var_list.py",
     "varRefreshCmd": "print(var_dic_list())"
    },
    "r": {
     "delete_cmd_postfix": ") ",
     "delete_cmd_prefix": "rm(",
     "library": "var_list.r",
     "varRefreshCmd": "cat(var_dic_list()) "
    }
   },
   "types_to_exclude": [
    "module",
    "function",
    "builtin_function_or_method",
    "instance",
    "_Feature"
   ],
   "window_display": false
  }
 },
 "nbformat": 4,
 "nbformat_minor": 5
}
